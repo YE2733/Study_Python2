{
 "cells": [
  {
   "cell_type": "markdown",
   "id": "a3e32a09",
   "metadata": {},
   "source": [
    "### 파이썬 기초"
   ]
  },
  {
   "cell_type": "code",
   "execution_count": null,
   "id": "a32f3b0a",
   "metadata": {},
   "outputs": [],
   "source": [
    "'''\n",
    "[문제]\n",
    "dict_val이라는 딕셔너리 변수에\n",
    "아래 값을 넣기\n",
    "a키에는 리스트 \"aa\", \"bb\", \"cc\" 넣기\n",
    "b키에는 리스트 \"a\", \"b\", \"c\" 넣기\n",
    "\n",
    "dict_val에 들어있는 키값에 대한 리스트 출력하기\n",
    "'''"
   ]
  },
  {
   "cell_type": "code",
   "execution_count": 3,
   "id": "5bf5f673",
   "metadata": {},
   "outputs": [],
   "source": [
    "dict_val = {'a':['aa','bb','cc'], 'b':['a','b','c']}"
   ]
  },
  {
   "cell_type": "code",
   "execution_count": 4,
   "id": "f7cd4113",
   "metadata": {},
   "outputs": [
    {
     "name": "stdout",
     "output_type": "stream",
     "text": [
      "['aa', 'bb', 'cc']\n",
      "['a', 'b', 'c']\n"
     ]
    }
   ],
   "source": [
    "print(dict_val[\"a\"])\n",
    "print(dict_val[\"b\"])"
   ]
  },
  {
   "cell_type": "code",
   "execution_count": 5,
   "id": "1a2b22fa",
   "metadata": {},
   "outputs": [
    {
     "name": "stdout",
     "output_type": "stream",
     "text": [
      "['aa', 'bb', 'cc']\n",
      "['a', 'b', 'c']\n"
     ]
    }
   ],
   "source": [
    "# 강사님 답\n",
    "for k in dict_val:\n",
    "    print(dict_val[k])   "
   ]
  },
  {
   "cell_type": "code",
   "execution_count": 6,
   "id": "5773e204",
   "metadata": {},
   "outputs": [
    {
     "name": "stdout",
     "output_type": "stream",
     "text": [
      "['aa', 'bb', 'cc']\n",
      "aa\n",
      "bb\n",
      "cc\n",
      "aa\n",
      "bb\n",
      "cc\n",
      "aa\n",
      "bb\n",
      "cc\n",
      "cc\n",
      "cc\n",
      "cc\n",
      "['a', 'b', 'c']\n",
      "a\n",
      "b\n",
      "c\n",
      "a\n",
      "b\n",
      "c\n",
      "a\n",
      "b\n",
      "c\n",
      "c\n",
      "c\n",
      "c\n"
     ]
    }
   ],
   "source": [
    "for k in dict_val:\n",
    "    # key값 가져오기\n",
    "    print(dict_val[k])\n",
    "    list_val = dict_val[k]\n",
    "    # 리스트의 값을 이용하는 방식\n",
    "    for val in dict_val[k]:\n",
    "        print(val)\n",
    "    #리스트의 인덱스번호를 이용하는 방식\n",
    "    for i in range(0, len(dict_val[k])):\n",
    "        print(dict_val[k][i])\n",
    "    \n",
    "    #list_val로 변수 선언 후 값을 이용한 방식\n",
    "    for val in list_val:\n",
    "        print(val)\n",
    "    #list_val로 변수 선언 후 인덱스번호를 이용한 방식    \n",
    "    for val in range(0,len(list_val)):\n",
    "        print(list_val[i])"
   ]
  },
  {
   "cell_type": "code",
   "execution_count": 77,
   "id": "ef4fa3f8",
   "metadata": {},
   "outputs": [
    {
     "data": {
      "text/plain": [
       "'\\nlist_val 이라는 리스트 변수에 딕셔너리 값을 넣겠습니다\\n첫번째 리스트에는 a가, 값은 리스트 \"aa\",\"bb\",\"cc\" 넣기\\n두번째 리스트에는 b가, 값은 리스트 \"a\",\"b\",\"c\" 넣기\\n'"
      ]
     },
     "execution_count": 77,
     "metadata": {},
     "output_type": "execute_result"
    }
   ],
   "source": [
    "'''\n",
    "list_val 이라는 리스트 변수에 딕셔너리 값을 넣겠습니다\n",
    "첫번째 리스트에는 a가, 값은 리스트 \"aa\",\"bb\",\"cc\" 넣기\n",
    "두번째 리스트에는 b가, 값은 리스트 \"a\",\"b\",\"c\" 넣기\n",
    "'''"
   ]
  },
  {
   "cell_type": "code",
   "execution_count": 7,
   "id": "8efbfe55",
   "metadata": {},
   "outputs": [
    {
     "data": {
      "text/plain": [
       "[{'a': ['aa', 'bb', 'cc']}, {'b': ['a', 'b', 'c']}]"
      ]
     },
     "execution_count": 7,
     "metadata": {},
     "output_type": "execute_result"
    }
   ],
   "source": [
    "list_val = [{\"a\" : [\"aa\",\"bb\",\"cc\"]},\n",
    "            {\"b\" : [\"a\",\"b\",\"c\"]}]\n",
    "list_val"
   ]
  },
  {
   "cell_type": "code",
   "execution_count": 8,
   "id": "9622bf00",
   "metadata": {},
   "outputs": [
    {
     "data": {
      "text/plain": [
       "[{'a': ['aa', 'bb', 'cc']}, {'b': ['a', 'b', 'c']}]"
      ]
     },
     "execution_count": 8,
     "metadata": {},
     "output_type": "execute_result"
    }
   ],
   "source": [
    "dict1 = {\"a\" : [\"aa\",\"bb\",\"cc\"]}\n",
    "dict2 = {\"b\" : [\"a\",\"b\",\"c\"]}\n",
    "list_val2 = [dict1, dict2]\n",
    "list_val2"
   ]
  },
  {
   "cell_type": "code",
   "execution_count": 90,
   "id": "97fa5f94",
   "metadata": {},
   "outputs": [],
   "source": [
    "#list_val에 들어있는 딕셔너리의 키에 대응하는 값들을 모두 출력해 주세요"
   ]
  },
  {
   "cell_type": "code",
   "execution_count": 9,
   "id": "205ff4c4",
   "metadata": {},
   "outputs": [
    {
     "name": "stdout",
     "output_type": "stream",
     "text": [
      "{'a': ['aa', 'bb', 'cc']}\n",
      "['aa', 'bb', 'cc']\n",
      "aa\n",
      "-------------\n",
      "a\n",
      "-------------\n",
      "bb\n",
      "-------------\n",
      "b\n",
      "-------------\n",
      "cc\n",
      "-------------\n",
      "c\n",
      "-------------\n",
      "{'b': ['a', 'b', 'c']}\n",
      "['a', 'b', 'c']\n",
      "a\n",
      "-------------\n",
      "a\n",
      "-------------\n",
      "b\n",
      "-------------\n",
      "b\n",
      "-------------\n",
      "c\n",
      "-------------\n",
      "c\n",
      "-------------\n"
     ]
    }
   ],
   "source": [
    "for d in list_val:\n",
    "    print(d)\n",
    "    \n",
    "    for k in d:\n",
    "        print(d[k])\n",
    "        \n",
    "        for v in d[k]:\n",
    "            print(v)\n",
    "            print(v[0])\n"
   ]
  },
  {
   "cell_type": "code",
   "execution_count": 126,
   "id": "cc87d3c8",
   "metadata": {},
   "outputs": [],
   "source": [
    "#위에 list_val에 들어있는 딕셔너리의 키에 대응하는 값 중에\n",
    "# \"b\"라는 단어가 들어 있으면 해당 키에 대응하는 값을\n",
    "# list_temp라는 리스트변수에 담아주세요\n",
    "#list_temp에 값이 잘 담겨져 있는지 출력하기"
   ]
  },
  {
   "cell_type": "code",
   "execution_count": 14,
   "id": "37426bb2",
   "metadata": {},
   "outputs": [
    {
     "name": "stdout",
     "output_type": "stream",
     "text": [
      "{'a': ['aa', 'bb', 'cc']}\n",
      "['aa', 'bb', 'cc']\n",
      "aa\n",
      "False\n",
      "bb\n",
      "True\n",
      "cc\n",
      "False\n",
      "{'b': ['a', 'b', 'c']}\n",
      "['a', 'b', 'c']\n",
      "a\n",
      "False\n",
      "b\n",
      "True\n",
      "c\n",
      "False\n"
     ]
    }
   ],
   "source": [
    "list_temp = []\n",
    "for d in list_val:\n",
    "    print(d)\n",
    "\n",
    "    for k in d:\n",
    "        print(d[k])\n",
    "\n",
    "        for v in d[k]:\n",
    "            print(v)\n",
    "            # print('-------------')\n",
    "            # print(v[0])\n",
    "            # print('-------------')\n",
    "            # #if v[0] == 'b':\n",
    "            # #    list_temp.append(v)\n",
    "            print(v.find('b') >= 0)\n",
    "            if v.find('b') >= 0 :\n",
    "                list_temp.append(v)\n"
   ]
  },
  {
   "cell_type": "code",
   "execution_count": 15,
   "id": "ea6633b3",
   "metadata": {},
   "outputs": [
    {
     "data": {
      "text/plain": [
       "[{'a': ['aa', 'bb', 'cc']}, {'b': ['a', 'b', 'c']}]"
      ]
     },
     "execution_count": 15,
     "metadata": {},
     "output_type": "execute_result"
    }
   ],
   "source": [
    "list_val"
   ]
  },
  {
   "cell_type": "code",
   "execution_count": 16,
   "id": "af05adcc",
   "metadata": {},
   "outputs": [
    {
     "data": {
      "text/plain": [
       "2"
      ]
     },
     "execution_count": 16,
     "metadata": {},
     "output_type": "execute_result"
    }
   ],
   "source": [
    "# 리스트 갯수\n",
    "len(list_val)"
   ]
  },
  {
   "cell_type": "code",
   "execution_count": 17,
   "id": "d628a6ad",
   "metadata": {},
   "outputs": [],
   "source": [
    "for i  in range(0, len(list_val)):\n",
    "    list_val[i]"
   ]
  },
  {
   "cell_type": "code",
   "execution_count": 18,
   "id": "6494103c",
   "metadata": {},
   "outputs": [],
   "source": [
    "for v in list_val :\n",
    "    v"
   ]
  },
  {
   "cell_type": "code",
   "execution_count": null,
   "id": "5d34e21b",
   "metadata": {},
   "outputs": [],
   "source": []
  }
 ],
 "metadata": {
  "interpreter": {
   "hash": "610a6f344c2137faf927ea819c63f6cee33a2c04455044b28099f39fe9722347"
  },
  "kernelspec": {
   "display_name": "Python 3.9.12 ('base')",
   "language": "python",
   "name": "python3"
  },
  "language_info": {
   "codemirror_mode": {
    "name": "ipython",
    "version": 3
   },
   "file_extension": ".py",
   "mimetype": "text/x-python",
   "name": "python",
   "nbconvert_exporter": "python",
   "pygments_lexer": "ipython3",
   "version": "3.9.12"
  }
 },
 "nbformat": 4,
 "nbformat_minor": 5
}
