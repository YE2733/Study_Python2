{
 "cells": [
  {
   "cell_type": "markdown",
   "id": "cc27816b-2b0d-4a74-976f-8436d3fc801f",
   "metadata": {},
   "source": [
    "- 파일 다운로드\n",
    "    - excel, csv, txt(read_excel, read_csv)\n",
    "    - json(read_json)\n",
    "    - open Api  : 프로그램과 프로그램이 서로 주고 받는 방식\n",
    "        - 인증키 필요\n",
    "        - 정의된 문서가 항상 존재\n",
    "        - 규칙을 가지고 진행\n",
    "        - 'xml', 'json'(html 태그 방식과 동일) 파일 포맷이 존재\n",
    "    - 웹크롤링\n",
    "        - 웹페이지에서 찾아서 긁어내는 방식\n",
    "        - 사진 지식 필요 : html 태그 규칙 , css 규칙\n",
    "        \n",
    "- 파일 저장\n",
    "    - to_excel, to_csv ...\n",
    "    - to_json\n",
    "    \n",
    "    "
   ]
  },
  {
   "cell_type": "markdown",
   "id": "3a9a3308-c74e-4160-80bc-a31efa970628",
   "metadata": {},
   "source": [
    "# 1. 형태별 데이터 사용방법"
   ]
  },
  {
   "cell_type": "code",
   "execution_count": 7,
   "id": "02ca8979-1ad2-43f3-b76d-811f8fdce5c1",
   "metadata": {},
   "outputs": [
    {
     "name": "stdout",
     "output_type": "stream",
     "text": [
      "420\n"
     ]
    },
    {
     "data": {
      "text/html": [
       "<div>\n",
       "<style scoped>\n",
       "    .dataframe tbody tr th:only-of-type {\n",
       "        vertical-align: middle;\n",
       "    }\n",
       "\n",
       "    .dataframe tbody tr th {\n",
       "        vertical-align: top;\n",
       "    }\n",
       "\n",
       "    .dataframe thead th {\n",
       "        text-align: right;\n",
       "    }\n",
       "</style>\n",
       "<table border=\"1\" class=\"dataframe\">\n",
       "  <thead>\n",
       "    <tr style=\"text-align: right;\">\n",
       "      <th></th>\n",
       "      <th>자전거번호</th>\n",
       "      <th>대여일시</th>\n",
       "      <th>대여소번호</th>\n",
       "      <th>대여소명</th>\n",
       "      <th>대여거치대</th>\n",
       "      <th>반납일시</th>\n",
       "      <th>반납대여소번호</th>\n",
       "      <th>반납대여소명</th>\n",
       "      <th>반납거치대</th>\n",
       "      <th>이용시간</th>\n",
       "      <th>이용거리</th>\n",
       "    </tr>\n",
       "  </thead>\n",
       "  <tbody>\n",
       "    <tr>\n",
       "      <th>0</th>\n",
       "      <td>SPB-23220</td>\n",
       "      <td>2019-11-01 8:48</td>\n",
       "      <td>646</td>\n",
       "      <td>장한평역 1번출구 (국민은행앞)</td>\n",
       "      <td>3.0</td>\n",
       "      <td>2019-11-01 9:01</td>\n",
       "      <td>3</td>\n",
       "      <td>중랑센터</td>\n",
       "      <td>7.0</td>\n",
       "      <td>12.0</td>\n",
       "      <td>1100.0</td>\n",
       "    </tr>\n",
       "    <tr>\n",
       "      <th>1</th>\n",
       "      <td>SPB-16216</td>\n",
       "      <td>2019-11-04 8:38</td>\n",
       "      <td>646</td>\n",
       "      <td>장한평역 1번출구 (국민은행앞)</td>\n",
       "      <td>2.0</td>\n",
       "      <td>2019-11-04 8:56</td>\n",
       "      <td>3</td>\n",
       "      <td>중랑센터</td>\n",
       "      <td>2.0</td>\n",
       "      <td>7.0</td>\n",
       "      <td>1420.0</td>\n",
       "    </tr>\n",
       "  </tbody>\n",
       "</table>\n",
       "</div>"
      ],
      "text/plain": [
       "       자전거번호             대여일시  대여소번호               대여소명  대여거치대  \\\n",
       "0  SPB-23220  2019-11-01 8:48    646  장한평역 1번출구 (국민은행앞)    3.0   \n",
       "1  SPB-16216  2019-11-04 8:38    646  장한평역 1번출구 (국민은행앞)    2.0   \n",
       "\n",
       "              반납일시  반납대여소번호 반납대여소명  반납거치대  이용시간    이용거리  \n",
       "0  2019-11-01 9:01        3   중랑센터    7.0  12.0  1100.0  \n",
       "1  2019-11-04 8:56        3   중랑센터    2.0   7.0  1420.0  "
      ]
     },
     "execution_count": 7,
     "metadata": {},
     "output_type": "execute_result"
    }
   ],
   "source": [
    "# bicycle.csv 파일을 읽어 들인 후 조회\n",
    "# 데이터 프레임 변수 df1\n",
    "import pandas as pd\n",
    "file_path = './data/bicycle.csv'\n",
    "df1 = pd.read_csv(file_path, encoding='euc-kr')\n",
    "print(len(df1))\n",
    "df1.head(2)"
   ]
  },
  {
   "cell_type": "code",
   "execution_count": 2,
   "id": "f95a1348-0d75-4624-b8f2-01a908e92191",
   "metadata": {},
   "outputs": [
    {
     "name": "stdout",
     "output_type": "stream",
     "text": [
      "420\n"
     ]
    },
    {
     "data": {
      "text/html": [
       "<div>\n",
       "<style scoped>\n",
       "    .dataframe tbody tr th:only-of-type {\n",
       "        vertical-align: middle;\n",
       "    }\n",
       "\n",
       "    .dataframe tbody tr th {\n",
       "        vertical-align: top;\n",
       "    }\n",
       "\n",
       "    .dataframe thead th {\n",
       "        text-align: right;\n",
       "    }\n",
       "</style>\n",
       "<table border=\"1\" class=\"dataframe\">\n",
       "  <thead>\n",
       "    <tr style=\"text-align: right;\">\n",
       "      <th></th>\n",
       "      <th>자전거번호</th>\n",
       "      <th>대여일시</th>\n",
       "      <th>대여소번호</th>\n",
       "      <th>대여소명</th>\n",
       "      <th>대여거치대</th>\n",
       "      <th>반납일시</th>\n",
       "      <th>반납대여소번호</th>\n",
       "      <th>반납대여소명</th>\n",
       "      <th>반납거치대</th>\n",
       "      <th>이용시간</th>\n",
       "      <th>이용거리</th>\n",
       "    </tr>\n",
       "  </thead>\n",
       "  <tbody>\n",
       "    <tr>\n",
       "      <th>0</th>\n",
       "      <td>SPB-23220</td>\n",
       "      <td>2019-11-01 08:48:31</td>\n",
       "      <td>646</td>\n",
       "      <td>장한평역 1번출구 (국민은행앞)</td>\n",
       "      <td>3.0</td>\n",
       "      <td>2019-11-01 09:01:24</td>\n",
       "      <td>3</td>\n",
       "      <td>중랑센터</td>\n",
       "      <td>7.0</td>\n",
       "      <td>12.0</td>\n",
       "      <td>1100.0</td>\n",
       "    </tr>\n",
       "    <tr>\n",
       "      <th>1</th>\n",
       "      <td>SPB-16216</td>\n",
       "      <td>2019-11-04 08:38:39</td>\n",
       "      <td>646</td>\n",
       "      <td>장한평역 1번출구 (국민은행앞)</td>\n",
       "      <td>2.0</td>\n",
       "      <td>2019-11-04 08:56:33</td>\n",
       "      <td>3</td>\n",
       "      <td>중랑센터</td>\n",
       "      <td>2.0</td>\n",
       "      <td>7.0</td>\n",
       "      <td>1420.0</td>\n",
       "    </tr>\n",
       "  </tbody>\n",
       "</table>\n",
       "</div>"
      ],
      "text/plain": [
       "       자전거번호                대여일시  대여소번호               대여소명  대여거치대  \\\n",
       "0  SPB-23220 2019-11-01 08:48:31    646  장한평역 1번출구 (국민은행앞)    3.0   \n",
       "1  SPB-16216 2019-11-04 08:38:39    646  장한평역 1번출구 (국민은행앞)    2.0   \n",
       "\n",
       "                 반납일시  반납대여소번호 반납대여소명  반납거치대  이용시간    이용거리  \n",
       "0 2019-11-01 09:01:24        3   중랑센터    7.0  12.0  1100.0  \n",
       "1 2019-11-04 08:56:33        3   중랑센터    2.0   7.0  1420.0  "
      ]
     },
     "execution_count": 2,
     "metadata": {},
     "output_type": "execute_result"
    }
   ],
   "source": [
    "# bicycle.xlsx 파일 읽어들인 후 조회\n",
    "# 변수명 df2\n",
    "file_path = './data/bicycle.xlsx'\n",
    "df2 = pd.read_excel(file_path)\n",
    "print(len(df2))\n",
    "df2.head(2)"
   ]
  },
  {
   "cell_type": "code",
   "execution_count": 3,
   "id": "31274a91-55d8-42b0-b6aa-dd5b8591bcf0",
   "metadata": {},
   "outputs": [
    {
     "data": {
      "text/html": [
       "<div>\n",
       "<style scoped>\n",
       "    .dataframe tbody tr th:only-of-type {\n",
       "        vertical-align: middle;\n",
       "    }\n",
       "\n",
       "    .dataframe tbody tr th {\n",
       "        vertical-align: top;\n",
       "    }\n",
       "\n",
       "    .dataframe thead th {\n",
       "        text-align: right;\n",
       "    }\n",
       "</style>\n",
       "<table border=\"1\" class=\"dataframe\">\n",
       "  <thead>\n",
       "    <tr style=\"text-align: right;\">\n",
       "      <th></th>\n",
       "      <th>1.FirstName</th>\n",
       "      <th>2.LastName</th>\n",
       "      <th>3.Age</th>\n",
       "      <th>4.University</th>\n",
       "      <th>5.Courses</th>\n",
       "    </tr>\n",
       "  </thead>\n",
       "  <tbody>\n",
       "    <tr>\n",
       "      <th>0</th>\n",
       "      <td>Gildong</td>\n",
       "      <td>Hong</td>\n",
       "      <td>20</td>\n",
       "      <td>Gachon University</td>\n",
       "      <td>{'Classes': ['Probability', 'Generalized Linea...</td>\n",
       "    </tr>\n",
       "    <tr>\n",
       "      <th>1</th>\n",
       "      <td>Gildong</td>\n",
       "      <td>Hong</td>\n",
       "      <td>20</td>\n",
       "      <td>Gachon University</td>\n",
       "      <td>{'Classes': ['Data Structure', 'Programming', ...</td>\n",
       "    </tr>\n",
       "  </tbody>\n",
       "</table>\n",
       "</div>"
      ],
      "text/plain": [
       "  1.FirstName 2.LastName  3.Age       4.University  \\\n",
       "0     Gildong       Hong     20  Gachon University   \n",
       "1     Gildong       Hong     20  Gachon University   \n",
       "\n",
       "                                           5.Courses  \n",
       "0  {'Classes': ['Probability', 'Generalized Linea...  \n",
       "1  {'Classes': ['Data Structure', 'Programming', ...  "
      ]
     },
     "execution_count": 3,
     "metadata": {},
     "output_type": "execute_result"
    }
   ],
   "source": [
    "# read_json 파일 읽어 들이기\n",
    "# 변수 df3\n",
    "file_path = './data/read.json'\n",
    "df3 = pd.read_json(file_path)\n",
    "df3"
   ]
  },
  {
   "cell_type": "code",
   "execution_count": 5,
   "id": "8b5dd6a4-d1cf-4f71-bba7-650a473803c8",
   "metadata": {},
   "outputs": [],
   "source": [
    "# df1 저장하기\n",
    "# 저장위치 : data2 폴더\n",
    "# 저장파일명 : sample_data.csv\n",
    "file_path = './data2/sample_data.csv'\n",
    "df1.to_csv(file_path)"
   ]
  },
  {
   "cell_type": "code",
   "execution_count": 7,
   "id": "f63f5519-deb2-423b-8cf3-786413724eb7",
   "metadata": {},
   "outputs": [],
   "source": [
    "# df2 저장하기\n",
    "# 저장위치 : data2 폴더\n",
    "# 저장파일명 : sample_data.xlsx\n",
    "file_path = './data2/sample_data.xlsx'\n",
    "df2.to_excel(file_path)"
   ]
  },
  {
   "cell_type": "code",
   "execution_count": 8,
   "id": "f9e1eb66-9db9-41fd-802f-60e9d8881dfc",
   "metadata": {},
   "outputs": [],
   "source": [
    "# json 저장하기\n",
    "# 저장위치 : data2 폴더\n",
    "# 저장파일명 : sample_data.json\n",
    "file_path = './data2/sample_data.json'\n",
    "df3.to_json(file_path)"
   ]
  },
  {
   "cell_type": "markdown",
   "id": "5b8d4841-98a7-4da0-a22a-a592dea377f8",
   "metadata": {},
   "source": [
    "### 데이터 수집 : OpenAPI 방식"
   ]
  },
  {
   "cell_type": "markdown",
   "id": "e93b607a-6631-4e72-8165-e2c2aabc3efa",
   "metadata": {},
   "source": [
    "- OpenAPI 정보\n",
    "    - 데이터 포맷 확인\n",
    "    - 제공 문서(참고문서) 확인\n",
    "    - 샘플 코드 복사 - 실행\n",
    "    - 인증키 신청"
   ]
  },
  {
   "cell_type": "code",
   "execution_count": 20,
   "id": "58794d92-917f-4aed-8518-3bf367d92b4e",
   "metadata": {},
   "outputs": [
    {
     "name": "stdout",
     "output_type": "stream",
     "text": [
      "b'<?xml version=\"1.0\" encoding=\"UTF-8\" standalone=\"yes\"?><response><header><resultCode>00</resultCode><resultMsg>NORMAL SERVICE.</resultMsg></header><body><items><item><addr>\\xec\\x84\\x9c\\xec\\x9a\\xb8\\xed\\x8a\\xb9\\xeb\\xb3\\x84\\xec\\x8b\\x9c \\xec\\xa4\\x91\\xeb\\x9e\\x91\\xea\\xb5\\xac \\xeb\\xb4\\x89\\xed\\x99\\x94\\xec\\x82\\xb0\\xeb\\xa1\\x9c 215 1\\xec\\xb8\\xb5 (\\xec\\x8b\\xa0\\xeb\\x82\\xb4\\xeb\\x8f\\x99)</addr><clCd>81</clCd><clCdNm>\\xec\\x95\\xbd\\xea\\xb5\\xad</clCdNm><distance>.5478450769582605437588497466708942455</distance><emdongNm>\\xec\\x8b\\xa0\\xeb\\x82\\xb4\\xeb\\x8f\\x99</emdongNm><estbDd>20001222</estbDd><postNo>02054</postNo><sgguCd>110019</sgguCd><sgguCdNm>\\xec\\xa4\\x91\\xeb\\x9e\\x91\\xea\\xb5\\xac</sgguCdNm><sidoCd>110000</sidoCd><sidoCdNm>\\xec\\x84\\x9c\\xec\\x9a\\xb8</sidoCdNm><telno>02-3422-3097</telno><XPos>127.0965492</XPos><YPos>37.6076585</YPos><yadmNm>\\xec\\x98\\xa8\\xeb\\x88\\x84\\xeb\\xa6\\xac\\xea\\xb1\\xb4\\xea\\xb0\\x95\\xec\\x95\\xbd\\xea\\xb5\\xad</yadmNm><ykiho>JDQ4MTg4MSM1MSMkMSMkNCMkMDMkMzgxOTYxIzExIyQxIyQ3IyQ4MiQyNjEyMjIjODEjJDEjJDYjJDgz</ykiho></item><item><addr>\\xec\\x84\\x9c\\xec\\x9a\\xb8\\xed\\x8a\\xb9\\xeb\\xb3\\x84\\xec\\x8b\\x9c \\xec\\xa4\\x91\\xeb\\x9e\\x91\\xea\\xb5\\xac \\xec\\x8b\\xa0\\xeb\\x82\\xb4\\xeb\\xa1\\x9c 211 212\\xed\\x98\\xb8 (\\xec\\x8b\\xa0\\xeb\\x82\\xb4\\xeb\\x8f\\x99, \\xea\\xb8\\x88\\xea\\xb0\\x95\\xeb\\xa6\\xac\\xeb\\xb9\\x99\\xec\\x8a\\xa4\\xed\\x85\\x94)</addr><clCd>81</clCd><clCdNm>\\xec\\x95\\xbd\\xea\\xb5\\xad</clCdNm><distance>1035.1855820788666820304486290002772234</distance><emdongNm>\\xec\\x8b\\xa0\\xeb\\x82\\xb4\\xeb\\x8f\\x99</emdongNm><estbDd>20140630</estbDd><postNo>02024</postNo><sgguCd>110019</sgguCd><sgguCdNm>\\xec\\xa4\\x91\\xeb\\x9e\\x91\\xea\\xb5\\xac</sgguCdNm><sidoCd>110000</sidoCd><sidoCdNm>\\xec\\x84\\x9c\\xec\\x9a\\xb8</sidoCdNm><telno>02-6743-4262</telno><XPos>127.0926492</XPos><YPos>37.6164445</YPos><yadmNm>\\xec\\x86\\xa1\\xec\\x9d\\xb4\\xec\\x98\\xa8\\xeb\\x88\\x84\\xeb\\xa6\\xac\\xec\\x95\\xbd\\xea\\xb5\\xad</yadmNm><ykiho>JDQ4MTg4MSM1MSMkMSMkNCMkMDMkMzgxOTYxIzIxIyQxIyQ5IyQ4OSQyNjE0ODEjNjEjJDEjJDQjJDgz</ykiho></item></items><numOfRows>10</numOfRows><pageNo>1</pageNo><totalCount>2</totalCount></body></response>'\n"
     ]
    }
   ],
   "source": [
    "# Python3 샘플 코드 #\n",
    "\n",
    "import requests\n",
    "\n",
    "url = 'http://apis.data.go.kr/B551182/pharmacyInfoService/getParmacyBasisList'\n",
    "params ={'serviceKey' : 'cT%2BYkjvIHbeOxm1pvHB%2B00ZWqRmWcBPdjMryZWdGMvWmU%2BqyhRGLJW8y55hv4PgZ%2B8hrkRfn1rcP5hxYUefTlA%3D%3D',\n",
    "         'pageNo' : '1', 'numOfRows' : '10', 'sidoCd' : '110000', 'sgguCd' : '110019', 'emdongNm' : '신내동', 'yadmNm' : '온누리건강',\n",
    "         'xPos' : '127.0965441345503', 'yPos' : '37.60765568913871', 'radius' : '3000' }\n",
    "\n",
    "url = \"http://apis.data.go.kr/B551182/pharmacyInfoService/getParmacyBasisList?pageNo=1&numOfRows=10&sidoCd=110000&sgguCd=110019&emdongNm=신내동&yadmNm=온누리&xPos=127.0965441345503&yPos=37.60765568913871&radius=3000&ServiceKey=cT%2BYkjvIHbeOxm1pvHB%2B00ZWqRmWcBPdjMryZWdGMvWmU%2BqyhRGLJW8y55hv4PgZ%2B8hrkRfn1rcP5hxYUefTlA%3D%3D\"\n",
    "\n",
    "#response = requests.get(url, params=params)\n",
    "response = requests.get(url)\n",
    "print(response.content)"
   ]
  },
  {
   "cell_type": "code",
   "execution_count": 21,
   "id": "93f5a56e-7d8f-4f29-ad1b-fb5d6a6fd10c",
   "metadata": {},
   "outputs": [
    {
     "name": "stdout",
     "output_type": "stream",
     "text": [
      "b'<?xml version=\"1.0\" encoding=\"UTF-8\" standalone=\"yes\"?><response><header><resultCode>00</resultCode><resultMsg>NORMAL SERVICE.</resultMsg></header><body><items><item><addr>\\xec\\x84\\x9c\\xec\\x9a\\xb8\\xed\\x8a\\xb9\\xeb\\xb3\\x84\\xec\\x8b\\x9c \\xec\\xa4\\x91\\xeb\\x9e\\x91\\xea\\xb5\\xac \\xeb\\xb4\\x89\\xed\\x99\\x94\\xec\\x82\\xb0\\xeb\\xa1\\x9c 215 1\\xec\\xb8\\xb5 (\\xec\\x8b\\xa0\\xeb\\x82\\xb4\\xeb\\x8f\\x99)</addr><clCd>81</clCd><clCdNm>\\xec\\x95\\xbd\\xea\\xb5\\xad</clCdNm><distance>.5478450769582605437588497466708942455</distance><emdongNm>\\xec\\x8b\\xa0\\xeb\\x82\\xb4\\xeb\\x8f\\x99</emdongNm><estbDd>20001222</estbDd><postNo>02054</postNo><sgguCd>110019</sgguCd><sgguCdNm>\\xec\\xa4\\x91\\xeb\\x9e\\x91\\xea\\xb5\\xac</sgguCdNm><sidoCd>110000</sidoCd><sidoCdNm>\\xec\\x84\\x9c\\xec\\x9a\\xb8</sidoCdNm><telno>02-3422-3097</telno><XPos>127.0965492</XPos><YPos>37.6076585</YPos><yadmNm>\\xec\\x98\\xa8\\xeb\\x88\\x84\\xeb\\xa6\\xac\\xea\\xb1\\xb4\\xea\\xb0\\x95\\xec\\x95\\xbd\\xea\\xb5\\xad</yadmNm><ykiho>JDQ4MTg4MSM1MSMkMSMkNCMkMDMkMzgxOTYxIzExIyQxIyQ3IyQ4MiQyNjEyMjIjODEjJDEjJDYjJDgz</ykiho></item><item><addr>\\xec\\x84\\x9c\\xec\\x9a\\xb8\\xed\\x8a\\xb9\\xeb\\xb3\\x84\\xec\\x8b\\x9c \\xec\\xa4\\x91\\xeb\\x9e\\x91\\xea\\xb5\\xac \\xec\\x8b\\xa0\\xeb\\x82\\xb4\\xeb\\xa1\\x9c 211 212\\xed\\x98\\xb8 (\\xec\\x8b\\xa0\\xeb\\x82\\xb4\\xeb\\x8f\\x99, \\xea\\xb8\\x88\\xea\\xb0\\x95\\xeb\\xa6\\xac\\xeb\\xb9\\x99\\xec\\x8a\\xa4\\xed\\x85\\x94)</addr><clCd>81</clCd><clCdNm>\\xec\\x95\\xbd\\xea\\xb5\\xad</clCdNm><distance>1035.1855820788666820304486290002772234</distance><emdongNm>\\xec\\x8b\\xa0\\xeb\\x82\\xb4\\xeb\\x8f\\x99</emdongNm><estbDd>20140630</estbDd><postNo>02024</postNo><sgguCd>110019</sgguCd><sgguCdNm>\\xec\\xa4\\x91\\xeb\\x9e\\x91\\xea\\xb5\\xac</sgguCdNm><sidoCd>110000</sidoCd><sidoCdNm>\\xec\\x84\\x9c\\xec\\x9a\\xb8</sidoCdNm><telno>02-6743-4262</telno><XPos>127.0926492</XPos><YPos>37.6164445</YPos><yadmNm>\\xec\\x86\\xa1\\xec\\x9d\\xb4\\xec\\x98\\xa8\\xeb\\x88\\x84\\xeb\\xa6\\xac\\xec\\x95\\xbd\\xea\\xb5\\xad</yadmNm><ykiho>JDQ4MTg4MSM1MSMkMSMkNCMkMDMkMzgxOTYxIzIxIyQxIyQ5IyQ4OSQyNjE0ODEjNjEjJDEjJDQjJDgz</ykiho></item></items><numOfRows>10</numOfRows><pageNo>1</pageNo><totalCount>2</totalCount></body></response>'\n"
     ]
    }
   ],
   "source": [
    "import requests\n",
    "\n",
    "\n",
    "apikey = \"cT%2BYkjvIHbeOxm1pvHB%2B00ZWqRmWcBPdjMryZWdGMvWmU%2BqyhRGLJW8y55hv4PgZ%2B8hrkRfn1rcP5hxYUefTlA%3D%3D\"\n",
    "\n",
    "pageNo = 1\n",
    "numOfRows = 10\n",
    "sidoCd = 110000\n",
    "sgguCd = 110019\n",
    "emdongNm = \"신내동\"\n",
    "yadmNm = \"온누리\"\n",
    "xPos = 127.0965441345503\n",
    "yPos = 37.60765568913871\n",
    "radius = 3000\n",
    "\n",
    "\n",
    "api = \"http://apis.data.go.kr/B551182/pharmacyInfoService/getParmacyBasisList?pageNo={no}&numOfRows={row}&sidoCd={sido}&sgguCd={sigu}&emdongNm={dong}&yadmNm={yanm}&xPos={x}&yPos={y}&radius={r}&ServiceKey={key}\"\n",
    "\n",
    "# f.\"{pageNo}{sidoCd}\"\n",
    "# \"{}{}\".format(pageNo,sidoCd)\n",
    "\n",
    "url = api.format(no=pageNo,\n",
    "                 row=numOfRows,\n",
    "                 sido=sidoCd,\n",
    "                 sigu=sgguCd,\n",
    "                 dong=emdongNm,\n",
    "                 yanm=yadmNm,\n",
    "                 x=xPos, y=yPos, r=radius,\n",
    "                 key=apikey)\n",
    "\n",
    "#response = requests.get(url, params=params)\n",
    "response = requests.get(url)\n",
    "print(response.content)"
   ]
  },
  {
   "cell_type": "code",
   "execution_count": 22,
   "id": "9d365425-386b-4660-bab9-7deea2025b45",
   "metadata": {},
   "outputs": [],
   "source": [
    "from bs4 import BeautifulSoup\n",
    "import requests"
   ]
  },
  {
   "cell_type": "code",
   "execution_count": 23,
   "id": "48a7005d-543d-4330-9175-bdbf7dbdaa49",
   "metadata": {},
   "outputs": [
    {
     "name": "stdout",
     "output_type": "stream",
     "text": [
      "addr_list =  2\n",
      "telno_list =  2\n",
      "약국주소[ 0 ] :  서울특별시 중랑구 봉화산로 215 1층 (신내동)\n",
      "전화번호[ 0 ] :  02-3422-3097\n",
      "약국주소[ 1 ] :  서울특별시 중랑구 신내로 211 212호 (신내동, 금강리빙스텔)\n",
      "전화번호[ 1 ] :  02-6743-4262\n"
     ]
    },
    {
     "name": "stderr",
     "output_type": "stream",
     "text": [
      "c:\\Users\\admin\\anaconda3\\lib\\site-packages\\bs4\\builder\\__init__.py:545: XMLParsedAsHTMLWarning: It looks like you're parsing an XML document using an HTML parser. If this really is an HTML document (maybe it's XHTML?), you can ignore or filter this warning. If it's XML, you should know that using an XML parser will be more reliable. To parse this document as XML, make sure you have the lxml package installed, and pass the keyword argument `features=\"xml\"` into the BeautifulSoup constructor.\n",
      "  warnings.warn(\n"
     ]
    }
   ],
   "source": [
    "re = response.text\n",
    "soup = BeautifulSoup(re, \"html.parser\")\n",
    "\n",
    "addr_list = soup.find_all(\"addr\")\n",
    "addr_list[0].text # 0번째에 해당하는 text만 가져오기\n",
    "\n",
    "telno_list = soup.find_all(\"telno\")\n",
    "\n",
    "\n",
    "print(\"addr_list = \", len(addr_list))\n",
    "print(\"telno_list = \", len(telno_list))\n",
    "\n",
    "\n",
    "\n",
    "for i in range(0, len(addr_list), 1):\n",
    "    print(\"약국주소[\", i,\"] : \", addr_list[i].text)\n",
    "    print(\"전화번호[\", i,\"] : \", telno_list[i].text)\n",
    "    "
   ]
  },
  {
   "cell_type": "code",
   "execution_count": 109,
   "id": "cbad9128-938e-48c2-93df-9fbaba6c918b",
   "metadata": {},
   "outputs": [
    {
     "data": {
      "text/plain": [
       "<?xml version=\"1.0\" encoding=\"UTF-8\" standalone=\"yes\"?><response><header><resultcode>00</resultcode><resultmsg>NORMAL SERVICE.</resultmsg></header><body><items><item><addr>서울특별시 중랑구 봉화산로 215 1층 (신내동)</addr><clcd>81</clcd><clcdnm>약국</clcdnm><distance>.5478450769582605437588497466708942455</distance><emdongnm>신내동</emdongnm><estbdd>20001222</estbdd><postno>02054</postno><sggucd>110019</sggucd><sggucdnm>중랑구</sggucdnm><sidocd>110000</sidocd><sidocdnm>서울</sidocdnm><telno>02-3422-3097</telno><xpos>127.0965492</xpos><ypos>37.6076585</ypos><yadmnm>온누리건강약국</yadmnm><ykiho>JDQ4MTg4MSM1MSMkMSMkNCMkMDMkMzgxOTYxIzExIyQxIyQ3IyQ4MiQyNjEyMjIjODEjJDEjJDYjJDgz</ykiho></item><item><addr>서울특별시 중랑구 신내로 211 212호 (신내동, 금강리빙스텔)</addr><clcd>81</clcd><clcdnm>약국</clcdnm><distance>1035.1855820788666820304486290002772234</distance><emdongnm>신내동</emdongnm><estbdd>20140630</estbdd><postno>02024</postno><sggucd>110019</sggucd><sggucdnm>중랑구</sggucdnm><sidocd>110000</sidocd><sidocdnm>서울</sidocdnm><telno>02-6743-4262</telno><xpos>127.0926492</xpos><ypos>37.6164445</ypos><yadmnm>송이온누리약국</yadmnm><ykiho>JDQ4MTg4MSM1MSMkMSMkNCMkMDMkMzgxOTYxIzIxIyQxIyQ5IyQ4OSQyNjE0ODEjNjEjJDEjJDQjJDgz</ykiho></item></items><numofrows>10</numofrows><pageno>1</pageno><totalcount>2</totalcount></body></response>"
      ]
     },
     "execution_count": 109,
     "metadata": {},
     "output_type": "execute_result"
    }
   ],
   "source": [
    "soup"
   ]
  },
  {
   "cell_type": "code",
   "execution_count": 24,
   "id": "748d4520-6f87-4a77-8f09-46d630c26466",
   "metadata": {},
   "outputs": [
    {
     "name": "stdout",
     "output_type": "stream",
     "text": [
      "['온누리건강약국', '송이온누리약국']\n",
      "['서울', '서울']\n",
      "['서울특별시 중랑구 봉화산로 215 1층 (신내동)', '서울특별시 중랑구 신내로 211 212호 (신내동, 금강리빙스텔)']\n",
      "['02-3422-3097', '02-6743-4262']\n"
     ]
    },
    {
     "data": {
      "text/html": [
       "<div>\n",
       "<style scoped>\n",
       "    .dataframe tbody tr th:only-of-type {\n",
       "        vertical-align: middle;\n",
       "    }\n",
       "\n",
       "    .dataframe tbody tr th {\n",
       "        vertical-align: top;\n",
       "    }\n",
       "\n",
       "    .dataframe thead th {\n",
       "        text-align: right;\n",
       "    }\n",
       "</style>\n",
       "<table border=\"1\" class=\"dataframe\">\n",
       "  <thead>\n",
       "    <tr style=\"text-align: right;\">\n",
       "      <th></th>\n",
       "      <th>약국이름</th>\n",
       "      <th>시도명</th>\n",
       "      <th>주소</th>\n",
       "      <th>전화번호</th>\n",
       "    </tr>\n",
       "  </thead>\n",
       "  <tbody>\n",
       "    <tr>\n",
       "      <th>0</th>\n",
       "      <td>온누리건강약국</td>\n",
       "      <td>서울</td>\n",
       "      <td>서울특별시 중랑구 봉화산로 215 1층 (신내동)</td>\n",
       "      <td>02-3422-3097</td>\n",
       "    </tr>\n",
       "    <tr>\n",
       "      <th>1</th>\n",
       "      <td>송이온누리약국</td>\n",
       "      <td>서울</td>\n",
       "      <td>서울특별시 중랑구 신내로 211 212호 (신내동, 금강리빙스텔)</td>\n",
       "      <td>02-6743-4262</td>\n",
       "    </tr>\n",
       "  </tbody>\n",
       "</table>\n",
       "</div>"
      ],
      "text/plain": [
       "      약국이름 시도명                                    주소          전화번호\n",
       "0  온누리건강약국  서울           서울특별시 중랑구 봉화산로 215 1층 (신내동)  02-3422-3097\n",
       "1  송이온누리약국  서울  서울특별시 중랑구 신내로 211 212호 (신내동, 금강리빙스텔)  02-6743-4262"
      ]
     },
     "execution_count": 24,
     "metadata": {},
     "output_type": "execute_result"
    }
   ],
   "source": [
    "# DataFrame으로 저장하기 위한 선행작업...\n",
    "\n",
    "# 약국이름, 시도명, 주소, 전화번호에 대한 text값만 추출하여\n",
    "# 각각의 리스트에 담기... 변수명은 아래처럼...\n",
    "# yad_txt_list, sido_txt_list, addr_txt_list, telno_txt_list\n",
    "\n",
    "\n",
    "yad_list = soup.find_all(\"yadmnm\")\n",
    "\n",
    "sido_list = soup.find_all(\"sidocdnm\")\n",
    "\n",
    "addr_list = soup.find_all(\"addr\")\n",
    "\n",
    "telno_list = soup.find_all(\"telno\")\n",
    "\n",
    "yad_txt_list = []\n",
    "sido_txt_list = []\n",
    "addr_txt_list = []\n",
    "telno_txt_list = []\n",
    "\n",
    "for i in range(0, len(addr_list), 1):\n",
    "    yad_txt_list.append(yad_list[i].text)\n",
    "    sido_txt_list.append(sido_list[i].text)\n",
    "    addr_txt_list.append(addr_list[i].text)\n",
    "    telno_txt_list.append(telno_list[i].text)\n",
    "    \n",
    "print(yad_txt_list)\n",
    "print(sido_txt_list)\n",
    "print(addr_txt_list)\n",
    "print(telno_txt_list)\n",
    "\n",
    "df_temp = pd.DataFrame({'약국이름' : yad_txt_list,\n",
    "                       '시도명': sido_txt_list,\n",
    "                       '주소' : addr_txt_list,\n",
    "                       '전화번호' : telno_txt_list})\n",
    "df_temp"
   ]
  },
  {
   "cell_type": "code",
   "execution_count": null,
   "id": "6337a7d4-534b-44d4-8356-6c94fa3bec60",
   "metadata": {},
   "outputs": [],
   "source": [
    "# 아래와 같이 각각의 값들을 2차원 리스트 형태로 저장해 주세요..\n",
    "# 변수명 : list_all\n",
    "# [[유심약국, 서울, 서울특별시 중랑구 봉화산로 217 (신내동, 오상빌딩내), 02-3422-2755]\n",
    "# [서울동산약국, 서울, 서울특별시 중랑구 신내로 16길 17 1층 (신내동), 3423-0808]]"
   ]
  },
  {
   "cell_type": "code",
   "execution_count": 26,
   "id": "75097b69",
   "metadata": {},
   "outputs": [
    {
     "data": {
      "text/html": [
       "<div>\n",
       "<style scoped>\n",
       "    .dataframe tbody tr th:only-of-type {\n",
       "        vertical-align: middle;\n",
       "    }\n",
       "\n",
       "    .dataframe tbody tr th {\n",
       "        vertical-align: top;\n",
       "    }\n",
       "\n",
       "    .dataframe thead th {\n",
       "        text-align: right;\n",
       "    }\n",
       "</style>\n",
       "<table border=\"1\" class=\"dataframe\">\n",
       "  <thead>\n",
       "    <tr style=\"text-align: right;\">\n",
       "      <th></th>\n",
       "      <th>약국이름</th>\n",
       "      <th>시도명</th>\n",
       "      <th>주소</th>\n",
       "      <th>전화번호</th>\n",
       "    </tr>\n",
       "  </thead>\n",
       "  <tbody>\n",
       "    <tr>\n",
       "      <th>0</th>\n",
       "      <td>온누리건강약국</td>\n",
       "      <td>서울</td>\n",
       "      <td>서울특별시 중랑구 봉화산로 215 1층 (신내동)</td>\n",
       "      <td>02-3422-3097</td>\n",
       "    </tr>\n",
       "    <tr>\n",
       "      <th>1</th>\n",
       "      <td>송이온누리약국</td>\n",
       "      <td>서울</td>\n",
       "      <td>서울특별시 중랑구 신내로 211 212호 (신내동, 금강리빙스텔)</td>\n",
       "      <td>02-6743-4262</td>\n",
       "    </tr>\n",
       "  </tbody>\n",
       "</table>\n",
       "</div>"
      ],
      "text/plain": [
       "      약국이름 시도명                                    주소          전화번호\n",
       "0  온누리건강약국  서울           서울특별시 중랑구 봉화산로 215 1층 (신내동)  02-3422-3097\n",
       "1  송이온누리약국  서울  서울특별시 중랑구 신내로 211 212호 (신내동, 금강리빙스텔)  02-6743-4262"
      ]
     },
     "execution_count": 26,
     "metadata": {},
     "output_type": "execute_result"
    }
   ],
   "source": [
    "yad_list = soup.find_all(\"yadmnm\")\n",
    "\n",
    "sido_list = soup.find_all(\"sidocdnm\")\n",
    "\n",
    "addr_list = soup.find_all(\"addr\")\n",
    "\n",
    "telno_list = soup.find_all(\"telno\")\n",
    "\n",
    "list_all = []\n",
    "\n",
    "for i in range(0, len(addr_list), 1):\n",
    "    list_all.append([yad_list[i].text, sido_list[i].text, addr_list[i].text, telno_list[i].text])\n",
    "    # yad_txt_list.append(yad_list[i].text)\n",
    "    # sido_txt_list.append(sido_list[i].text)\n",
    "    # addr_txt_list.append(addr_list[i].text)\n",
    "    # telno_txt_list.append(telno_list[i].text)\n",
    "list_all\n",
    "#col_nm = ['약국이름', '시도명', '주소', '전화번호']\n",
    "new_df = pd.DataFrame(list_all, columns= ['약국이름', '시도명', '주소', '전화번호'])\n",
    "new_df"
   ]
  },
  {
   "cell_type": "markdown",
   "id": "d495f9f6",
   "metadata": {},
   "source": [
    "### 한국공항공사\n",
    "- \"실시간 전국공항 혼잡도 정보\" Open API데이터 수집"
   ]
  },
  {
   "cell_type": "code",
   "execution_count": 12,
   "id": "82fc8351",
   "metadata": {},
   "outputs": [
    {
     "name": "stdout",
     "output_type": "stream",
     "text": [
      "<?xml version=\"1.0\" encoding=\"UTF-8\" standalone=\"yes\"?><response><header><resultCode>00</resultCode><resultMsg>NORMAL SERVICE.</resultMsg></header><body><items><item><airportEng>GIMPO INTERNATIONAL AIRPORT</airportEng><airportKor>김포국제공항</airportKor><parkingAirportCodeName>[상세]예약주차장</parkingAirportCodeName><parkingCongestion>원활</parkingCongestion><parkingCongestionDegree>20.48%</parkingCongestionDegree><parkingOccupiedSpace>68</parkingOccupiedSpace><parkingTotalSpace>332</parkingTotalSpace><sysGetdate>2022-06-20</sysGetdate><sysGettime>17:53:03</sysGettime></item><item><airportEng>GIMPO INTERNATIONAL AIRPORT</airportEng><airportKor>김포국제공항</airportKor><parkingAirportCodeName>국내선 제1주차장</parkingAirportCodeName><parkingCongestion>원활</parkingCongestion><parkingCongestionDegree>86.13%</parkingCongestionDegree><parkingOccupiedSpace>1963</parkingOccupiedSpace><parkingTotalSpace>2279</parkingTotalSpace><sysGetdate>2022-06-20</sysGetdate><sysGettime>17:53:03</sysGettime></item><item><airportEng>GIMPO INTERNATIONAL AIRPORT</airportEng><airportKor>김포국제공항</airportKor><parkingAirportCodeName>국내선 제2주차장</parkingAirportCodeName><parkingCongestion>원활</parkingCongestion><parkingCongestionDegree>81.96%</parkingCongestionDegree><parkingOccupiedSpace>1431</parkingOccupiedSpace><parkingTotalSpace>1746</parkingTotalSpace><sysGetdate>2022-06-20</sysGetdate><sysGettime>17:53:03</sysGettime></item><item><airportEng>GIMPO INTERNATIONAL AIRPORT</airportEng><airportKor>김포국제공항</airportKor><parkingAirportCodeName>국제선 주차빌딩</parkingAirportCodeName><parkingCongestion>원활</parkingCongestion><parkingCongestionDegree>0%</parkingCongestionDegree><parkingOccupiedSpace>0</parkingOccupiedSpace><parkingTotalSpace>567</parkingTotalSpace><sysGetdate>2022-06-20</sysGetdate><sysGettime>17:53:03</sysGettime></item><item><airportEng>GIMPO INTERNATIONAL AIRPORT</airportEng><airportKor>김포국제공항</airportKor><parkingAirportCodeName>국제선 지하주차장</parkingAirportCodeName><parkingCongestion>원활</parkingCongestion><parkingCongestionDegree>16.92%</parkingCongestionDegree><parkingOccupiedSpace>203</parkingOccupiedSpace><parkingTotalSpace>1200</parkingTotalSpace><sysGetdate>2022-06-20</sysGetdate><sysGettime>17:53:03</sysGettime></item><item><airportEng>GIMPO INTERNATIONAL AIRPORT</airportEng><airportKor>김포국제공항</airportKor><parkingAirportCodeName>화물청사 주차장</parkingAirportCodeName><parkingCongestion>원활</parkingCongestion><parkingCongestionDegree>35.88%</parkingCongestionDegree><parkingOccupiedSpace>408</parkingOccupiedSpace><parkingTotalSpace>1137</parkingTotalSpace><sysGetdate>2022-06-20</sysGetdate><sysGettime>17:53:03</sysGettime></item></items><numOfRows>10</numOfRows><pageNo>1</pageNo><totalCount>6</totalCount></body></response>\n",
      "[<airportkor>김포국제공항</airportkor>, <airportkor>김포국제공항</airportkor>, <airportkor>김포국제공항</airportkor>, <airportkor>김포국제공항</airportkor>, <airportkor>김포국제공항</airportkor>, <airportkor>김포국제공항</airportkor>]\n",
      "<?xml version=\"1.0\" encoding=\"UTF-8\" standalone=\"yes\"?><response><header><resultCode>00</resultCode><resultMsg>NORMAL SERVICE.</resultMsg></header><body><items><item><airportEng>GIMHAE INTERNATIONAL AIRPORT</airportEng><airportKor>김해국제공항</airportKor><parkingAirportCodeName>P1여객주차장</parkingAirportCodeName><parkingCongestion>원활</parkingCongestion><parkingCongestionDegree>80.7%</parkingCongestionDegree><parkingOccupiedSpace>1890</parkingOccupiedSpace><parkingTotalSpace>2342</parkingTotalSpace><sysGetdate>2022-06-20</sysGetdate><sysGettime>17:53:03</sysGettime></item><item><airportEng>GIMHAE INTERNATIONAL AIRPORT</airportEng><airportKor>김해국제공항</airportKor><parkingAirportCodeName>P2여객주차장</parkingAirportCodeName><parkingCongestion>원활</parkingCongestion><parkingCongestionDegree>25.93%</parkingCongestionDegree><parkingOccupiedSpace>465</parkingOccupiedSpace><parkingTotalSpace>1793</parkingTotalSpace><sysGetdate>2022-06-20</sysGetdate><sysGettime>17:53:03</sysGettime></item><item><airportEng>GIMHAE INTERNATIONAL AIRPORT</airportEng><airportKor>김해국제공항</airportKor><parkingAirportCodeName>P3여객(화물)주차장</parkingAirportCodeName><parkingCongestion>원활</parkingCongestion><parkingCongestionDegree>39.33%</parkingCongestionDegree><parkingOccupiedSpace>387</parkingOccupiedSpace><parkingTotalSpace>984</parkingTotalSpace><sysGetdate>2022-06-20</sysGetdate><sysGettime>17:53:03</sysGettime></item><item><airportEng>GIMHAE INTERNATIONAL AIRPORT</airportEng><airportKor>김해국제공항</airportKor><parkingAirportCodeName>P4여객(화물)주차장</parkingAirportCodeName><parkingCongestion>원활</parkingCongestion><parkingCongestionDegree>63.66%</parkingCongestionDegree><parkingOccupiedSpace>424</parkingOccupiedSpace><parkingTotalSpace>666</parkingTotalSpace><sysGetdate>2022-06-20</sysGetdate><sysGettime>17:53:03</sysGettime></item></items><numOfRows>10</numOfRows><pageNo>1</pageNo><totalCount>4</totalCount></body></response>\n",
      "[<airportkor>김해국제공항</airportkor>, <airportkor>김해국제공항</airportkor>, <airportkor>김해국제공항</airportkor>, <airportkor>김해국제공항</airportkor>]\n"
     ]
    },
    {
     "name": "stderr",
     "output_type": "stream",
     "text": [
      "c:\\Users\\admin\\anaconda3\\lib\\site-packages\\bs4\\builder\\__init__.py:545: XMLParsedAsHTMLWarning: It looks like you're parsing an XML document using an HTML parser. If this really is an HTML document (maybe it's XHTML?), you can ignore or filter this warning. If it's XML, you should know that using an XML parser will be more reliable. To parse this document as XML, make sure you have the lxml package installed, and pass the keyword argument `features=\"xml\"` into the BeautifulSoup constructor.\n",
      "  warnings.warn(\n"
     ]
    },
    {
     "name": "stdout",
     "output_type": "stream",
     "text": [
      "<?xml version=\"1.0\" encoding=\"UTF-8\" standalone=\"yes\"?><response><header><resultCode>00</resultCode><resultMsg>NORMAL SERVICE.</resultMsg></header><body><items><item><airportEng>JEJU INTERNATIONAL AIRPORT</airportEng><airportKor>제주국제공항</airportKor><parkingAirportCodeName>여객</parkingAirportCodeName><parkingCongestion>혼잡</parkingCongestion><parkingCongestionDegree>91.07%</parkingCongestionDegree><parkingOccupiedSpace>1693</parkingOccupiedSpace><parkingTotalSpace>1859</parkingTotalSpace><sysGetdate>2022-06-20</sysGetdate><sysGettime>17:53:03</sysGettime></item><item><airportEng>JEJU INTERNATIONAL AIRPORT</airportEng><airportKor>제주국제공항</airportKor><parkingAirportCodeName>화물</parkingAirportCodeName><parkingCongestion>원활</parkingCongestion><parkingCongestionDegree>0%</parkingCongestionDegree><parkingOccupiedSpace>0</parkingOccupiedSpace><parkingTotalSpace>304</parkingTotalSpace><sysGetdate>2022-06-20</sysGetdate><sysGettime>17:53:03</sysGettime></item></items><numOfRows>10</numOfRows><pageNo>1</pageNo><totalCount>2</totalCount></body></response>\n",
      "[<airportkor>제주국제공항</airportkor>, <airportkor>제주국제공항</airportkor>]\n",
      "<?xml version=\"1.0\" encoding=\"UTF-8\" standalone=\"yes\"?><response><header><resultCode>00</resultCode><resultMsg>NORMAL SERVICE.</resultMsg></header><body><items><item><airportEng>DAEGU INTERNATIONAL AIRPORT</airportEng><airportKor>대구국제공항</airportKor><parkingAirportCodeName>일반</parkingAirportCodeName><parkingCongestion>원활</parkingCongestion><parkingCongestionDegree>69.53%</parkingCongestionDegree><parkingOccupiedSpace>970</parkingOccupiedSpace><parkingTotalSpace>1395</parkingTotalSpace><sysGetdate>2022-06-20</sysGetdate><sysGettime>17:53:03</sysGettime></item><item><airportEng>DAEGU INTERNATIONAL AIRPORT</airportEng><airportKor>대구국제공항</airportKor><parkingAirportCodeName>화물주차장</parkingAirportCodeName><parkingCongestion>원활</parkingCongestion><parkingCongestionDegree>0%</parkingCongestionDegree><parkingOccupiedSpace>0</parkingOccupiedSpace><parkingTotalSpace>34</parkingTotalSpace><sysGetdate>2022-06-20</sysGetdate><sysGettime>17:53:03</sysGettime></item></items><numOfRows>10</numOfRows><pageNo>1</pageNo><totalCount>2</totalCount></body></response>\n",
      "[<airportkor>대구국제공항</airportkor>, <airportkor>대구국제공항</airportkor>]\n",
      "<?xml version=\"1.0\" encoding=\"UTF-8\" standalone=\"yes\"?><response><header><resultCode>00</resultCode><resultMsg>NORMAL SERVICE.</resultMsg></header><body><items><item><airportEng>GWANGJU AIRPORT</airportEng><airportKor>광주공항</airportKor><parkingAirportCodeName>제1주차장</parkingAirportCodeName><parkingCongestion>만차</parkingCongestion><parkingCongestionDegree>100%</parkingCongestionDegree><parkingOccupiedSpace>540</parkingOccupiedSpace><parkingTotalSpace>540</parkingTotalSpace><sysGetdate>2022-06-20</sysGetdate><sysGettime>17:53:03</sysGettime></item><item><airportEng>GWANGJU AIRPORT</airportEng><airportKor>광주공항</airportKor><parkingAirportCodeName>제2주차장</parkingAirportCodeName><parkingCongestion>만차</parkingCongestion><parkingCongestionDegree>100%</parkingCongestionDegree><parkingOccupiedSpace>400</parkingOccupiedSpace><parkingTotalSpace>400</parkingTotalSpace><sysGetdate>2022-06-20</sysGetdate><sysGettime>17:53:03</sysGettime></item></items><numOfRows>10</numOfRows><pageNo>1</pageNo><totalCount>2</totalCount></body></response>\n",
      "[<airportkor>광주공항</airportkor>, <airportkor>광주공항</airportkor>]\n",
      "<?xml version=\"1.0\" encoding=\"UTF-8\" standalone=\"yes\"?><response><header><resultCode>00</resultCode><resultMsg>NORMAL SERVICE.</resultMsg></header><body><items><item><airportEng>YEOSU AIRPORT</airportEng><airportKor>여수공항</airportKor><parkingAirportCodeName>제1주차장</parkingAirportCodeName><parkingCongestion>원활</parkingCongestion><parkingCongestionDegree>70.36%</parkingCongestionDegree><parkingOccupiedSpace>292</parkingOccupiedSpace><parkingTotalSpace>415</parkingTotalSpace><sysGetdate>2022-06-20</sysGetdate><sysGettime>17:53:03</sysGettime></item><item><airportEng>YEOSU AIRPORT</airportEng><airportKor>여수공항</airportKor><parkingAirportCodeName>제2주차장</parkingAirportCodeName><parkingCongestion>원활</parkingCongestion><parkingCongestionDegree>66.99%</parkingCongestionDegree><parkingOccupiedSpace>140</parkingOccupiedSpace><parkingTotalSpace>209</parkingTotalSpace><sysGetdate>2022-06-20</sysGetdate><sysGettime>17:53:03</sysGettime></item></items><numOfRows>10</numOfRows><pageNo>1</pageNo><totalCount>2</totalCount></body></response>\n",
      "[<airportkor>여수공항</airportkor>, <airportkor>여수공항</airportkor>]\n",
      "<?xml version=\"1.0\" encoding=\"UTF-8\" standalone=\"yes\"?><response><header><resultCode>00</resultCode><resultMsg>NORMAL SERVICE.</resultMsg></header><body><items><item><airportEng>ULSAN AIRPORT</airportEng><airportKor>울산공항</airportKor><parkingAirportCodeName>일반</parkingAirportCodeName><parkingCongestion>원활</parkingCongestion><parkingCongestionDegree>61.54%</parkingCongestionDegree><parkingOccupiedSpace>280</parkingOccupiedSpace><parkingTotalSpace>455</parkingTotalSpace><sysGetdate>2022-06-20</sysGetdate><sysGettime>17:53:03</sysGettime></item></items><numOfRows>10</numOfRows><pageNo>1</pageNo><totalCount>1</totalCount></body></response>\n",
      "[<airportkor>울산공항</airportkor>]\n",
      "<?xml version=\"1.0\" encoding=\"UTF-8\" standalone=\"yes\"?><response><header><resultCode>00</resultCode><resultMsg>NORMAL SERVICE.</resultMsg></header><body><items><item><airportEng>GUNSAN AIRPORT</airportEng><airportKor>군산공항</airportKor><parkingAirportCodeName>일반</parkingAirportCodeName><parkingCongestion>혼잡</parkingCongestion><parkingCongestionDegree>93.84%</parkingCongestionDegree><parkingOccupiedSpace>335</parkingOccupiedSpace><parkingTotalSpace>357</parkingTotalSpace><sysGetdate>2022-06-20</sysGetdate><sysGettime>17:53:03</sysGettime></item></items><numOfRows>10</numOfRows><pageNo>1</pageNo><totalCount>1</totalCount></body></response>\n",
      "[<airportkor>군산공항</airportkor>]\n",
      "<?xml version=\"1.0\" encoding=\"UTF-8\" standalone=\"yes\"?><response><header><resultCode>00</resultCode><resultMsg>NORMAL SERVICE.</resultMsg></header><body><items><item><airportEng>WONJU AIRPORT</airportEng><airportKor>원주공항</airportKor><parkingAirportCodeName>일반</parkingAirportCodeName><parkingCongestion>원활</parkingCongestion><parkingCongestionDegree>85.93%</parkingCongestionDegree><parkingOccupiedSpace>116</parkingOccupiedSpace><parkingTotalSpace>135</parkingTotalSpace><sysGetdate>2022-06-20</sysGetdate><sysGettime>17:53:03</sysGettime></item></items><numOfRows>10</numOfRows><pageNo>1</pageNo><totalCount>1</totalCount></body></response>\n",
      "[<airportkor>원주공항</airportkor>]\n",
      "<?xml version=\"1.0\" encoding=\"UTF-8\" standalone=\"yes\"?><response><header><resultCode>00</resultCode><resultMsg>NORMAL SERVICE.</resultMsg></header><body><items><item><airportEng>CHEONGJU INTERNATIONAL AIRPORT</airportEng><airportKor>청주국제공항</airportKor><parkingAirportCodeName>제1주차장</parkingAirportCodeName><parkingCongestion>만차</parkingCongestion><parkingCongestionDegree>97.96%</parkingCongestionDegree><parkingOccupiedSpace>2158</parkingOccupiedSpace><parkingTotalSpace>2203</parkingTotalSpace><sysGetdate>2022-06-20</sysGetdate><sysGettime>17:53:03</sysGettime></item><item><airportEng>CHEONGJU INTERNATIONAL AIRPORT</airportEng><airportKor>청주국제공항</airportKor><parkingAirportCodeName>제2주차장</parkingAirportCodeName><parkingCongestion>원활</parkingCongestion><parkingCongestionDegree>69.94%</parkingCongestionDegree><parkingOccupiedSpace>1191</parkingOccupiedSpace><parkingTotalSpace>1703</parkingTotalSpace><sysGetdate>2022-06-20</sysGetdate><sysGettime>17:53:03</sysGettime></item></items><numOfRows>10</numOfRows><pageNo>1</pageNo><totalCount>2</totalCount></body></response>\n",
      "[<airportkor>청주국제공항</airportkor>, <airportkor>청주국제공항</airportkor>]\n"
     ]
    },
    {
     "data": {
      "text/html": [
       "<div>\n",
       "<style scoped>\n",
       "    .dataframe tbody tr th:only-of-type {\n",
       "        vertical-align: middle;\n",
       "    }\n",
       "\n",
       "    .dataframe tbody tr th {\n",
       "        vertical-align: top;\n",
       "    }\n",
       "\n",
       "    .dataframe thead th {\n",
       "        text-align: right;\n",
       "    }\n",
       "</style>\n",
       "<table border=\"1\" class=\"dataframe\">\n",
       "  <thead>\n",
       "    <tr style=\"text-align: right;\">\n",
       "      <th></th>\n",
       "      <th>공항명(영문)</th>\n",
       "      <th>공항명(한글)</th>\n",
       "      <th>주차장명</th>\n",
       "      <th>주차장 혼잡정도</th>\n",
       "      <th>주차장 혼잡률</th>\n",
       "      <th>입고된 차량 수</th>\n",
       "      <th>전체 주차면 수</th>\n",
       "    </tr>\n",
       "  </thead>\n",
       "  <tbody>\n",
       "    <tr>\n",
       "      <th>0</th>\n",
       "      <td>CHEONGJU INTERNATIONAL AIRPORT</td>\n",
       "      <td>청주국제공항</td>\n",
       "      <td>제1주차장</td>\n",
       "      <td>만차</td>\n",
       "      <td>97.96%</td>\n",
       "      <td>2158</td>\n",
       "      <td>2203</td>\n",
       "    </tr>\n",
       "    <tr>\n",
       "      <th>1</th>\n",
       "      <td>CHEONGJU INTERNATIONAL AIRPORT</td>\n",
       "      <td>청주국제공항</td>\n",
       "      <td>제2주차장</td>\n",
       "      <td>원활</td>\n",
       "      <td>69.94%</td>\n",
       "      <td>1191</td>\n",
       "      <td>1703</td>\n",
       "    </tr>\n",
       "  </tbody>\n",
       "</table>\n",
       "</div>"
      ],
      "text/plain": [
       "                          공항명(영문) 공항명(한글)   주차장명 주차장 혼잡정도 주차장 혼잡률 입고된 차량 수  \\\n",
       "0  CHEONGJU INTERNATIONAL AIRPORT  청주국제공항  제1주차장       만차  97.96%     2158   \n",
       "1  CHEONGJU INTERNATIONAL AIRPORT  청주국제공항  제2주차장       원활  69.94%     1191   \n",
       "\n",
       "  전체 주차면 수  \n",
       "0     2203  \n",
       "1     1703  "
      ]
     },
     "execution_count": 12,
     "metadata": {},
     "output_type": "execute_result"
    }
   ],
   "source": [
    "import requests\n",
    "from bs4 import BeautifulSoup\n",
    "##### 1단계 데이터 수집...\n",
    "apikey = \"PVdeh44WlF%2BHj6bGzfI2BXUldlea7Ggo%2FjjXvhbHCMNNFotchb2byGTopt4uAFS07RQzqmeU3M2Y8HcMmlYW9w%3D%3D\"\n",
    "\n",
    "pageNo = 1\n",
    "numOfRows = 10\n",
    "#schAirportCode = 'GMP'\n",
    "schAirportCode = ['GMP','PUS','CJU','TAE','KWJ','RSU','USN','KUV','WJU','CJJ']\n",
    "\n",
    "\n",
    "api = 'http://openapi.airport.co.kr/service/rest/AirportParkingCongestion/airportParkingCongestionRT?schAirportCode={code}&serviceKey={key}&numOfRows={row}&pageNo={no}'\n",
    "\n",
    "for acode in schAirportCode : \n",
    "    url = api.format(no=pageNo,\n",
    "                    row=numOfRows,\n",
    "                    code=acode,           \n",
    "                    key=apikey)\n",
    "\n",
    "    #response = requests.get(url, params=params)\n",
    "    response = requests.get(url)\n",
    "    print(response.text)\n",
    "\n",
    "\n",
    "    ########### 2단계... html 형태로 의미 부여하기\n",
    "    re = response.text\n",
    "    soup = BeautifulSoup(re, \"html.parser\")\n",
    "    #print(soup)\n",
    "\n",
    "\n",
    "    air_list_E = soup.find_all(\"airporteng\")\n",
    "\n",
    "    air_list = soup.find_all(\"airportkor\")\n",
    "\n",
    "    P_list = soup.find_all(\"parkingairportcodename\")\n",
    "\n",
    "    congestion_list = soup.find_all(\"parkingcongestion\")\n",
    "\n",
    "    congestion_Degree_list = soup.find_all(\"parkingcongestiondegree\")\n",
    "\n",
    "    Space_list = soup.find_all(\"parkingoccupiedspace\")\n",
    "\n",
    "    Space_total_list = soup.find_all(\"parkingtotalspace\")\n",
    "\n",
    "    print(air_list)\n",
    "\n",
    "    # for i in range(0, len(air_list),1):\n",
    "    #     print('공항이름(영문)' , air_list_E[i])\n",
    "    #     print('공항이름(한글)' , air_list[i])\n",
    "    #     print('주차장명' , P_list[i])\n",
    "    #     print('혼잡정도' , congestion_list[i])\n",
    "    #     print('혼잡률' , congestion_Degree_list[i])\n",
    "    #     print('입고된 차량 수' , Space_total_list[i])\n",
    "    #     print('전체 주차면 수' , Space_total_list[i])\n",
    "\n",
    "\n",
    "\n",
    "list_all2 = []\n",
    "\n",
    "\n",
    "for i in range(0, len(air_list), 1):\n",
    "    list_all2.append([air_list_E[i].text, \n",
    "                      air_list[i].text, \n",
    "                      P_list[i].text, \n",
    "                      congestion_list[i].text,\n",
    "                      congestion_Degree_list[i].text,\n",
    "                      Space_list[i].text,\n",
    "                      Space_total_list[i].text])\n",
    "\n",
    "list_all2\n",
    "\n",
    "col_nm = ['공항명(영문)', '공항명(한글)', '주차장명', '주차장 혼잡정도', '주차장 혼잡률', '입고된 차량 수', '전체 주차면 수']\n",
    "new_df2 = pd.DataFrame(list_all2, columns= col_nm)\n",
    "new_df2"
   ]
  },
  {
   "cell_type": "code",
   "execution_count": 16,
   "id": "3936b314",
   "metadata": {},
   "outputs": [
    {
     "name": "stdout",
     "output_type": "stream",
     "text": [
      "[<airportkor>청주국제공항</airportkor>, <airportkor>청주국제공항</airportkor>]\n",
      "공항이름(영문) <airporteng>CHEONGJU INTERNATIONAL AIRPORT</airporteng>\n",
      "공항이름(한글) <airportkor>청주국제공항</airportkor>\n",
      "주차장명 <parkingairportcodename>제1주차장</parkingairportcodename>\n",
      "혼잡정도 <parkingcongestion>만차</parkingcongestion>\n",
      "혼잡률 <parkingcongestiondegree>97.96%</parkingcongestiondegree>\n",
      "입고된 차량 수 <parkingtotalspace>2203</parkingtotalspace>\n",
      "전체 주차면 수 <parkingtotalspace>2203</parkingtotalspace>\n",
      "공항이름(영문) <airporteng>CHEONGJU INTERNATIONAL AIRPORT</airporteng>\n",
      "공항이름(한글) <airportkor>청주국제공항</airportkor>\n",
      "주차장명 <parkingairportcodename>제2주차장</parkingairportcodename>\n",
      "혼잡정도 <parkingcongestion>원활</parkingcongestion>\n",
      "혼잡률 <parkingcongestiondegree>69.94%</parkingcongestiondegree>\n",
      "입고된 차량 수 <parkingtotalspace>1703</parkingtotalspace>\n",
      "전체 주차면 수 <parkingtotalspace>1703</parkingtotalspace>\n"
     ]
    },
    {
     "name": "stderr",
     "output_type": "stream",
     "text": [
      "C:\\Users\\admin\\AppData\\Local\\Temp\\ipykernel_11580\\2044310938.py:45: FutureWarning: In a future version of pandas all arguments of concat except for the argument 'objs' will be keyword-only.\n",
      "  pd.concat(list_all3, list_all2)\n"
     ]
    },
    {
     "ename": "ValueError",
     "evalue": "No objects to concatenate",
     "output_type": "error",
     "traceback": [
      "\u001b[1;31m---------------------------------------------------------------------------\u001b[0m",
      "\u001b[1;31mValueError\u001b[0m                                Traceback (most recent call last)",
      "\u001b[1;32mc:\\Study\\Study_Python2\\파이썬\\9day_\\1_형태별_데이터사용방법.ipynb Cell 21'\u001b[0m in \u001b[0;36m<cell line: 37>\u001b[1;34m()\u001b[0m\n\u001b[0;32m     <a href='vscode-notebook-cell:/c%3A/Study/Study_Python2/%ED%8C%8C%EC%9D%B4%EC%8D%AC/9day_/1_%ED%98%95%ED%83%9C%EB%B3%84_%EB%8D%B0%EC%9D%B4%ED%84%B0%EC%82%AC%EC%9A%A9%EB%B0%A9%EB%B2%95.ipynb#ch0000020?line=36'>37</a>\u001b[0m \u001b[39mfor\u001b[39;00m i \u001b[39min\u001b[39;00m \u001b[39mrange\u001b[39m(\u001b[39m0\u001b[39m, \u001b[39mlen\u001b[39m(air_list), \u001b[39m1\u001b[39m):\n\u001b[0;32m     <a href='vscode-notebook-cell:/c%3A/Study/Study_Python2/%ED%8C%8C%EC%9D%B4%EC%8D%AC/9day_/1_%ED%98%95%ED%83%9C%EB%B3%84_%EB%8D%B0%EC%9D%B4%ED%84%B0%EC%82%AC%EC%9A%A9%EB%B0%A9%EB%B2%95.ipynb#ch0000020?line=37'>38</a>\u001b[0m     list_all2\u001b[39m.\u001b[39mappend([air_list_E[i]\u001b[39m.\u001b[39mtext, \n\u001b[0;32m     <a href='vscode-notebook-cell:/c%3A/Study/Study_Python2/%ED%8C%8C%EC%9D%B4%EC%8D%AC/9day_/1_%ED%98%95%ED%83%9C%EB%B3%84_%EB%8D%B0%EC%9D%B4%ED%84%B0%EC%82%AC%EC%9A%A9%EB%B0%A9%EB%B2%95.ipynb#ch0000020?line=38'>39</a>\u001b[0m                       air_list[i]\u001b[39m.\u001b[39mtext, \n\u001b[0;32m     <a href='vscode-notebook-cell:/c%3A/Study/Study_Python2/%ED%8C%8C%EC%9D%B4%EC%8D%AC/9day_/1_%ED%98%95%ED%83%9C%EB%B3%84_%EB%8D%B0%EC%9D%B4%ED%84%B0%EC%82%AC%EC%9A%A9%EB%B0%A9%EB%B2%95.ipynb#ch0000020?line=39'>40</a>\u001b[0m                       P_list[i]\u001b[39m.\u001b[39mtext, \n\u001b[1;32m   (...)\u001b[0m\n\u001b[0;32m     <a href='vscode-notebook-cell:/c%3A/Study/Study_Python2/%ED%8C%8C%EC%9D%B4%EC%8D%AC/9day_/1_%ED%98%95%ED%83%9C%EB%B3%84_%EB%8D%B0%EC%9D%B4%ED%84%B0%EC%82%AC%EC%9A%A9%EB%B0%A9%EB%B2%95.ipynb#ch0000020?line=42'>43</a>\u001b[0m                       Space_list[i]\u001b[39m.\u001b[39mtext,\n\u001b[0;32m     <a href='vscode-notebook-cell:/c%3A/Study/Study_Python2/%ED%8C%8C%EC%9D%B4%EC%8D%AC/9day_/1_%ED%98%95%ED%83%9C%EB%B3%84_%EB%8D%B0%EC%9D%B4%ED%84%B0%EC%82%AC%EC%9A%A9%EB%B0%A9%EB%B2%95.ipynb#ch0000020?line=43'>44</a>\u001b[0m                       Space_total_list[i]\u001b[39m.\u001b[39mtext])\n\u001b[1;32m---> <a href='vscode-notebook-cell:/c%3A/Study/Study_Python2/%ED%8C%8C%EC%9D%B4%EC%8D%AC/9day_/1_%ED%98%95%ED%83%9C%EB%B3%84_%EB%8D%B0%EC%9D%B4%ED%84%B0%EC%82%AC%EC%9A%A9%EB%B0%A9%EB%B2%95.ipynb#ch0000020?line=44'>45</a>\u001b[0m     pd\u001b[39m.\u001b[39;49mconcat(list_all3, list_all2)\n",
      "File \u001b[1;32mc:\\Users\\admin\\anaconda3\\lib\\site-packages\\pandas\\util\\_decorators.py:311\u001b[0m, in \u001b[0;36mdeprecate_nonkeyword_arguments.<locals>.decorate.<locals>.wrapper\u001b[1;34m(*args, **kwargs)\u001b[0m\n\u001b[0;32m    305\u001b[0m \u001b[39mif\u001b[39;00m \u001b[39mlen\u001b[39m(args) \u001b[39m>\u001b[39m num_allow_args:\n\u001b[0;32m    306\u001b[0m     warnings\u001b[39m.\u001b[39mwarn(\n\u001b[0;32m    307\u001b[0m         msg\u001b[39m.\u001b[39mformat(arguments\u001b[39m=\u001b[39marguments),\n\u001b[0;32m    308\u001b[0m         \u001b[39mFutureWarning\u001b[39;00m,\n\u001b[0;32m    309\u001b[0m         stacklevel\u001b[39m=\u001b[39mstacklevel,\n\u001b[0;32m    310\u001b[0m     )\n\u001b[1;32m--> 311\u001b[0m \u001b[39mreturn\u001b[39;00m func(\u001b[39m*\u001b[39margs, \u001b[39m*\u001b[39m\u001b[39m*\u001b[39mkwargs)\n",
      "File \u001b[1;32mc:\\Users\\admin\\anaconda3\\lib\\site-packages\\pandas\\core\\reshape\\concat.py:347\u001b[0m, in \u001b[0;36mconcat\u001b[1;34m(objs, axis, join, ignore_index, keys, levels, names, verify_integrity, sort, copy)\u001b[0m\n\u001b[0;32m    143\u001b[0m \u001b[39m@deprecate_nonkeyword_arguments\u001b[39m(version\u001b[39m=\u001b[39m\u001b[39mNone\u001b[39;00m, allowed_args\u001b[39m=\u001b[39m[\u001b[39m\"\u001b[39m\u001b[39mobjs\u001b[39m\u001b[39m\"\u001b[39m])\n\u001b[0;32m    144\u001b[0m \u001b[39mdef\u001b[39;00m \u001b[39mconcat\u001b[39m(\n\u001b[0;32m    145\u001b[0m     objs: Iterable[NDFrame] \u001b[39m|\u001b[39m Mapping[Hashable, NDFrame],\n\u001b[1;32m   (...)\u001b[0m\n\u001b[0;32m    154\u001b[0m     copy: \u001b[39mbool\u001b[39m \u001b[39m=\u001b[39m \u001b[39mTrue\u001b[39;00m,\n\u001b[0;32m    155\u001b[0m ) \u001b[39m-\u001b[39m\u001b[39m>\u001b[39m DataFrame \u001b[39m|\u001b[39m Series:\n\u001b[0;32m    156\u001b[0m     \u001b[39m\"\"\"\u001b[39;00m\n\u001b[0;32m    157\u001b[0m \u001b[39m    Concatenate pandas objects along a particular axis with optional set logic\u001b[39;00m\n\u001b[0;32m    158\u001b[0m \u001b[39m    along the other axes.\u001b[39;00m\n\u001b[1;32m   (...)\u001b[0m\n\u001b[0;32m    345\u001b[0m \u001b[39m    ValueError: Indexes have overlapping values: ['a']\u001b[39;00m\n\u001b[0;32m    346\u001b[0m \u001b[39m    \"\"\"\u001b[39;00m\n\u001b[1;32m--> 347\u001b[0m     op \u001b[39m=\u001b[39m _Concatenator(\n\u001b[0;32m    348\u001b[0m         objs,\n\u001b[0;32m    349\u001b[0m         axis\u001b[39m=\u001b[39;49maxis,\n\u001b[0;32m    350\u001b[0m         ignore_index\u001b[39m=\u001b[39;49mignore_index,\n\u001b[0;32m    351\u001b[0m         join\u001b[39m=\u001b[39;49mjoin,\n\u001b[0;32m    352\u001b[0m         keys\u001b[39m=\u001b[39;49mkeys,\n\u001b[0;32m    353\u001b[0m         levels\u001b[39m=\u001b[39;49mlevels,\n\u001b[0;32m    354\u001b[0m         names\u001b[39m=\u001b[39;49mnames,\n\u001b[0;32m    355\u001b[0m         verify_integrity\u001b[39m=\u001b[39;49mverify_integrity,\n\u001b[0;32m    356\u001b[0m         copy\u001b[39m=\u001b[39;49mcopy,\n\u001b[0;32m    357\u001b[0m         sort\u001b[39m=\u001b[39;49msort,\n\u001b[0;32m    358\u001b[0m     )\n\u001b[0;32m    360\u001b[0m     \u001b[39mreturn\u001b[39;00m op\u001b[39m.\u001b[39mget_result()\n",
      "File \u001b[1;32mc:\\Users\\admin\\anaconda3\\lib\\site-packages\\pandas\\core\\reshape\\concat.py:404\u001b[0m, in \u001b[0;36m_Concatenator.__init__\u001b[1;34m(self, objs, axis, join, keys, levels, names, ignore_index, verify_integrity, copy, sort)\u001b[0m\n\u001b[0;32m    401\u001b[0m     objs \u001b[39m=\u001b[39m \u001b[39mlist\u001b[39m(objs)\n\u001b[0;32m    403\u001b[0m \u001b[39mif\u001b[39;00m \u001b[39mlen\u001b[39m(objs) \u001b[39m==\u001b[39m \u001b[39m0\u001b[39m:\n\u001b[1;32m--> 404\u001b[0m     \u001b[39mraise\u001b[39;00m \u001b[39mValueError\u001b[39;00m(\u001b[39m\"\u001b[39m\u001b[39mNo objects to concatenate\u001b[39m\u001b[39m\"\u001b[39m)\n\u001b[0;32m    406\u001b[0m \u001b[39mif\u001b[39;00m keys \u001b[39mis\u001b[39;00m \u001b[39mNone\u001b[39;00m:\n\u001b[0;32m    407\u001b[0m     objs \u001b[39m=\u001b[39m \u001b[39mlist\u001b[39m(com\u001b[39m.\u001b[39mnot_none(\u001b[39m*\u001b[39mobjs))\n",
      "\u001b[1;31mValueError\u001b[0m: No objects to concatenate"
     ]
    }
   ],
   "source": [
    "########### 2단계... html 형태로 의미 부여하기\n",
    "re = response.text\n",
    "soup = BeautifulSoup(re, \"html.parser\")\n",
    "#print(soup)\n",
    "\n",
    "\n",
    "air_list_E = soup.find_all(\"airporteng\")\n",
    "\n",
    "air_list = soup.find_all(\"airportkor\")\n",
    "\n",
    "P_list = soup.find_all(\"parkingairportcodename\")\n",
    "\n",
    "congestion_list = soup.find_all(\"parkingcongestion\")\n",
    "\n",
    "congestion_Degree_list = soup.find_all(\"parkingcongestiondegree\")\n",
    "\n",
    "Space_list = soup.find_all(\"parkingoccupiedspace\")\n",
    "\n",
    "Space_total_list = soup.find_all(\"parkingtotalspace\")\n",
    "\n",
    "print(air_list)\n",
    "\n",
    "for i in range(0, len(air_list),1):\n",
    "    print('공항이름(영문)' , air_list_E[i])\n",
    "    print('공항이름(한글)' , air_list[i])\n",
    "    print('주차장명' , P_list[i])\n",
    "    print('혼잡정도' , congestion_list[i])\n",
    "    print('혼잡률' , congestion_Degree_list[i])\n",
    "    print('입고된 차량 수' , Space_total_list[i])\n",
    "    print('전체 주차면 수' , Space_total_list[i])\n",
    "\n",
    "\n",
    "\n",
    "list_all2 = []\n",
    "list_all3 = []\n",
    "\n",
    "for i in range(0, len(air_list), 1):\n",
    "    list_all2.append([air_list_E[i].text, \n",
    "                      air_list[i].text, \n",
    "                      P_list[i].text, \n",
    "                      congestion_list[i].text,\n",
    "                      congestion_Degree_list[i].text,\n",
    "                      Space_list[i].text,\n",
    "                      Space_total_list[i].text])\n",
    "    \n",
    "\n",
    "# list_all2\n",
    "\n",
    "#col_nm = ['공항명(영문)', '공항명(한글)', '주차장명', '주차장 혼잡정도', '주차장 혼잡률', '입고된 차량 수', '전체 주차면 수']\n",
    "#new_df2 = pd.DataFrame(list_all2, columns= col_nm)\n",
    "#new_df2\n",
    "\n",
    "# df_temp_air = pd.DataFrame({'공항명(영문)':air_list_E,\n",
    "#                             '공항명(한글)' : air_list,\n",
    "#                             '주차장명': P_list,\n",
    "#                             '주차장 혼잡정도' : congestion_list,\n",
    "#                             '주차장 혼잡률' : congestion_Degree_list,\n",
    "#                             '입고된 차량 수' : Space_list,\n",
    "#                             '전체 주차면 수' : Space_total_list})\n",
    "# df_temp_air\n",
    "   "
   ]
  },
  {
   "cell_type": "code",
   "execution_count": 59,
   "id": "454097e9",
   "metadata": {},
   "outputs": [
    {
     "data": {
      "text/plain": [
       "[['GIMPO INTERNATIONAL AIRPORT',\n",
       "  '김포국제공항',\n",
       "  '[상세]예약주차장',\n",
       "  '원활',\n",
       "  '15.06%',\n",
       "  '50',\n",
       "  '332'],\n",
       " ['GIMPO INTERNATIONAL AIRPORT',\n",
       "  '김포국제공항',\n",
       "  '국내선 제1주차장',\n",
       "  '혼잡',\n",
       "  '91%',\n",
       "  '2074',\n",
       "  '2279'],\n",
       " ['GIMPO INTERNATIONAL AIRPORT',\n",
       "  '김포국제공항',\n",
       "  '국내선 제2주차장',\n",
       "  '혼잡',\n",
       "  '90.03%',\n",
       "  '1572',\n",
       "  '1746'],\n",
       " ['GIMPO INTERNATIONAL AIRPORT', '김포국제공항', '국제선 주차빌딩', '원활', '0%', '0', '567'],\n",
       " ['GIMPO INTERNATIONAL AIRPORT',\n",
       "  '김포국제공항',\n",
       "  '국제선 지하주차장',\n",
       "  '원활',\n",
       "  '18.92%',\n",
       "  '227',\n",
       "  '1200'],\n",
       " ['GIMPO INTERNATIONAL AIRPORT',\n",
       "  '김포국제공항',\n",
       "  '화물청사 주차장',\n",
       "  '원활',\n",
       "  '55.58%',\n",
       "  '632',\n",
       "  '1137']]"
      ]
     },
     "execution_count": 59,
     "metadata": {},
     "output_type": "execute_result"
    }
   ],
   "source": [
    "list_all2"
   ]
  },
  {
   "cell_type": "code",
   "execution_count": null,
   "id": "aef77101",
   "metadata": {},
   "outputs": [],
   "source": []
  }
 ],
 "metadata": {
  "kernelspec": {
   "display_name": "Python 3.9.12 ('base')",
   "language": "python",
   "name": "python3"
  },
  "language_info": {
   "codemirror_mode": {
    "name": "ipython",
    "version": 3
   },
   "file_extension": ".py",
   "mimetype": "text/x-python",
   "name": "python",
   "nbconvert_exporter": "python",
   "pygments_lexer": "ipython3",
   "version": "3.9.12"
  },
  "vscode": {
   "interpreter": {
    "hash": "610a6f344c2137faf927ea819c63f6cee33a2c04455044b28099f39fe9722347"
   }
  }
 },
 "nbformat": 4,
 "nbformat_minor": 5
}
