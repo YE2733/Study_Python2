{
 "cells": [
  {
   "cell_type": "markdown",
   "id": "ef28e61c",
   "metadata": {},
   "source": [
    "### 파이썬 기초"
   ]
  },
  {
   "cell_type": "code",
   "execution_count": null,
   "id": "3ed5d4f4",
   "metadata": {},
   "outputs": [],
   "source": [
    "\"\"\"\n",
    "[문제]\n",
    "dict_val이라는 딕셔너리 변수에\n",
    "아래 값을 넣기 \n",
    "a키에는 리스트 \"aa\", \"bb\", \"cc\" 넣기\n",
    "b키에는 리스트 \"a\", \"b\", \"c\"넣기\n",
    "\n",
    "dict_val에 들어있는 키값에 대한 리스트 출력하기\n",
    "\"\"\""
   ]
  },
  {
   "cell_type": "code",
   "execution_count": 8,
   "id": "8a959793",
   "metadata": {},
   "outputs": [
    {
     "name": "stdout",
     "output_type": "stream",
     "text": [
      "['aa', 'bb', 'cc']\n",
      "['a', 'b', 'c']\n"
     ]
    }
   ],
   "source": [
    "dict_val = {\"a\" : [\"aa\", \"bb\", \"cc\"],\n",
    "            \"b\" : [\"a\", \"b\", \"c\"]}\n",
    "\n",
    "print(dict_val[\"a\"])\n",
    "print(dict_val[\"b\"]) \n"
   ]
  },
  {
   "cell_type": "code",
   "execution_count": 9,
   "id": "a7d881ea",
   "metadata": {},
   "outputs": [
    {
     "data": {
      "text/plain": [
       "{'a': ['aa', 'bb', 'cc'], 'b': ['a', 'b', 'c']}"
      ]
     },
     "execution_count": 9,
     "metadata": {},
     "output_type": "execute_result"
    }
   ],
   "source": [
    "dict_val"
   ]
  },
  {
   "cell_type": "code",
   "execution_count": 16,
   "id": "415fc5be",
   "metadata": {},
   "outputs": [
    {
     "name": "stdout",
     "output_type": "stream",
     "text": [
      "['aa', 'bb', 'cc']\n",
      "aa\n",
      "bb\n",
      "cc\n",
      "aa\n",
      "bb\n",
      "cc\n",
      "aa\n",
      "bb\n",
      "cc\n",
      "aa\n",
      "bb\n",
      "cc\n",
      "['a', 'b', 'c']\n",
      "a\n",
      "b\n",
      "c\n",
      "a\n",
      "b\n",
      "c\n",
      "a\n",
      "b\n",
      "c\n",
      "a\n",
      "b\n",
      "c\n"
     ]
    }
   ],
   "source": [
    "for k in dict_val :\n",
    "    # key의 값 가지고 오기\n",
    "    print(dict_val[k])\n",
    "    list_val = dict_val[k]\n",
    "    # 리스트의 값을 이용하는 방식\n",
    "    for val in dict_val[k] :\n",
    "        print(val)\n",
    "    # 리스트의 인덱스번호를 이용하는 방식\n",
    "    for i in range(0, len(dict_val[k])) :\n",
    "        print(dict_val[k][i])\n",
    "        \n",
    "    for val in list_val :\n",
    "        print(val)\n",
    "    \n",
    "    for i in range(0, len(list_val)) :\n",
    "        print(list_val[i])"
   ]
  },
  {
   "cell_type": "code",
   "execution_count": null,
   "id": "4b12fa6b",
   "metadata": {},
   "outputs": [],
   "source": [
    "\"\"\"\n",
    "list_val 이라는 리스트 변수에 딕셔너리 값을 넣겠습니다.\n",
    "첫번째 리스트에는 a키, 값은 리스트 \"aa\", \"bb\", \"cc\" 넣기\n",
    "두번째 리스트에는 b키, 값은 리스트 \"a\", \"b\", \"c\"넣기\n",
    "\n",
    "list_val 출력하기\n",
    "\"\"\""
   ]
  },
  {
   "cell_type": "code",
   "execution_count": 17,
   "id": "f2e25dc3",
   "metadata": {},
   "outputs": [
    {
     "data": {
      "text/plain": [
       "[{'a': ['aa', 'bb', 'cc']}, {'b': ['a', 'b', 'c']}]"
      ]
     },
     "execution_count": 17,
     "metadata": {},
     "output_type": "execute_result"
    }
   ],
   "source": [
    "list_val = [{\"a\" : [\"aa\", \"bb\", \"cc\"]}, \n",
    "            {\"b\" : [\"a\", \"b\", \"c\"]}]\n",
    "list_val"
   ]
  },
  {
   "cell_type": "code",
   "execution_count": 19,
   "id": "9efd4ec6",
   "metadata": {},
   "outputs": [
    {
     "data": {
      "text/plain": [
       "[{'a': ['aa', 'bb', 'cc']}, {'b': ['a', 'b', 'c']}]"
      ]
     },
     "execution_count": 19,
     "metadata": {},
     "output_type": "execute_result"
    }
   ],
   "source": [
    "dict1 = {\"a\" : [\"aa\", \"ab\", \"cc\"]}\n",
    "dict2 = {\"b\" : [\"a\", \"b\", \"c\"]}\n",
    "list_val2 = [dict1, dict2]\n",
    "list_val2"
   ]
  },
  {
   "cell_type": "code",
   "execution_count": 33,
   "id": "de476b59",
   "metadata": {},
   "outputs": [
    {
     "name": "stdout",
     "output_type": "stream",
     "text": [
      "{'a': ['aa', 'bb', 'cc']}\n",
      "['aa', 'bb', 'cc']\n",
      "aa\n",
      "bb\n",
      "cc\n",
      "{'b': ['a', 'b', 'c']}\n",
      "['a', 'b', 'c']\n",
      "a\n",
      "b\n",
      "c\n"
     ]
    }
   ],
   "source": [
    "# list_val에 들어있는 딕셔너리의 키에 대응하는 값들을 모두 출력해 주세요..\n",
    "for d in list_val:\n",
    "    print(d)\n",
    "    \n",
    "    for k in d:\n",
    "        print(d[k])\n",
    "        \n",
    "        for v in d[k]:\n",
    "            print(v)"
   ]
  },
  {
   "cell_type": "code",
   "execution_count": null,
   "id": "6044d5ed",
   "metadata": {},
   "outputs": [],
   "source": [
    "# 위에 list_val에 들어있는 딕셔너리의 키에 대응하는 값 중에\n",
    "# \"b\"라는 단어가 들어 있으면 해당 키에 대응하는 값을\n",
    "# list_temp 라는 리스트변수에 담아주세요\n",
    "# list_temp에 값이 잘 담겨져 있는지 출력하기.."
   ]
  },
  {
   "cell_type": "code",
   "execution_count": 49,
   "id": "cb255cb8",
   "metadata": {},
   "outputs": [
    {
     "name": "stdout",
     "output_type": "stream",
     "text": [
      "{'a': ['aa', 'bb', 'cc']}\n",
      "['aa', 'bb', 'cc']\n",
      "aa\n",
      "False\n",
      "bb\n",
      "True\n",
      "cc\n",
      "False\n",
      "{'b': ['a', 'b', 'c']}\n",
      "['a', 'b', 'c']\n",
      "a\n",
      "False\n",
      "b\n",
      "True\n",
      "c\n",
      "False\n"
     ]
    },
    {
     "data": {
      "text/plain": [
       "['bb', 'b']"
      ]
     },
     "execution_count": 49,
     "metadata": {},
     "output_type": "execute_result"
    }
   ],
   "source": [
    "list_temp = []\n",
    "for d in list_val:\n",
    "    print(d)\n",
    "    \n",
    "    for k in d:\n",
    "        print(d[k])\n",
    "        \n",
    "        for v in d[k]:\n",
    "            print(v)\n",
    "#             print(\"------------\")\n",
    "#             print(v[0])\n",
    "#             print(\"------------\")\n",
    "#             if v[0] == \"b\":\n",
    "#                 list_temp.append(v)\n",
    "            print(v.find(\"b\") >= 0)\n",
    "            if v.find(\"b\") >= 0 :\n",
    "                list_temp.append(v)\n",
    "list_temp"
   ]
  },
  {
   "cell_type": "code",
   "execution_count": 50,
   "id": "87bebf78",
   "metadata": {},
   "outputs": [
    {
     "data": {
      "text/plain": [
       "[{'a': ['aa', 'bb', 'cc']}, {'b': ['a', 'b', 'c']}]"
      ]
     },
     "execution_count": 50,
     "metadata": {},
     "output_type": "execute_result"
    }
   ],
   "source": [
    "list_val"
   ]
  },
  {
   "cell_type": "code",
   "execution_count": 51,
   "id": "875acefe",
   "metadata": {},
   "outputs": [
    {
     "data": {
      "text/plain": [
       "2"
      ]
     },
     "execution_count": 51,
     "metadata": {},
     "output_type": "execute_result"
    }
   ],
   "source": [
    "len(list_val)"
   ]
  },
  {
   "cell_type": "code",
   "execution_count": 56,
   "id": "350b97a6",
   "metadata": {},
   "outputs": [],
   "source": [
    "for i in range(0, len(list_val), 1):\n",
    "    i=1\n",
    "    list_val[i]"
   ]
  },
  {
   "cell_type": "code",
   "execution_count": 53,
   "id": "17b5405a",
   "metadata": {},
   "outputs": [],
   "source": [
    "for v in list_val :\n",
    "    v"
   ]
  },
  {
   "cell_type": "code",
   "execution_count": null,
   "id": "c116714e",
   "metadata": {},
   "outputs": [],
   "source": []
  }
 ],
 "metadata": {
  "kernelspec": {
   "display_name": "Python 3 (ipykernel)",
   "language": "python",
   "name": "python3"
  },
  "language_info": {
   "codemirror_mode": {
    "name": "ipython",
    "version": 3
   },
   "file_extension": ".py",
   "mimetype": "text/x-python",
   "name": "python",
   "nbconvert_exporter": "python",
   "pygments_lexer": "ipython3",
   "version": "3.9.7"
  }
 },
 "nbformat": 4,
 "nbformat_minor": 5
}
