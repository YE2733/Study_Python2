{
 "cells": [
  {
   "cell_type": "code",
   "execution_count": 1,
   "metadata": {},
   "outputs": [],
   "source": [
    "import pandas as pd"
   ]
  },
  {
   "cell_type": "code",
   "execution_count": null,
   "metadata": {},
   "outputs": [],
   "source": [
    "file_path = './files_org/표본자료 변수 테이블(2012-2013).xlsx'\n",
    "\n",
    "for i in range(0, len(nm_list), 1) :\n",
    "    df_dict[nm_list[i]] = pd.read_csv('./files_org/SAMPLE_DB_{}TABLE_2013.txt').format()\n",
    "\n",
    "    df_col_dict[nm_list[i]] = pd.read_excel(file_path, sheet_name=sheet_list[i], usecols='A','D')\n",
    "    new_dict = {}\n",
    "    # {20: dataframe, 30:}\n",
    "    for j in range(0, len(dt_col_dict[nm_list[i]])):\n",
    "        new_dict[df_col_dict[nm_list[i]].to_dict('records')[j]['변수명']] = \\\n",
    "        df_col_dict[nm_list[i]].to_dict('records')[j]['표준한글컬럼명']\n",
    "\n",
    "    df_dict[nm_list[i]].rename(columns = new_dict).to_excel(\n",
    "        './files_new2/df_kor_{}.xlex'.format(sheet_list[i]),\n",
    "        index=False\n",
    "    )    "
   ]
  }
 ],
 "metadata": {
  "kernelspec": {
   "display_name": "Python 3.9.12 ('base')",
   "language": "python",
   "name": "python3"
  },
  "language_info": {
   "codemirror_mode": {
    "name": "ipython",
    "version": 3
   },
   "file_extension": ".py",
   "mimetype": "text/x-python",
   "name": "python",
   "nbconvert_exporter": "python",
   "pygments_lexer": "ipython3",
   "version": "3.9.12"
  },
  "orig_nbformat": 4,
  "vscode": {
   "interpreter": {
    "hash": "610a6f344c2137faf927ea819c63f6cee33a2c04455044b28099f39fe9722347"
   }
  }
 },
 "nbformat": 4,
 "nbformat_minor": 2
}
