{
 "cells": [
  {
   "cell_type": "code",
   "execution_count": 2,
   "metadata": {},
   "outputs": [],
   "source": [
    "import numpy as np"
   ]
  },
  {
   "cell_type": "markdown",
   "metadata": {},
   "source": [
    "### 산술 연산\n",
    "- 배열은 기본적으로 요소의 연산이 가능"
   ]
  },
  {
   "cell_type": "markdown",
   "metadata": {},
   "source": [
    "리스트의 덧셈"
   ]
  },
  {
   "cell_type": "code",
   "execution_count": 4,
   "metadata": {},
   "outputs": [
    {
     "name": "stdout",
     "output_type": "stream",
     "text": [
      "[1, 2, 3, 4.5, 6]\n"
     ]
    }
   ],
   "source": [
    "list1 = [1,2,3]\n",
    "list2 = [4.5,6]\n",
    "print(list1+list2)"
   ]
  },
  {
   "cell_type": "markdown",
   "metadata": {},
   "source": [
    "배열의 덧셈"
   ]
  },
  {
   "cell_type": "code",
   "execution_count": 5,
   "metadata": {},
   "outputs": [
    {
     "name": "stdout",
     "output_type": "stream",
     "text": [
      "[5 7 9]\n"
     ]
    }
   ],
   "source": [
    "arr1 = np.array([1,2,3])\n",
    "arr2 = np.array([4,5,6])\n",
    "print(arr1+arr2)"
   ]
  },
  {
   "cell_type": "markdown",
   "metadata": {},
   "source": [
    "- shape이 같은 배열은 연산 가능 "
   ]
  },
  {
   "cell_type": "markdown",
   "metadata": {},
   "source": [
    "모양이 같은 배열 연산"
   ]
  },
  {
   "cell_type": "code",
   "execution_count": 39,
   "metadata": {},
   "outputs": [
    {
     "name": "stdout",
     "output_type": "stream",
     "text": [
      "[[12. 14. 16.]\n",
      " [18. 20. 22.]]\n",
      "[[10. 10. 10.]\n",
      " [10. 10. 10.]]\n"
     ]
    }
   ],
   "source": [
    "arr1 = np.arange(1,7,dtype=np.float32).reshape(2,3)\n",
    "arr2 = np.arange(11,17,dtype=np.float32).reshape(2,3)\n",
    "print(arr1+arr2)  # 더하기\n",
    "print(arr2-arr1)  # 빼기"
   ]
  },
  {
   "cell_type": "code",
   "execution_count": 40,
   "metadata": {},
   "outputs": [
    {
     "name": "stdout",
     "output_type": "stream",
     "text": [
      "[[11. 24. 39.]\n",
      " [56. 75. 96.]]\n",
      "[[11.         6.         4.3333335]\n",
      " [ 3.5        3.         2.6666667]]\n",
      "[[1.0000000e+00 4.0960000e+03 1.5943230e+06]\n",
      " [2.6843546e+08 3.0517578e+10 2.8211098e+12]]\n"
     ]
    }
   ],
   "source": [
    "print(arr1*arr2)   # 곱하기\n",
    "print(arr2/arr1)   # 나누기\n",
    "print(arr1**arr2)  # 제곱\n"
   ]
  },
  {
   "cell_type": "code",
   "execution_count": 41,
   "metadata": {},
   "outputs": [
    {
     "name": "stdout",
     "output_type": "stream",
     "text": [
      "[[11.  6.  4.]\n",
      " [ 3.  3.  2.]]\n",
      "[[0. 0. 1.]\n",
      " [2. 0. 4.]]\n"
     ]
    }
   ],
   "source": [
    "print(arr2//arr1)  # 몫\n",
    "print(arr2%arr1)  # 나머지"
   ]
  },
  {
   "cell_type": "markdown",
   "metadata": {},
   "source": [
    "- Numpy의 연산함수"
   ]
  },
  {
   "cell_type": "markdown",
   "metadata": {},
   "source": [
    "np.add(arr1, arr2)"
   ]
  },
  {
   "cell_type": "code",
   "execution_count": 9,
   "metadata": {},
   "outputs": [
    {
     "name": "stdout",
     "output_type": "stream",
     "text": [
      "[[12. 14. 16.]\n",
      " [18. 20. 22.]]\n",
      "[[12. 14. 16.]\n",
      " [18. 20. 22.]]\n"
     ]
    }
   ],
   "source": [
    "print(arr1+arr2)\n",
    "print(np.add(arr1,arr2))"
   ]
  },
  {
   "cell_type": "markdown",
   "metadata": {},
   "source": [
    "np.subtract(arr1, arr2)"
   ]
  },
  {
   "cell_type": "code",
   "execution_count": 10,
   "metadata": {},
   "outputs": [
    {
     "name": "stdout",
     "output_type": "stream",
     "text": [
      "[[-10. -10. -10.]\n",
      " [-10. -10. -10.]]\n",
      "[[-10. -10. -10.]\n",
      " [-10. -10. -10.]]\n"
     ]
    }
   ],
   "source": [
    "print(arr1-arr2)\n",
    "print(np.subtract(arr1,arr2))"
   ]
  },
  {
   "cell_type": "markdown",
   "metadata": {},
   "source": [
    "np.multiply(arr1, arr2)"
   ]
  },
  {
   "cell_type": "code",
   "execution_count": 11,
   "metadata": {},
   "outputs": [
    {
     "name": "stdout",
     "output_type": "stream",
     "text": [
      "[[11. 24. 39.]\n",
      " [56. 75. 96.]]\n",
      "[[11. 24. 39.]\n",
      " [56. 75. 96.]]\n"
     ]
    }
   ],
   "source": [
    "print(arr1*arr2)\n",
    "print(np.multiply(arr1,arr2))"
   ]
  },
  {
   "cell_type": "markdown",
   "metadata": {},
   "source": [
    "np.divide(arr1, arr2)"
   ]
  },
  {
   "cell_type": "code",
   "execution_count": 12,
   "metadata": {},
   "outputs": [
    {
     "name": "stdout",
     "output_type": "stream",
     "text": [
      "[[0.09090909 0.16666667 0.23076923]\n",
      " [0.2857143  0.33333334 0.375     ]]\n",
      "[[0.09090909 0.16666667 0.23076923]\n",
      " [0.2857143  0.33333334 0.375     ]]\n"
     ]
    }
   ],
   "source": [
    "print(arr1/arr2)\n",
    "print(np.divide(arr1,arr2))"
   ]
  },
  {
   "cell_type": "markdown",
   "metadata": {},
   "source": [
    "- broadcasting\n",
    "- 연산하고자 하는 배열의 모양이 다른 경우의 연산"
   ]
  },
  {
   "cell_type": "markdown",
   "metadata": {},
   "source": [
    "일반적인 상황"
   ]
  },
  {
   "cell_type": "code",
   "execution_count": 13,
   "metadata": {},
   "outputs": [
    {
     "ename": "ValueError",
     "evalue": "operands could not be broadcast together with shapes (5,2) (2,5) ",
     "output_type": "error",
     "traceback": [
      "\u001b[1;31m---------------------------------------------------------------------------\u001b[0m",
      "\u001b[1;31mValueError\u001b[0m                                Traceback (most recent call last)",
      "\u001b[1;32mc:\\Study\\Study Python2\\03_넘파이 배열 연산.ipynb Cell 21'\u001b[0m in \u001b[0;36m<cell line: 3>\u001b[1;34m()\u001b[0m\n\u001b[0;32m      <a href='vscode-notebook-cell:/c%3A/Study/Study%20Python2/03_%EB%84%98%ED%8C%8C%EC%9D%B4%20%EB%B0%B0%EC%97%B4%20%EC%97%B0%EC%82%B0.ipynb#ch0000020?line=0'>1</a>\u001b[0m arr3 \u001b[39m=\u001b[39m np\u001b[39m.\u001b[39marange(\u001b[39m10\u001b[39m)\u001b[39m.\u001b[39mreshape(\u001b[39m5\u001b[39m,\u001b[39m2\u001b[39m)\n\u001b[0;32m      <a href='vscode-notebook-cell:/c%3A/Study/Study%20Python2/03_%EB%84%98%ED%8C%8C%EC%9D%B4%20%EB%B0%B0%EC%97%B4%20%EC%97%B0%EC%82%B0.ipynb#ch0000020?line=1'>2</a>\u001b[0m arr4 \u001b[39m=\u001b[39m np\u001b[39m.\u001b[39marange(\u001b[39m10\u001b[39m)\u001b[39m.\u001b[39mreshape(\u001b[39m2\u001b[39m,\u001b[39m5\u001b[39m)\n\u001b[1;32m----> <a href='vscode-notebook-cell:/c%3A/Study/Study%20Python2/03_%EB%84%98%ED%8C%8C%EC%9D%B4%20%EB%B0%B0%EC%97%B4%20%EC%97%B0%EC%82%B0.ipynb#ch0000020?line=2'>3</a>\u001b[0m \u001b[39mprint\u001b[39m(arr3\u001b[39m+\u001b[39;49marr4)\n",
      "\u001b[1;31mValueError\u001b[0m: operands could not be broadcast together with shapes (5,2) (2,5) "
     ]
    }
   ],
   "source": [
    "arr3 = np.arange(10).reshape(5,2)\n",
    "arr4 = np.arange(10).reshape(2,5)\n",
    "print(arr3+arr4)\n",
    "\n",
    "# operands could not be broadcast together with shapes (5,2) (2,5) : (5,2) (2,5) shape이 다름"
   ]
  },
  {
   "cell_type": "markdown",
   "metadata": {},
   "source": [
    "- Broadcasting : shape이 다른 배열 간 연산 지원"
   ]
  },
  {
   "cell_type": "markdown",
   "metadata": {},
   "source": [
    "배열과 스칼라의 연산"
   ]
  },
  {
   "cell_type": "code",
   "execution_count": 14,
   "metadata": {},
   "outputs": [
    {
     "name": "stdout",
     "output_type": "stream",
     "text": [
      "[11 12 13]\n"
     ]
    }
   ],
   "source": [
    "scalar = 10\n",
    "vector = np.array([1,2,3])\n",
    "print(scalar+vector)"
   ]
  },
  {
   "cell_type": "code",
   "execution_count": 15,
   "metadata": {},
   "outputs": [
    {
     "name": "stdout",
     "output_type": "stream",
     "text": [
      "[[11 12 13]\n",
      " [14 15 16]]\n"
     ]
    }
   ],
   "source": [
    "scalar = 10\n",
    "matrix = np.array([[1,2,3],[4,5,6]])\n",
    "print(scalar+matrix)"
   ]
  },
  {
   "cell_type": "code",
   "execution_count": 17,
   "metadata": {},
   "outputs": [
    {
     "name": "stdout",
     "output_type": "stream",
     "text": [
      "[[[11 12 13]\n",
      "  [14 15 16]]\n",
      "\n",
      " [[17 18 19]\n",
      "  [20 21 22]]\n",
      "\n",
      " [[23 24 25]\n",
      "  [26 27 28]]]\n"
     ]
    }
   ],
   "source": [
    "scalar = 10\n",
    "tensor = np.array([[[1,2,3],[4,5,6]],[[7,8,9],[10,11,12]],[[13,14,15],[16,17,18]]])\n",
    "print(scalar+tensor)"
   ]
  },
  {
   "cell_type": "markdown",
   "metadata": {},
   "source": [
    "벡터와 매트릭스의 연산"
   ]
  },
  {
   "cell_type": "code",
   "execution_count": 24,
   "metadata": {},
   "outputs": [
    {
     "name": "stdout",
     "output_type": "stream",
     "text": [
      "[[12 14 16]\n",
      " [15 17 19]\n",
      " [18 20 22]]\n"
     ]
    }
   ],
   "source": [
    "matirix = np.arange(1,10).reshape(3,3)\n",
    "vector = np.arange(11,14).reshape(1,3)\n",
    "print(matrix+vector)"
   ]
  },
  {
   "cell_type": "code",
   "execution_count": 25,
   "metadata": {},
   "outputs": [
    {
     "name": "stdout",
     "output_type": "stream",
     "text": [
      "[[12 13 14]\n",
      " [16 17 18]\n",
      " [20 21 22]]\n"
     ]
    }
   ],
   "source": [
    "matrix = np.arange(1,10).reshape(3,3)\n",
    "vector = np.arange(11,14).reshape(3,1)\n",
    "print(matrix+vector)"
   ]
  },
  {
   "cell_type": "markdown",
   "metadata": {},
   "source": [
    "벡터와 벡터의 브로드캐스팅 연산"
   ]
  },
  {
   "cell_type": "code",
   "execution_count": 27,
   "metadata": {},
   "outputs": [
    {
     "name": "stdout",
     "output_type": "stream",
     "text": [
      "[1 2 3]\n",
      "[[1]\n",
      " [2]\n",
      " [3]]\n",
      "[[2 3 4]\n",
      " [3 4 5]\n",
      " [4 5 6]]\n"
     ]
    }
   ],
   "source": [
    "arr1 = np.array([1,2,3])\n",
    "arr2 = np.array([1,2,3]).reshape(3,1)\n",
    "print(arr1)\n",
    "print(arr2)\n",
    "\n",
    "print(arr1+arr2)"
   ]
  },
  {
   "cell_type": "markdown",
   "metadata": {},
   "source": [
    "행렬 연산\n",
    "-  수학에서의 행렬의 곱셈\n",
    "- np.dot(arr1, arr2) 함수 사용"
   ]
  },
  {
   "cell_type": "markdown",
   "metadata": {},
   "source": [
    "일반적인 행렬곱"
   ]
  },
  {
   "cell_type": "code",
   "execution_count": 28,
   "metadata": {},
   "outputs": [
    {
     "name": "stdout",
     "output_type": "stream",
     "text": [
      "[1 4 9]\n"
     ]
    }
   ],
   "source": [
    "arr1 = np.array([1,2,3])\n",
    "arr2 = np.array([1,2,3])\n",
    "\n",
    "print(arr1*arr2)\n"
   ]
  },
  {
   "cell_type": "markdown",
   "metadata": {},
   "source": [
    "np.dot 사용 행렬곱"
   ]
  },
  {
   "cell_type": "code",
   "execution_count": 30,
   "metadata": {},
   "outputs": [
    {
     "name": "stdout",
     "output_type": "stream",
     "text": [
      "14\n"
     ]
    }
   ],
   "source": [
    "arr1 = np.array([1,2,3])\n",
    "arr2 = np.array([1,2,3]).T\n",
    "\n",
    "print(np.dot(arr1,arr2))"
   ]
  },
  {
   "cell_type": "markdown",
   "metadata": {},
   "source": [
    "np.dot(arr1,arr2)"
   ]
  },
  {
   "cell_type": "code",
   "execution_count": 31,
   "metadata": {},
   "outputs": [
    {
     "name": "stdout",
     "output_type": "stream",
     "text": [
      "14\n"
     ]
    }
   ],
   "source": [
    "print(np.dot(arr1,arr2))"
   ]
  },
  {
   "cell_type": "markdown",
   "metadata": {},
   "source": [
    "arr1.dot(arr2)"
   ]
  },
  {
   "cell_type": "code",
   "execution_count": 32,
   "metadata": {},
   "outputs": [
    {
     "name": "stdout",
     "output_type": "stream",
     "text": [
      "14\n"
     ]
    }
   ],
   "source": [
    "print(arr1.dot(arr2))"
   ]
  },
  {
   "cell_type": "markdown",
   "metadata": {},
   "source": [
    "arr1@arr2"
   ]
  },
  {
   "cell_type": "code",
   "execution_count": 33,
   "metadata": {},
   "outputs": [
    {
     "name": "stdout",
     "output_type": "stream",
     "text": [
      "14\n"
     ]
    }
   ],
   "source": [
    "print(arr1@arr2)"
   ]
  },
  {
   "cell_type": "markdown",
   "metadata": {},
   "source": [
    "2차원 배열 행렬곱"
   ]
  },
  {
   "cell_type": "code",
   "execution_count": 44,
   "metadata": {},
   "outputs": [
    {
     "name": "stdout",
     "output_type": "stream",
     "text": [
      "[[ 82  88]\n",
      " [199 214]]\n"
     ]
    }
   ],
   "source": [
    "arr3 = np.arange(1,7).reshape(2,3)\n",
    "arr4 = np.arange(11,17).reshape(3,2)\n",
    "\n",
    "print(np.dot(arr3,arr4))"
   ]
  }
 ],
 "metadata": {
  "interpreter": {
   "hash": "38ae1ba9371524da054e8e3fbefd778d16b5a8ac7937a3f395010f627bb73919"
  },
  "kernelspec": {
   "display_name": "Python 3.9.12 64-bit",
   "language": "python",
   "name": "python3"
  },
  "language_info": {
   "codemirror_mode": {
    "name": "ipython",
    "version": 3
   },
   "file_extension": ".py",
   "mimetype": "text/x-python",
   "name": "python",
   "nbconvert_exporter": "python",
   "pygments_lexer": "ipython3",
   "version": "3.9.12"
  },
  "orig_nbformat": 4
 },
 "nbformat": 4,
 "nbformat_minor": 2
}
