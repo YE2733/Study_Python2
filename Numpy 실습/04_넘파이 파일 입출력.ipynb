{
 "cells": [
  {
   "cell_type": "code",
   "execution_count": 1,
   "metadata": {},
   "outputs": [],
   "source": [
    "import numpy as np"
   ]
  },
  {
   "cell_type": "markdown",
   "metadata": {},
   "source": [
    "### 파일 처리\n",
    "- ndarray의 정보를 파일로 저장할 수 있다.\n",
    "- 일반적인 파일 확장자는 npy를 사용한다."
   ]
  },
  {
   "cell_type": "markdown",
   "metadata": {},
   "source": [
    "파일 저장(tofile)"
   ]
  },
  {
   "cell_type": "code",
   "execution_count": 3,
   "metadata": {},
   "outputs": [
    {
     "name": "stdout",
     "output_type": "stream",
     "text": [
      "[[-0.3866583   1.21179749  0.7507118   1.44030856 -2.62523251]\n",
      " [-1.41617307  0.23836438  0.91137456  0.20390135  0.03598366]\n",
      " [-0.03596328  0.82681176  0.8684979   1.38714746  1.33071803]]\n"
     ]
    }
   ],
   "source": [
    "n = np.random.randn(3,5)\n",
    "print(n)\n",
    "n.tofile('n.npy')"
   ]
  },
  {
   "cell_type": "markdown",
   "metadata": {},
   "source": [
    "파일 불러오기(fromfile)"
   ]
  },
  {
   "cell_type": "code",
   "execution_count": 4,
   "metadata": {},
   "outputs": [
    {
     "ename": "FileNotFoundError",
     "evalue": "[Errno 2] No such file or directory: 'C:/Study/Study Python2/n.npy'",
     "output_type": "error",
     "traceback": [
      "\u001b[1;31m---------------------------------------------------------------------------\u001b[0m",
      "\u001b[1;31mFileNotFoundError\u001b[0m                         Traceback (most recent call last)",
      "\u001b[1;32mc:\\Study\\Study_Python2\\실습\\04_넘파이 파일 입출력.ipynb Cell 6'\u001b[0m in \u001b[0;36m<cell line: 1>\u001b[1;34m()\u001b[0m\n\u001b[1;32m----> <a href='vscode-notebook-cell:/c%3A/Study/Study_Python2/%EC%8B%A4%EC%8A%B5/04_%EB%84%98%ED%8C%8C%EC%9D%B4%20%ED%8C%8C%EC%9D%BC%20%EC%9E%85%EC%B6%9C%EB%A0%A5.ipynb#ch0000005?line=0'>1</a>\u001b[0m m \u001b[39m=\u001b[39m np\u001b[39m.\u001b[39;49mfromfile(\u001b[39m'\u001b[39;49m\u001b[39mC:/Study/Study Python2/n.npy\u001b[39;49m\u001b[39m'\u001b[39;49m)\n\u001b[0;32m      <a href='vscode-notebook-cell:/c%3A/Study/Study_Python2/%EC%8B%A4%EC%8A%B5/04_%EB%84%98%ED%8C%8C%EC%9D%B4%20%ED%8C%8C%EC%9D%BC%20%EC%9E%85%EC%B6%9C%EB%A0%A5.ipynb#ch0000005?line=1'>2</a>\u001b[0m \u001b[39mprint\u001b[39m(m)\n",
      "\u001b[1;31mFileNotFoundError\u001b[0m: [Errno 2] No such file or directory: 'C:/Study/Study Python2/n.npy'"
     ]
    }
   ],
   "source": [
    "m = np.fromfile('C:/Study/Study Python2/n.npy')\n",
    "print(m)"
   ]
  },
  {
   "cell_type": "markdown",
   "metadata": {},
   "source": [
    "파일저장, 불러오기(np.save, np.load)"
   ]
  },
  {
   "cell_type": "code",
   "execution_count": 5,
   "metadata": {},
   "outputs": [
    {
     "name": "stdout",
     "output_type": "stream",
     "text": [
      "[[-0.3866583   1.21179749  0.7507118   1.44030856 -2.62523251]\n",
      " [-1.41617307  0.23836438  0.91137456  0.20390135  0.03598366]\n",
      " [-0.03596328  0.82681176  0.8684979   1.38714746  1.33071803]]\n"
     ]
    }
   ],
   "source": [
    "np.save('n1.npy',n)\n",
    "m1 = np.load('n1.npy')\n",
    "print(m1)"
   ]
  },
  {
   "cell_type": "code",
   "execution_count": null,
   "metadata": {},
   "outputs": [],
   "source": [
    "# n.tofile > n.npy\n",
    "# np.load('n.npy')\n",
    "# np.load('n.npy') # 안 열린다.\n"
   ]
  },
  {
   "cell_type": "markdown",
   "metadata": {},
   "source": [
    "주의해야할점.."
   ]
  },
  {
   "cell_type": "code",
   "execution_count": null,
   "metadata": {},
   "outputs": [],
   "source": []
  },
  {
   "cell_type": "markdown",
   "metadata": {},
   "source": [
    "txt 파일 저장(np.savetxt)"
   ]
  },
  {
   "cell_type": "markdown",
   "metadata": {},
   "source": [
    "np.savetxt('n.txt',n)"
   ]
  },
  {
   "cell_type": "code",
   "execution_count": 6,
   "metadata": {},
   "outputs": [],
   "source": [
    "np.savetxt('n.txt',n)"
   ]
  },
  {
   "cell_type": "markdown",
   "metadata": {},
   "source": [
    "txt 파일 불러오기(np.loadtxt)"
   ]
  },
  {
   "cell_type": "code",
   "execution_count": 7,
   "metadata": {},
   "outputs": [
    {
     "data": {
      "text/plain": [
       "array([[-0.3866583 ,  1.21179749,  0.7507118 ,  1.44030856, -2.62523251],\n",
       "       [-1.41617307,  0.23836438,  0.91137456,  0.20390135,  0.03598366],\n",
       "       [-0.03596328,  0.82681176,  0.8684979 ,  1.38714746,  1.33071803]])"
      ]
     },
     "execution_count": 7,
     "metadata": {},
     "output_type": "execute_result"
    }
   ],
   "source": [
    "np.loadtxt('n.txt')"
   ]
  },
  {
   "cell_type": "markdown",
   "metadata": {},
   "source": [
    "csv 파일 저장, 불러오기"
   ]
  },
  {
   "cell_type": "code",
   "execution_count": 8,
   "metadata": {},
   "outputs": [],
   "source": [
    "np.savetxt('n.csv',n) # 확장자만 csv로 바꾸면 됨"
   ]
  },
  {
   "cell_type": "markdown",
   "metadata": {},
   "source": [
    "csv 파일 불러오기"
   ]
  },
  {
   "cell_type": "code",
   "execution_count": 11,
   "metadata": {},
   "outputs": [
    {
     "data": {
      "text/plain": [
       "array([[-0.3866583 ,  1.21179749,  0.7507118 ,  1.44030856, -2.62523251],\n",
       "       [-1.41617307,  0.23836438,  0.91137456,  0.20390135,  0.03598366],\n",
       "       [-0.03596328,  0.82681176,  0.8684979 ,  1.38714746,  1.33071803]])"
      ]
     },
     "execution_count": 11,
     "metadata": {},
     "output_type": "execute_result"
    }
   ],
   "source": [
    "np.loadtxt('n.csv')"
   ]
  },
  {
   "cell_type": "markdown",
   "metadata": {},
   "source": [
    "파일 저장 및 불러오기"
   ]
  },
  {
   "cell_type": "code",
   "execution_count": 15,
   "metadata": {},
   "outputs": [],
   "source": [
    "np.savetxt('n.csv',n, delimiter=    ',')"
   ]
  },
  {
   "cell_type": "code",
   "execution_count": 18,
   "metadata": {},
   "outputs": [
    {
     "data": {
      "text/plain": [
       "array([['-3.866583044010725723e-01', '1.211797493936002557e+00',\n",
       "        '7.507117995619452255e-01', '1.440308556188018230e+00',\n",
       "        '-2.625232509314221474e+00'],\n",
       "       ['-1.416173074955638711e+00', '2.383643809267564362e-01',\n",
       "        '9.113745552097094471e-01', '2.039013534049234078e-01',\n",
       "        '3.598365774128516742e-02'],\n",
       "       ['-3.596328367283348898e-02', '8.268117556103287136e-01',\n",
       "        '8.684979045730202296e-01', '1.387147456548070368e+00',\n",
       "        '1.330718034117179149e+00']], dtype='<U25')"
      ]
     },
     "execution_count": 18,
     "metadata": {},
     "output_type": "execute_result"
    }
   ],
   "source": [
    "np.loadtxt('n.csv', delimiter=',', dtype=str)"
   ]
  },
  {
   "cell_type": "markdown",
   "metadata": {},
   "source": [
    "[문제1]\n",
    "1~25 범위의 5x5 2차원 행렬을 생성하고 구분자(delimiter)는 ,(콤마)로 지정해서 data.csv에 저장해봅시다"
   ]
  },
  {
   "cell_type": "code",
   "execution_count": 30,
   "metadata": {},
   "outputs": [
    {
     "name": "stdout",
     "output_type": "stream",
     "text": [
      "[[ 1  2  3  4  5]\n",
      " [ 6  7  8  9 10]\n",
      " [11 12 13 14 15]\n",
      " [16 17 18 19 20]\n",
      " [21 22 23 24 25]]\n"
     ]
    }
   ],
   "source": [
    "n = np.arange(1,26).reshape(5,5)\n",
    "print(n)\n",
    "np.savetxt('data.csv',n,delimiter=    ',')"
   ]
  },
  {
   "cell_type": "markdown",
   "metadata": {},
   "source": [
    "[문제2]\n",
    "06_data1.txt 파일을 읽어와서 dtype = str으로 변수 arr1에 저장하고 출력해 봅시다."
   ]
  },
  {
   "cell_type": "code",
   "execution_count": 27,
   "metadata": {},
   "outputs": [
    {
     "data": {
      "text/plain": [
       "array([['1', '15', '14', '4'],\n",
       "       ['12', '6', '7', '9'],\n",
       "       ['8', '10', '11', '5'],\n",
       "       ['13', '3', '2', '16']], dtype='<U2')"
      ]
     },
     "execution_count": 27,
     "metadata": {},
     "output_type": "execute_result"
    }
   ],
   "source": [
    "arr1 = np.loadtxt('C:/Study/Study_Python2/data/06_data1.txt', dtype=str)\n",
    "arr1"
   ]
  },
  {
   "cell_type": "code",
   "execution_count": 31,
   "metadata": {},
   "outputs": [
    {
     "data": {
      "text/plain": [
       "array([['1', '15', '14', '4'],\n",
       "       ['12', '6', '7', '9'],\n",
       "       ['8', '10', '11', '5'],\n",
       "       ['13', '3', '2', '16']], dtype='<U2')"
      ]
     },
     "execution_count": 31,
     "metadata": {},
     "output_type": "execute_result"
    }
   ],
   "source": [
    "arr3 = np.loadtxt('C:/Study/Study_Python2/data/06_data1.txt', delimiter='\\t' ,dtype=str)\n",
    "arr3"
   ]
  },
  {
   "cell_type": "markdown",
   "metadata": {},
   "source": [
    "[문제3]\n",
    "06_data2.txt 파일을 읽어와서 변수 arr2에 저장하고 출력해 봅시다."
   ]
  },
  {
   "cell_type": "code",
   "execution_count": 33,
   "metadata": {},
   "outputs": [
    {
     "data": {
      "text/plain": [
       "array([[ 1, 15, 14,  4],\n",
       "       [12,  6,  7,  9],\n",
       "       [ 8, 10, 11,  5],\n",
       "       [13,  3,  2, 16]], dtype=int8)"
      ]
     },
     "execution_count": 33,
     "metadata": {},
     "output_type": "execute_result"
    }
   ],
   "source": [
    "arr2 = np.loadtxt('C:/Study/Study_Python2/data/06_data2.txt', delimiter=',' ,dtype=np.int8)\n",
    "arr2"
   ]
  },
  {
   "cell_type": "markdown",
   "metadata": {},
   "source": [
    "파일 ex1_지역별 전기요금데이터 현황"
   ]
  },
  {
   "cell_type": "code",
   "execution_count": 40,
   "metadata": {},
   "outputs": [
    {
     "name": "stdout",
     "output_type": "stream",
     "text": [
      "[[      1  565082     273   27177]\n",
      " [      2 2827233     444   45111]\n",
      " [      3 1144913     289   29043]\n",
      " [      4 1131034     230   22436]\n",
      " [      5  380425     391   38020]]\n"
     ]
    }
   ],
   "source": [
    "data = np.loadtxt('C:/Study/Study_Python2/data/ex1_지역별전기요금.csv', delimiter=',', dtype=int)\n",
    "print(data[:5,:]) # 상위 5개 데이터 출력"
   ]
  },
  {
   "cell_type": "markdown",
   "metadata": {},
   "source": [
    "02. 데이터 확인하기"
   ]
  },
  {
   "cell_type": "code",
   "execution_count": 42,
   "metadata": {},
   "outputs": [
    {
     "name": "stdout",
     "output_type": "stream",
     "text": [
      "(17, 4)\n"
     ]
    }
   ],
   "source": [
    "# 데이터의 모양 확인\n",
    "print(data.shape)"
   ]
  },
  {
   "cell_type": "code",
   "execution_count": 46,
   "metadata": {},
   "outputs": [
    {
     "name": "stdout",
     "output_type": "stream",
     "text": [
      "[ 1  2  3  4  5  6  7  8  9 10 11 12 13 14 15 16 17]\n"
     ]
    }
   ],
   "source": [
    "# 중복 지역 확인\n",
    "print(np.unique(data[:,0]))"
   ]
  },
  {
   "cell_type": "code",
   "execution_count": 52,
   "metadata": {},
   "outputs": [
    {
     "name": "stdout",
     "output_type": "stream",
     "text": [
      "[ 9 14 10  4  6  0 16 13  5 12 11 15  7  3  2  8  1]\n"
     ]
    }
   ],
   "source": [
    "# 데이터의 크기순 정렬(argsort 사용)  # sort는 행렬을 다 섞어버림.\n",
    "print(data[:,1].argsort())"
   ]
  },
  {
   "cell_type": "code",
   "execution_count": 48,
   "metadata": {},
   "outputs": [
    {
     "name": "stdout",
     "output_type": "stream",
     "text": [
      "[[     10   49394     580   57091]\n",
      " [     15  258605     221   22180]\n",
      " [     11  323151     353   35470]\n",
      " [      5  380425     391   38020]\n",
      " [      7  425659     344   32331]\n",
      " [      1  565082     273   27177]\n",
      " [     17  584500     268   26899]\n",
      " [     14  634696     285   28556]\n",
      " [      6  668623     364   35245]\n",
      " [     13  726699     249   25120]\n",
      " [     12  734723     398   40049]\n",
      " [     16  742285     282   27901]\n",
      " [      8  947300     366   36274]\n",
      " [      4 1131034     230   22436]\n",
      " [      3 1144913     289   29043]\n",
      " [      9 2737725     361   36569]\n",
      " [      2 2827233     444   45111]]\n"
     ]
    }
   ],
   "source": [
    "# fancy index\n",
    "print(data[data[:,1].argsort()])\n",
    "# print(data[data[:,1].argsort()[::-1]])  #내림차순"
   ]
  },
  {
   "cell_type": "markdown",
   "metadata": {},
   "source": [
    "03. 데이터 통계"
   ]
  },
  {
   "cell_type": "code",
   "execution_count": 53,
   "metadata": {},
   "outputs": [
    {
     "name": "stdout",
     "output_type": "stream",
     "text": [
      "14882047\n"
     ]
    }
   ],
   "source": [
    "# 전국 대상 가구수의 합\n",
    "print(np.sum(data[:,1]))"
   ]
  },
  {
   "cell_type": "code",
   "execution_count": 55,
   "metadata": {},
   "outputs": [
    {
     "name": "stdout",
     "output_type": "stream",
     "text": [
      "335.18\n"
     ]
    }
   ],
   "source": [
    "# 가구당 평균 전력 사용량의 전국 평균값\n",
    "print(round(data[:,2].mean(),2))  # data[:,2].mean()"
   ]
  },
  {
   "cell_type": "code",
   "execution_count": 62,
   "metadata": {},
   "outputs": [
    {
     "name": "stdout",
     "output_type": "stream",
     "text": [
      "가구당 평균 전력 사용랴의 전국 평균값 : 335.18\n"
     ]
    }
   ],
   "source": [
    "# 무식하게 평균 구하기\n",
    "e_sum = np.sum(data[:,2])\n",
    "e_sum\n",
    "\n",
    "n_rows = data.shape[0]\n",
    "n_rows\n",
    "\n",
    "print('가구당 평균 전력 사용랴의 전국 평균값 :', round(e_sum/n_rows,2))"
   ]
  },
  {
   "cell_type": "code",
   "execution_count": 64,
   "metadata": {},
   "outputs": [
    {
     "name": "stdout",
     "output_type": "stream",
     "text": [
      "[[      2 2827233]\n",
      " [      5  380425]\n",
      " [      6  668623]\n",
      " [      7  425659]\n",
      " [      8  947300]\n",
      " [      9 2737725]\n",
      " [     10   49394]\n",
      " [     11  323151]\n",
      " [     12  734723]]\n"
     ]
    }
   ],
   "source": [
    "# 가구당 평균 전력 사용량이 평균 이상인 지역과 대상 가구수 추출\n",
    "avg_ = data[:,2].mean() #가구당 평균 전력 사용량의 전국 평균\n",
    "print(data[data[:,2]>avg_, 0:2])"
   ]
  },
  {
   "cell_type": "markdown",
   "metadata": {},
   "source": [
    "파일 ex2_전년대비_시도별_교통사망사고 데이터 현황"
   ]
  },
  {
   "cell_type": "markdown",
   "metadata": {},
   "source": [
    "[문제1]\n",
    "위 파일을 읽어보고 상위 3개의 (발생년도, 발생건수, 구성비)의 데이터를 추출해 봅시다."
   ]
  },
  {
   "cell_type": "code",
   "execution_count": 117,
   "metadata": {},
   "outputs": [
    {
     "name": "stdout",
     "output_type": "stream",
     "text": [
      "[[2014.   218.     4.8]\n",
      " [2014.   872.    19. ]\n",
      " [2014.   401.     8.7]]\n"
     ]
    }
   ],
   "source": [
    "data1 = np.loadtxt('C:/Study/Study_Python2/data/ex2_전년대비_시도별_교통사망사고.csv', delimiter=',', dtype=float)\n",
    "print(data1[:3,[0,2,3]])"
   ]
  },
  {
   "cell_type": "markdown",
   "metadata": {},
   "source": [
    "[문제2]\n",
    "위 데이터에서 부산에서 발생한 교통사망사고 모든 현황을 추출해 봅시다."
   ]
  },
  {
   "cell_type": "code",
   "execution_count": 119,
   "metadata": {},
   "outputs": [
    {
     "name": "stdout",
     "output_type": "stream",
     "text": [
      "[2014.     8.   163.     3.6  -47.   -22.4]\n",
      "[[2014.     8.   163.     3.6  -47.   -22.4]]\n"
     ]
    }
   ],
   "source": [
    "print(data1[7,:])\n",
    "\n",
    "print(data1[data1[:,1]==8])"
   ]
  },
  {
   "cell_type": "markdown",
   "metadata": {},
   "source": [
    "[문제3]\n",
    "위 데이터에서 전국 사고 발생건수의 합계와 전국 평균을 계산해 봅시다."
   ]
  },
  {
   "cell_type": "code",
   "execution_count": 81,
   "metadata": {},
   "outputs": [
    {
     "name": "stdout",
     "output_type": "stream",
     "text": [
      "전국 사고 발생건수의 전국 합계 : 4583\n",
      "전국 사고 발생건수의 전국 평균 : 269.59\n"
     ]
    }
   ],
   "source": [
    "print('전국 사고 발생건수의 전국 합계 :', np.sum(data1[:,2]))   # data1[:,2].sum()\n",
    "print('전국 사고 발생건수의 전국 평균 :', round(data1[:,2].mean(),2))"
   ]
  },
  {
   "cell_type": "markdown",
   "metadata": {},
   "source": [
    "[문제4]\n",
    "위 데이터에서 교통사고 증감수가 가장 큰 지역의 모든 현황을 추출해 봅시다."
   ]
  },
  {
   "cell_type": "code",
   "execution_count": 101,
   "metadata": {},
   "outputs": [
    {
     "data": {
      "text/plain": [
       "array([ 7,  1,  2,  3, 13, 12, 16, 10, 14,  0, 11, 15,  4,  9,  6,  8,  5],\n",
       "      dtype=int64)"
      ]
     },
     "execution_count": 101,
     "metadata": {},
     "output_type": "execute_result"
    }
   ],
   "source": [
    "data1[:,4].argsort() \n",
    "\n",
    "# 기본이 오름차순"
   ]
  },
  {
   "cell_type": "code",
   "execution_count": 112,
   "metadata": {},
   "outputs": [
    {
     "name": "stdout",
     "output_type": "stream",
     "text": [
      "[2014    6  182    4   19   11]\n"
     ]
    }
   ],
   "source": [
    "# 내가 한 답\n",
    "print(data1[data1[:,4].argsort()[::-1][0]])"
   ]
  },
  {
   "cell_type": "code",
   "execution_count": 123,
   "metadata": {},
   "outputs": [
    {
     "name": "stdout",
     "output_type": "stream",
     "text": [
      "[[2014.     6.   182.     4.    19.    11.7]]\n"
     ]
    }
   ],
   "source": [
    "max(data1[:,4])\n",
    "print(data1[data1[:,4]==max(data1[:,4])])"
   ]
  },
  {
   "cell_type": "code",
   "execution_count": 124,
   "metadata": {},
   "outputs": [
    {
     "name": "stdout",
     "output_type": "stream",
     "text": [
      "[2014.     6.   182.     4.    19.    11.7]\n"
     ]
    }
   ],
   "source": [
    "print(data1[np.argmax(data1[:,4])])"
   ]
  },
  {
   "cell_type": "markdown",
   "metadata": {},
   "source": [
    "[문제5]\n",
    "위 데이터에서 교통사고 증감률이 가장 작은 지역의 모든 현황을 추출해 봅시다."
   ]
  },
  {
   "cell_type": "code",
   "execution_count": 127,
   "metadata": {},
   "outputs": [
    {
     "name": "stdout",
     "output_type": "stream",
     "text": [
      "[2014.     8.   163.     3.6  -47.   -22.4]\n"
     ]
    }
   ],
   "source": [
    "# 내가 한 답\n",
    "print(data1[data1[:,5].argsort()[0]])\n"
   ]
  },
  {
   "cell_type": "code",
   "execution_count": 128,
   "metadata": {},
   "outputs": [
    {
     "name": "stdout",
     "output_type": "stream",
     "text": [
      "[[2014.     8.   163.     3.6  -47.   -22.4]]\n"
     ]
    }
   ],
   "source": [
    "min(data1[:,5])\n",
    "print(data1[data1[:,5]==min(data1[:,5])])"
   ]
  },
  {
   "cell_type": "code",
   "execution_count": 130,
   "metadata": {},
   "outputs": [
    {
     "name": "stdout",
     "output_type": "stream",
     "text": [
      "[2014.     8.   163.     3.6  -47.   -22.4]\n"
     ]
    }
   ],
   "source": [
    "print(data1[np.argmin(data1[:,5])])"
   ]
  },
  {
   "cell_type": "markdown",
   "metadata": {},
   "source": [
    "[문제6]\n",
    "위 데이터에서 사고 발생 건수가 400건 이상인 곳의 지역과 교통사고 발생건수, 증감수, 증감률을 추출해 봅시다."
   ]
  },
  {
   "cell_type": "code",
   "execution_count": 131,
   "metadata": {},
   "outputs": [
    {
     "name": "stdout",
     "output_type": "stream",
     "text": [
      "[[  2.  872.  -45.   -4.9]\n",
      " [  3.  401.  -45.  -10.1]\n",
      " [  4.  464.  -41.   -8.1]\n",
      " [ 13.  400.  -35.   -8. ]]\n"
     ]
    }
   ],
   "source": [
    "print(data1[data1[:,2]>=400][:,[1,2,4,5]])\n"
   ]
  }
 ],
 "metadata": {
  "interpreter": {
   "hash": "38ae1ba9371524da054e8e3fbefd778d16b5a8ac7937a3f395010f627bb73919"
  },
  "kernelspec": {
   "display_name": "Python 3.9.12 64-bit",
   "language": "python",
   "name": "python3"
  },
  "language_info": {
   "codemirror_mode": {
    "name": "ipython",
    "version": 3
   },
   "file_extension": ".py",
   "mimetype": "text/x-python",
   "name": "python",
   "nbconvert_exporter": "python",
   "pygments_lexer": "ipython3",
   "version": "3.9.12"
  },
  "orig_nbformat": 4
 },
 "nbformat": 4,
 "nbformat_minor": 2
}
