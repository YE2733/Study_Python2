{
 "cells": [
  {
   "cell_type": "code",
   "execution_count": 7,
   "metadata": {},
   "outputs": [],
   "source": [
    "import numpy as np"
   ]
  },
  {
   "cell_type": "markdown",
   "metadata": {},
   "source": [
    "### Numpy활용\n",
    "Reshape\n",
    "- 배열의 shape을 변형해주는 함수\n",
    "- 배열의 요소 개수를 유지하며 형태만 변경\n",
    "- 변형 전 size와 변형 후 size가 동일해야 함\n",
    "\n",
    "array.reshape(size)"
   ]
  },
  {
   "cell_type": "code",
   "execution_count": 7,
   "metadata": {},
   "outputs": [
    {
     "name": "stdout",
     "output_type": "stream",
     "text": [
      "[[1 2]\n",
      " [3 4]\n",
      " [5 6]]\n",
      "[[1]\n",
      " [2]\n",
      " [3]\n",
      " [4]\n",
      " [5]\n",
      " [6]]\n",
      "[[1 2 3 4 5 6]]\n"
     ]
    }
   ],
   "source": [
    "arr = np.array([[1,2,3],[4,5,6]])  # 2x3 형태의 2차원 배열\n",
    "print(arr.reshape(3,2)) # 3x2 형태의 배열로 변형\n",
    "\n",
    "# 6x1 배열로 변형\n",
    "print(arr.reshape(6,1))\n",
    "# 1x6 배열로 변형\n",
    "print(arr.reshape(1,6))"
   ]
  },
  {
   "cell_type": "code",
   "execution_count": 8,
   "metadata": {},
   "outputs": [
    {
     "name": "stdout",
     "output_type": "stream",
     "text": [
      "[[[1 2]]\n",
      "\n",
      " [[3 4]]\n",
      "\n",
      " [[5 6]]]\n",
      "[[1 2]\n",
      " [3 4]\n",
      " [5 6]]\n"
     ]
    }
   ],
   "source": [
    "# 3x1x2 배열로 변형\n",
    "print(arr.reshape(3,1,2))\n",
    "# ?x2 배열로 변형 \n",
    "print(arr.reshape(-1,2))"
   ]
  },
  {
   "cell_type": "markdown",
   "metadata": {},
   "source": [
    "[문제1]\n",
    "range() 함수를 사용해 1부터 36까지의 숫자가 나열된 tensor배열을 생성하고 (3,3,4)형태의 3차원 배열로 변형해봅시다."
   ]
  },
  {
   "cell_type": "code",
   "execution_count": 17,
   "metadata": {},
   "outputs": [
    {
     "name": "stdout",
     "output_type": "stream",
     "text": [
      "[[[ 1  2  3  4]\n",
      "  [ 5  6  7  8]\n",
      "  [ 9 10 11 12]]\n",
      "\n",
      " [[13 14 15 16]\n",
      "  [17 18 19 20]\n",
      "  [21 22 23 24]]\n",
      "\n",
      " [[25 26 27 28]\n",
      "  [29 30 31 32]\n",
      "  [33 34 35 36]]]\n"
     ]
    }
   ],
   "source": [
    "tensor = np.array(range(1,37))  #shape(3,3,4)\n",
    "print(tensor.reshape(3,3,4))\n"
   ]
  },
  {
   "cell_type": "markdown",
   "metadata": {},
   "source": [
    "[문제2]\n",
    "tensor 배열을 2차원 배열로 변형시켜봅니다. *열의 개수는 9"
   ]
  },
  {
   "cell_type": "code",
   "execution_count": 18,
   "metadata": {},
   "outputs": [
    {
     "name": "stdout",
     "output_type": "stream",
     "text": [
      "[[ 1  2  3  4  5  6  7  8  9]\n",
      " [10 11 12 13 14 15 16 17 18]\n",
      " [19 20 21 22 23 24 25 26 27]\n",
      " [28 29 30 31 32 33 34 35 36]]\n"
     ]
    }
   ],
   "source": [
    "print(tensor.reshape(-1,9))"
   ]
  },
  {
   "cell_type": "markdown",
   "metadata": {},
   "source": [
    "### Flatten\n",
    "다차원 배열을 1차원배열로 변형"
   ]
  },
  {
   "cell_type": "code",
   "execution_count": 21,
   "metadata": {},
   "outputs": [
    {
     "name": "stdout",
     "output_type": "stream",
     "text": [
      "[1 2 3 4 5 6]\n",
      "[1 2 3 4 5 6]\n",
      "[1 2 3 4 5 6]\n"
     ]
    }
   ],
   "source": [
    "# shape(2,3) -> shape(6,)\n",
    "print(arr.flatten())\n",
    "\n",
    "# shape(1,6) -> shape(6,)\n",
    "print(arr.reshape(1,6).flatten())\n",
    "\n",
    "# shape(3,1,2) -> shape(6,)\n",
    "print(arr.reshape(3,1,2).flatten())"
   ]
  },
  {
   "cell_type": "markdown",
   "metadata": {},
   "source": [
    "### Arange\n",
    "- range 함수와 비슷한기능\n",
    "- 값의 범위를 지정하여 값이 채워져 있는 배열을 생성\n",
    "- 특정한 규칙에 따라 증가하는 값을 넣는 것도 가능\n",
    "\n",
    "np.arange(size)"
   ]
  },
  {
   "cell_type": "code",
   "execution_count": 22,
   "metadata": {},
   "outputs": [
    {
     "name": "stdout",
     "output_type": "stream",
     "text": [
      "[ 0  1  2  3  4  5  6  7  8  9 10 11 12 13 14 15 16 17 18 19 20 21 22 23\n",
      " 24 25 26 27 28 29]\n"
     ]
    }
   ],
   "source": [
    "print(np.arange(30))  # np.array(range(30))"
   ]
  },
  {
   "cell_type": "markdown",
   "metadata": {},
   "source": [
    "간격지정 : np.arange(start, end, step)"
   ]
  },
  {
   "cell_type": "code",
   "execution_count": 24,
   "metadata": {},
   "outputs": [
    {
     "name": "stdout",
     "output_type": "stream",
     "text": [
      "[0 2 4 6 8]\n",
      "[0.  0.2 0.4 0.6 0.8 1.  1.2 1.4 1.6 1.8]\n"
     ]
    }
   ],
   "source": [
    "print(np.arange(0,10,2))\n",
    "\n",
    "print(np.arange(0,2,0.2))"
   ]
  },
  {
   "cell_type": "markdown",
   "metadata": {},
   "source": [
    "### Arange + Reshape\n",
    "배열 요소를 순서대로 가지는 다차원배열 생성 가능"
   ]
  },
  {
   "cell_type": "markdown",
   "metadata": {},
   "source": [
    "arange + reshape"
   ]
  },
  {
   "cell_type": "code",
   "execution_count": 29,
   "metadata": {},
   "outputs": [
    {
     "name": "stdout",
     "output_type": "stream",
     "text": [
      "[[ 1  2  3  4  5]\n",
      " [ 6  7  8  9 10]\n",
      " [11 12 13 14 15]\n",
      " [16 17 18 19 20]\n",
      " [21 22 23 24 25]]\n",
      "[[[0.  0.2 0.4 0.6 0.8]\n",
      "  [1.  1.2 1.4 1.6 1.8]]\n",
      "\n",
      " [[2.  2.2 2.4 2.6 2.8]\n",
      "  [3.  3.2 3.4 3.6 3.8]]\n",
      "\n",
      " [[4.  4.2 4.4 4.6 4.8]\n",
      "  [5.  5.2 5.4 5.6 5.8]]]\n"
     ]
    }
   ],
   "source": [
    "print(np.arange(1,26).reshape(5,5))\n",
    "\n",
    "print(np.arange(0,6,0.2).reshape(3,2,5))"
   ]
  },
  {
   "cell_type": "markdown",
   "metadata": {},
   "source": [
    "[문제3] \n",
    "arange, reshape 함수를 사용해 100부터 190까지의 숫자가 10 간격으로 나열된 배열을 생성하고 (2,5) 형태의 2차원 배열로 변형해봅시다."
   ]
  },
  {
   "cell_type": "code",
   "execution_count": 30,
   "metadata": {},
   "outputs": [
    {
     "name": "stdout",
     "output_type": "stream",
     "text": [
      "[[100 110 120 130 140]\n",
      " [150 160 170 180 190]]\n"
     ]
    }
   ],
   "source": [
    "print(np.arange(100,191,10).reshape(2,5))"
   ]
  },
  {
   "cell_type": "markdown",
   "metadata": {},
   "source": [
    "[문제4] \n",
    "arange, reshape 함수를 사용해 -2부터 2까지의 숫자가 0.5 간격으로 나열된 배열을 생성하고 3차원 배열로 변형해봅시다."
   ]
  },
  {
   "cell_type": "code",
   "execution_count": 36,
   "metadata": {},
   "outputs": [
    {
     "name": "stdout",
     "output_type": "stream",
     "text": [
      "[[[-2.  -1.5 -1. ]\n",
      "  [-0.5  0.   0.5]\n",
      "  [ 1.   1.5  2. ]]]\n"
     ]
    }
   ],
   "source": [
    "print(np.arange(-2,2.1,0.5).reshape(1,3,3))  # 괄호갯수로 차원 확인가능(괄호가 3개면 3차원)"
   ]
  },
  {
   "cell_type": "markdown",
   "metadata": {},
   "source": [
    "### Zeros\n",
    "- 0으로 채워진 배열생성\n",
    "- shape 지정이 가능\n",
    "\n",
    "np.zeros(shape,dtype)"
   ]
  },
  {
   "cell_type": "code",
   "execution_count": 42,
   "metadata": {},
   "outputs": [
    {
     "name": "stdout",
     "output_type": "stream",
     "text": [
      "[0 0 0 0 0]\n",
      "[0 0 0 0 0]\n",
      "[[0. 0. 0.]\n",
      " [0. 0. 0.]]\n"
     ]
    }
   ],
   "source": [
    "print(np.zeros(shape=(5,), dtype=np.int8))\n",
    "\n",
    "print(np.zeros((5), int))\n",
    "\n",
    "print(np.zeros((2,3)))  # 기본 디폴트값 float"
   ]
  },
  {
   "cell_type": "markdown",
   "metadata": {},
   "source": [
    "### Ones\n",
    "- 1으로 채워진 배열생성\n",
    "- shape 지정이 가능"
   ]
  },
  {
   "cell_type": "markdown",
   "metadata": {},
   "source": [
    "np.ones(shape,dtype)"
   ]
  },
  {
   "cell_type": "code",
   "execution_count": 34,
   "metadata": {},
   "outputs": [
    {
     "name": "stdout",
     "output_type": "stream",
     "text": [
      "[1 1 1 1 1]\n",
      "[1 1 1 1 1]\n",
      "[[1. 1. 1.]\n",
      " [1. 1. 1.]]\n"
     ]
    }
   ],
   "source": [
    "print(np.ones(shape=(5,),dtype=np.int8))\n",
    "print(np.ones((5),int))\n",
    "print(np.ones((2,3)))"
   ]
  },
  {
   "cell_type": "markdown",
   "metadata": {},
   "source": [
    "### Empty\n",
    "- shape만 주어지고 비어있는 배열 생성\n",
    "- 배열을 생성만 하고 값을 주지않아 메모리에 저장되어 있던 기존값이 저장될수 있음"
   ]
  },
  {
   "cell_type": "markdown",
   "metadata": {},
   "source": [
    "np.empty(shape, dtype)"
   ]
  },
  {
   "cell_type": "code",
   "execution_count": 47,
   "metadata": {},
   "outputs": [
    {
     "name": "stdout",
     "output_type": "stream",
     "text": [
      "[100 110 120 130 140 150 160 170 180 190]\n",
      "[[1 1 1 1 0]\n",
      " [1 1 1 1 1]]\n"
     ]
    }
   ],
   "source": [
    "print(np.empty(shape=(10,),dtype=np.int32))\n",
    "\n",
    "print(np.empty(shape=(2,5),dtype=np.int8))"
   ]
  },
  {
   "cell_type": "markdown",
   "metadata": {},
   "source": [
    "### Zeros_like / Ones_like / Empty_like\n",
    "- 입력받은 배열과 같은 shape,dtype의 배열 생성"
   ]
  },
  {
   "cell_type": "markdown",
   "metadata": {},
   "source": [
    "np.zeros_like(ndarray)"
   ]
  },
  {
   "cell_type": "code",
   "execution_count": 2,
   "metadata": {},
   "outputs": [
    {
     "name": "stdout",
     "output_type": "stream",
     "text": [
      "[[0 0 0 0 0 0]\n",
      " [0 0 0 0 0 0]\n",
      " [0 0 0 0 0 0]\n",
      " [0 0 0 0 0 0]]\n"
     ]
    }
   ],
   "source": [
    "matrix = np.arange(24).reshape(4,6)\n",
    "print(np.zeros_like(matrix))"
   ]
  },
  {
   "cell_type": "markdown",
   "metadata": {},
   "source": [
    "np.ones_like(ndarray)"
   ]
  },
  {
   "cell_type": "code",
   "execution_count": 3,
   "metadata": {},
   "outputs": [
    {
     "name": "stdout",
     "output_type": "stream",
     "text": [
      "[[1. 1. 1. 1. 1. 1. 1. 1. 1. 1.]\n",
      " [1. 1. 1. 1. 1. 1. 1. 1. 1. 1.]]\n"
     ]
    }
   ],
   "source": [
    "matrix = np.arange(-2,2,0.2).reshape(2,10)\n",
    "\n",
    "print(np.ones_like(matrix))"
   ]
  },
  {
   "cell_type": "markdown",
   "metadata": {},
   "source": [
    "np.empty_like(ndarray)"
   ]
  },
  {
   "cell_type": "code",
   "execution_count": 4,
   "metadata": {},
   "outputs": [
    {
     "name": "stdout",
     "output_type": "stream",
     "text": [
      "[[0 0 0 0 0 0]\n",
      " [0 0 0 0 0 0]\n",
      " [0 0 0 0 0 0]\n",
      " [0 0 0 0 0 0]\n",
      " [0 0 0 0 0 0]]\n"
     ]
    }
   ],
   "source": [
    "matrix = np.arange(30).reshape(5,6)\n",
    "print(np.empty_like(matrix))"
   ]
  },
  {
   "cell_type": "markdown",
   "metadata": {},
   "source": [
    "### Identity\n",
    "- 단위행렬 - 주대각선의 값이 1이고 나머지는 0인 정사각 행렬"
   ]
  },
  {
   "cell_type": "markdown",
   "metadata": {},
   "source": [
    "np.identity(size,dtype)"
   ]
  },
  {
   "cell_type": "code",
   "execution_count": 5,
   "metadata": {},
   "outputs": [
    {
     "name": "stdout",
     "output_type": "stream",
     "text": [
      "[['1' '' '' '' '']\n",
      " ['' '1' '' '' '']\n",
      " ['' '' '1' '' '']\n",
      " ['' '' '' '1' '']\n",
      " ['' '' '' '' '1']]\n",
      "[[1 0 0 0 0]\n",
      " [0 1 0 0 0]\n",
      " [0 0 1 0 0]\n",
      " [0 0 0 1 0]\n",
      " [0 0 0 0 1]]\n",
      "[[1. 0.]\n",
      " [0. 1.]]\n"
     ]
    }
   ],
   "source": [
    "print(np.identity(5, dtype=np.str_))\n",
    "\n",
    "print(np.identity(5,dtype=np.int8))\n",
    "\n",
    "print(np.identity(2))"
   ]
  },
  {
   "cell_type": "markdown",
   "metadata": {},
   "source": [
    "### Eye\n",
    "- 대각선이 1로 채워지는 행렬\n",
    "- 대각선의 시작 위치 지정 가능"
   ]
  },
  {
   "cell_type": "markdown",
   "metadata": {},
   "source": [
    "np.eye(size, M, k, dtype)\n",
    "- k : 대각선의 시작 위치를 입력 받은 수 만큼 오른쪽으로 이동\n",
    "- M : 보여지는 열의 개수를 지정"
   ]
  },
  {
   "cell_type": "code",
   "execution_count": 6,
   "metadata": {},
   "outputs": [
    {
     "name": "stdout",
     "output_type": "stream",
     "text": [
      "[[1 0 0 0 0]\n",
      " [0 1 0 0 0]\n",
      " [0 0 1 0 0]\n",
      " [0 0 0 1 0]\n",
      " [0 0 0 0 1]]\n",
      "[[0. 0. 1. 0. 0.]\n",
      " [0. 0. 0. 1. 0.]\n",
      " [0. 0. 0. 0. 1.]\n",
      " [0. 0. 0. 0. 0.]\n",
      " [0. 0. 0. 0. 0.]]\n",
      "[[0. 0. 0. 0. 0. 0. 0. 0. 0. 0.]\n",
      " [1. 0. 0. 0. 0. 0. 0. 0. 0. 0.]\n",
      " [0. 1. 0. 0. 0. 0. 0. 0. 0. 0.]\n",
      " [0. 0. 1. 0. 0. 0. 0. 0. 0. 0.]\n",
      " [0. 0. 0. 1. 0. 0. 0. 0. 0. 0.]]\n"
     ]
    }
   ],
   "source": [
    "print(np.eye(5,dtype=np.int8))\n",
    "\n",
    "print(np.eye(5, k=2))\n",
    "\n",
    "print(np.eye(5, M=10, k=-1))"
   ]
  },
  {
   "cell_type": "markdown",
   "metadata": {},
   "source": [
    "### Full\n",
    "입력값으로 채워지는 행렬"
   ]
  },
  {
   "cell_type": "markdown",
   "metadata": {},
   "source": [
    "np.full((shape), value)"
   ]
  },
  {
   "cell_type": "code",
   "execution_count": 9,
   "metadata": {},
   "outputs": [
    {
     "name": "stdout",
     "output_type": "stream",
     "text": [
      "[[5 5 5 5 5]\n",
      " [5 5 5 5 5]]\n",
      "[['a' 'a' 'a' 'a']\n",
      " ['a' 'a' 'a' 'a']\n",
      " ['a' 'a' 'a' 'a']\n",
      " ['a' 'a' 'a' 'a']\n",
      " ['a' 'a' 'a' 'a']]\n"
     ]
    }
   ],
   "source": [
    "print(np.full((2,5), 5))\n",
    "\n",
    "print(np.full((5,4),'a'))"
   ]
  },
  {
   "cell_type": "code",
   "execution_count": 12,
   "metadata": {},
   "outputs": [
    {
     "data": {
      "text/plain": [
       "array([[3, 3, 3],\n",
       "       [3, 3, 3],\n",
       "       [3, 3, 3]])"
      ]
     },
     "execution_count": 12,
     "metadata": {},
     "output_type": "execute_result"
    }
   ],
   "source": [
    "np.ones((3,3)) * 3"
   ]
  },
  {
   "cell_type": "code",
   "execution_count": 13,
   "metadata": {},
   "outputs": [
    {
     "data": {
      "text/plain": [
       "array([[3, 3, 3],\n",
       "       [3, 3, 3],\n",
       "       [3, 3, 3]])"
      ]
     },
     "execution_count": 13,
     "metadata": {},
     "output_type": "execute_result"
    }
   ],
   "source": [
    "np.full((3,3),3)"
   ]
  },
  {
   "cell_type": "markdown",
   "metadata": {},
   "source": [
    "### Random.randint\n",
    "주어진 법위 안에 랜덤한 값을 뽑는 함수"
   ]
  },
  {
   "cell_type": "markdown",
   "metadata": {},
   "source": [
    "np.random.randint(range)"
   ]
  },
  {
   "cell_type": "code",
   "execution_count": 18,
   "metadata": {},
   "outputs": [
    {
     "name": "stdout",
     "output_type": "stream",
     "text": [
      "5\n",
      "7\n"
     ]
    }
   ],
   "source": [
    "# 0~5 까지의 정수 중 하나 뽑기\n",
    "print(np.random.randint(6))\n",
    "\n",
    "# 1~19 까지의 정수 중 하나 뽑기\n",
    "print(np.random.randint(1,20))"
   ]
  },
  {
   "cell_type": "markdown",
   "metadata": {},
   "source": [
    "### Randon.rand\n",
    "- 랜덤한 값으로 채워지는 배열\n",
    "- 표준정규분포 난수를 shape 형태의 배열로 생성\n",
    "- 0~1 사이의 값을 가짐"
   ]
  },
  {
   "cell_type": "markdown",
   "metadata": {},
   "source": [
    "np.random.rand(shape)"
   ]
  },
  {
   "cell_type": "code",
   "execution_count": 30,
   "metadata": {},
   "outputs": [
    {
     "name": "stdout",
     "output_type": "stream",
     "text": [
      "[0.39363512 0.12370424 0.29630065]\n",
      "[[0.51302626 0.92377433]\n",
      " [0.97114998 0.48810052]\n",
      " [0.00616881 0.55799061]]\n"
     ]
    }
   ],
   "source": [
    "print(np.random.rand(3))\n",
    "\n",
    "print(np.random.rand(3,2))"
   ]
  },
  {
   "cell_type": "markdown",
   "metadata": {},
   "source": [
    "### Random.randn\n",
    "- 랜덤한 값으로 채워지는 배열\n",
    "- 평균 0, 표준편차1의 가우시안 표준정규분포 난수를 shape 형태의 배열로 생성"
   ]
  },
  {
   "cell_type": "markdown",
   "metadata": {},
   "source": [
    "np.random.randn(shape)"
   ]
  },
  {
   "cell_type": "code",
   "execution_count": 32,
   "metadata": {},
   "outputs": [
    {
     "name": "stdout",
     "output_type": "stream",
     "text": [
      "[-1.98135344 -0.48573279 -0.39773372]\n",
      "[[ 0.05533042 -1.29710792]\n",
      " [ 3.01309361  0.63214819]\n",
      " [ 0.05007916  0.22669735]]\n"
     ]
    }
   ],
   "source": [
    "# 음수도 나올 수 있음\n",
    "\n",
    "print(np.random.randn(3))\n",
    "\n",
    "print(np.random.randn(3,2))"
   ]
  },
  {
   "cell_type": "markdown",
   "metadata": {},
   "source": [
    "### 연산함수\n",
    "- 배열의 요소값들을 이용하여 연산을 할 수 있게 해주는 함수"
   ]
  },
  {
   "cell_type": "markdown",
   "metadata": {},
   "source": [
    "### 합(sum)\n",
    "- 요소들의 합을 구해주는 합수\n",
    "- ndarray.sum()"
   ]
  },
  {
   "cell_type": "code",
   "execution_count": 33,
   "metadata": {},
   "outputs": [
    {
     "name": "stdout",
     "output_type": "stream",
     "text": [
      "21\n"
     ]
    }
   ],
   "source": [
    "# 2차원 배열 합\n",
    "\n",
    "matrix = np.arange(1,7).reshape(2,3)\n",
    "print(matrix.sum())"
   ]
  },
  {
   "cell_type": "code",
   "execution_count": 34,
   "metadata": {},
   "outputs": [
    {
     "name": "stdout",
     "output_type": "stream",
     "text": [
      "[5 7 9]\n",
      "[ 6 15]\n"
     ]
    }
   ],
   "source": [
    "print(matrix.sum(axis=0)) # 행끼리 더하기(위 아래)\n",
    "print(matrix.sum(axis=1)) # 열끼리 더하기 (좌 우)"
   ]
  },
  {
   "cell_type": "code",
   "execution_count": 35,
   "metadata": {},
   "outputs": [
    {
     "name": "stdout",
     "output_type": "stream",
     "text": [
      "[[[ 1  2  3]\n",
      "  [ 4  5  6]]\n",
      "\n",
      " [[ 7  8  9]\n",
      "  [10 11 12]]\n",
      "\n",
      " [[13 14 15]\n",
      "  [16 17 18]]]\n",
      "171\n"
     ]
    }
   ],
   "source": [
    "# 3차원 배열 합\n",
    "tensor = np.arange(1,19).reshape(3,2,3)\n",
    "print(tensor)    \n",
    "print(tensor.sum())"
   ]
  },
  {
   "cell_type": "code",
   "execution_count": 36,
   "metadata": {},
   "outputs": [
    {
     "name": "stdout",
     "output_type": "stream",
     "text": [
      "[[21 24 27]\n",
      " [30 33 36]]\n",
      "[[ 5  7  9]\n",
      " [17 19 21]\n",
      " [29 31 33]]\n",
      "[[ 6 15]\n",
      " [24 33]\n",
      " [42 51]]\n"
     ]
    }
   ],
   "source": [
    "print(tensor.sum(axis=0))    # np.sum(tensor)\n",
    "print(tensor.sum(axis=1))\n",
    "print(tensor.sum(axis=2))\n"
   ]
  },
  {
   "cell_type": "markdown",
   "metadata": {},
   "source": [
    "### 평균(mean)\n",
    "- 합과 동일"
   ]
  },
  {
   "cell_type": "markdown",
   "metadata": {},
   "source": [
    "2차원 배열 평균"
   ]
  },
  {
   "cell_type": "code",
   "execution_count": 38,
   "metadata": {},
   "outputs": [
    {
     "name": "stdout",
     "output_type": "stream",
     "text": [
      "3.5\n",
      "[2.5 3.5 4.5]\n",
      "[2. 5.]\n"
     ]
    }
   ],
   "source": [
    "print(matrix.mean())\n",
    "print(matrix.mean(axis=0))\n",
    "print(matrix.mean(axis=1))"
   ]
  },
  {
   "cell_type": "markdown",
   "metadata": {},
   "source": [
    "### 표준편차(std)\n",
    "- 합, 평균과 동일"
   ]
  },
  {
   "cell_type": "markdown",
   "metadata": {},
   "source": [
    "2차원 배열 표준 편차"
   ]
  },
  {
   "cell_type": "code",
   "execution_count": 40,
   "metadata": {},
   "outputs": [
    {
     "name": "stdout",
     "output_type": "stream",
     "text": [
      "1.707825127659933\n",
      "[1.5 1.5 1.5]\n",
      "[0.81649658 0.81649658]\n"
     ]
    }
   ],
   "source": [
    "print(matrix.std())  # 전체 표준편차\n",
    "print(matrix.std(axis=0))  # 행끼리 표준 편차 (위 아래)\n",
    "print(matrix.std(axis=1))  # 열끼리 표준 편차 (좌 우)"
   ]
  },
  {
   "cell_type": "markdown",
   "metadata": {},
   "source": [
    "### 그 외 수학 연산자"
   ]
  },
  {
   "cell_type": "code",
   "execution_count": 44,
   "metadata": {},
   "outputs": [
    {
     "name": "stdout",
     "output_type": "stream",
     "text": [
      "[[  2.71828183   7.3890561   20.08553692]\n",
      " [ 54.59815003 148.4131591  403.42879349]]\n",
      "[[0.         0.69314718 1.09861229]\n",
      " [1.38629436 1.60943791 1.79175947]]\n",
      "[[1.         1.41421356 1.73205081]\n",
      " [2.         2.23606798 2.44948974]]\n",
      "[[ 0.84147098  0.90929743  0.14112001]\n",
      " [-0.7568025  -0.95892427 -0.2794155 ]]\n",
      "[[ 0.54030231 -0.41614684 -0.9899925 ]\n",
      " [-0.65364362  0.28366219  0.96017029]]\n",
      "[[ 1.55740772 -2.18503986 -0.14254654]\n",
      " [ 1.15782128 -3.38051501 -0.29100619]]\n"
     ]
    }
   ],
   "source": [
    "# 지수\n",
    "print(np.exp(matrix))\n",
    "\n",
    "# 로그\n",
    "print(np.log(matrix))\n",
    "\n",
    "# 제곱근\n",
    "print(np.sqrt(matrix))\n",
    "\n",
    "# 삼각함수(sin)\n",
    "print(np.sin(matrix))\n",
    "\n",
    "# 삼각함수(cos)\n",
    "print(np.cos(matrix))\n",
    "\n",
    "# 삼각함수(tan)\n",
    "print(np.tan(matrix))"
   ]
  },
  {
   "cell_type": "markdown",
   "metadata": {},
   "source": [
    "### 배열 정렬(Sort)\n",
    "1차원 배열 정렬"
   ]
  },
  {
   "cell_type": "code",
   "execution_count": 51,
   "metadata": {},
   "outputs": [
    {
     "name": "stdout",
     "output_type": "stream",
     "text": [
      "[68  4 37 98 75]\n",
      "[ 4 37 68 75 98]\n",
      "[98 75 68 37  4]\n"
     ]
    }
   ],
   "source": [
    "# randint를 사용하여 1~100 숫자 중 5개를 뽑아 배열 생성\n",
    "vector = np.array([np.random.randint(1,100)\n",
    "                   for n in range(5)])\n",
    "print(vector)\n",
    "\n",
    "print(np.sort(vector))   # 오름차순으로 정렬\n",
    "print(np.sort(vector)[::-1])   # 내림차순으로 정렬\n"
   ]
  },
  {
   "cell_type": "markdown",
   "metadata": {},
   "source": [
    "2차원 배열정렬"
   ]
  },
  {
   "cell_type": "code",
   "execution_count": 56,
   "metadata": {},
   "outputs": [
    {
     "name": "stdout",
     "output_type": "stream",
     "text": [
      "[[81  1 15 87 24]\n",
      " [87 94 44 53 13]\n",
      " [89 96 76 60 76]\n",
      " [49 77 79 83 97]]\n",
      "[[ 1 15 24 81 87]\n",
      " [13 44 53 87 94]\n",
      " [60 76 76 89 96]\n",
      " [49 77 79 83 97]]\n",
      "[[49  1 15 53 13]\n",
      " [81 77 44 60 24]\n",
      " [87 94 76 83 76]\n",
      " [89 96 79 87 97]]\n"
     ]
    }
   ],
   "source": [
    "# randint를 사용하여 1~100 숫자 중 5개를 뽑아 배열 생성\n",
    "matrix = np.array([np.random.randint(1,100)\n",
    "                   for n in range(20)]).reshape(4,5)\n",
    "\n",
    "print(matrix)\n",
    "\n",
    "print(np.sort(matrix)) # 열기준으로 정렬, axis=1\n",
    "print(np.sort(matrix, axis=0)) # 행기준으로 정렬\n",
    "\n"
   ]
  },
  {
   "cell_type": "markdown",
   "metadata": {},
   "source": [
    "### 배열합치기(Vstack)\n",
    "- 2개 이상의 배열을 수직으로 합체"
   ]
  },
  {
   "cell_type": "markdown",
   "metadata": {},
   "source": [
    "np.vstack([arr1,arr2])"
   ]
  },
  {
   "cell_type": "code",
   "execution_count": 57,
   "metadata": {},
   "outputs": [
    {
     "name": "stdout",
     "output_type": "stream",
     "text": [
      "[[1 2 3]\n",
      " [4 5 6]]\n"
     ]
    }
   ],
   "source": [
    "vector1 = np.array([1,2,3])\n",
    "vector2 = np.array([4,5,6])\n",
    "\n",
    "print(np.vstack([vector1,vector2]))"
   ]
  },
  {
   "cell_type": "markdown",
   "metadata": {},
   "source": [
    "### 배열합치기(Hstack)\n",
    "- 2개 이상의 배열을 수평으로 합체"
   ]
  },
  {
   "cell_type": "markdown",
   "metadata": {},
   "source": [
    "np.hstack([arr1,arr2])"
   ]
  },
  {
   "cell_type": "code",
   "execution_count": 58,
   "metadata": {},
   "outputs": [
    {
     "name": "stdout",
     "output_type": "stream",
     "text": [
      "[[1 4]\n",
      " [2 5]\n",
      " [3 6]]\n"
     ]
    }
   ],
   "source": [
    "vector1 = np.array([1,2,3]).reshape(3,1)\n",
    "vector2 = np.array([4,5,6]).reshape(3,1)\n",
    "\n",
    "print(np.hstack([vector1,vector2]))"
   ]
  },
  {
   "cell_type": "markdown",
   "metadata": {},
   "source": [
    "### 배열합치기(Concatenate)\n",
    "- 2개 이상의 배열을 수직, 수평으로 합체"
   ]
  },
  {
   "cell_type": "markdown",
   "metadata": {},
   "source": [
    "np.concatenate(arr1, arr2, axis)"
   ]
  },
  {
   "cell_type": "code",
   "execution_count": 36,
   "metadata": {},
   "outputs": [
    {
     "name": "stdout",
     "output_type": "stream",
     "text": [
      "[1 2 3 4 5 6]\n"
     ]
    }
   ],
   "source": [
    "vector1 = np.array([1,2,3])\n",
    "vector2 = np.array([4,5,6])\n",
    "\n",
    "print(np.concatenate([vector1,vector2],axis=0))\n",
    "\n"
   ]
  },
  {
   "cell_type": "code",
   "execution_count": 35,
   "metadata": {},
   "outputs": [
    {
     "name": "stdout",
     "output_type": "stream",
     "text": [
      "[[1 4]\n",
      " [2 5]\n",
      " [3 6]]\n"
     ]
    }
   ],
   "source": [
    "vector1 = np.array([1,2,3,]).reshape(3,1)\n",
    "vector2 = np.array([4,5,6]).reshape(3,1)\n",
    "\n",
    "print(np.concatenate([vector1,vector2],axis=1))\n"
   ]
  },
  {
   "cell_type": "code",
   "execution_count": 9,
   "metadata": {},
   "outputs": [
    {
     "name": "stdout",
     "output_type": "stream",
     "text": [
      "[[1 2]\n",
      " [3 4]\n",
      " [5 6]\n",
      " [7 8]]\n"
     ]
    }
   ],
   "source": [
    "matrix1 = np.arange(1,5).reshape(2,2)\n",
    "matrix2 = np.arange(5,9).reshape(2,2)\n",
    "\n",
    "print(np.concatenate([matrix1, matrix2],axis=0))\n",
    "\n"
   ]
  },
  {
   "cell_type": "code",
   "execution_count": 10,
   "metadata": {},
   "outputs": [
    {
     "name": "stdout",
     "output_type": "stream",
     "text": [
      "[[1 2 5 6]\n",
      " [3 4 7 8]]\n"
     ]
    }
   ],
   "source": [
    "matrix1 = np.arange(1,5).reshape(2,2)\n",
    "matrix2 = np.arange(5,9).reshape(2,2)\n",
    "\n",
    "print(np.concatenate([matrix1, matrix2],axis=1))\n"
   ]
  },
  {
   "cell_type": "markdown",
   "metadata": {},
   "source": [
    "### 행/열 바꾸기(transpose)\n",
    "- 행과 열을 뒤집어 주는 함수"
   ]
  },
  {
   "cell_type": "markdown",
   "metadata": {},
   "source": [
    "    - ndarray.tranpose()\n",
    "    - ndarray.T"
   ]
  },
  {
   "cell_type": "code",
   "execution_count": 15,
   "metadata": {},
   "outputs": [
    {
     "name": "stdout",
     "output_type": "stream",
     "text": [
      "[[5 6]]\n",
      "[[5]\n",
      " [6]]\n",
      "[[5]\n",
      " [6]]\n"
     ]
    }
   ],
   "source": [
    "matrix3 = np.array([[5,6]])\n",
    "print(matrix3)\n",
    "\n",
    "print(matrix3.transpose())\n",
    "print(matrix3.T)"
   ]
  },
  {
   "cell_type": "markdown",
   "metadata": {},
   "source": [
    "### Transpose + Concatenate\n",
    "- 형태를 바꿔 서로 결합할 수 없는 배열을 합칠 수 있다."
   ]
  },
  {
   "cell_type": "code",
   "execution_count": 17,
   "metadata": {},
   "outputs": [
    {
     "name": "stdout",
     "output_type": "stream",
     "text": [
      "[[1 2]\n",
      " [3 4]\n",
      " [5 6]]\n"
     ]
    },
    {
     "ename": "ValueError",
     "evalue": "all the input array dimensions for the concatenation axis must match exactly, but along dimension 0, the array at index 0 has size 2 and the array at index 1 has size 1",
     "output_type": "error",
     "traceback": [
      "\u001b[1;31m---------------------------------------------------------------------------\u001b[0m",
      "\u001b[1;31mValueError\u001b[0m                                Traceback (most recent call last)",
      "\u001b[1;32mc:\\Study\\Study Python2\\02_넘파이 활용.ipynb Cell 89'\u001b[0m in \u001b[0;36m<cell line: 3>\u001b[1;34m()\u001b[0m\n\u001b[0;32m      <a href='vscode-notebook-cell:/c%3A/Study/Study%20Python2/02_%EB%84%98%ED%8C%8C%EC%9D%B4%20%ED%99%9C%EC%9A%A9.ipynb#ch0000084?line=0'>1</a>\u001b[0m \u001b[39mprint\u001b[39m(np\u001b[39m.\u001b[39mconcatenate([matrix1, matrix3]))\n\u001b[1;32m----> <a href='vscode-notebook-cell:/c%3A/Study/Study%20Python2/02_%EB%84%98%ED%8C%8C%EC%9D%B4%20%ED%99%9C%EC%9A%A9.ipynb#ch0000084?line=2'>3</a>\u001b[0m \u001b[39mprint\u001b[39m(np\u001b[39m.\u001b[39;49mconcatenate([matrix1, matrix3], axis \u001b[39m=\u001b[39;49m\u001b[39m1\u001b[39;49m))\n",
      "File \u001b[1;32m<__array_function__ internals>:180\u001b[0m, in \u001b[0;36mconcatenate\u001b[1;34m(*args, **kwargs)\u001b[0m\n",
      "\u001b[1;31mValueError\u001b[0m: all the input array dimensions for the concatenation axis must match exactly, but along dimension 0, the array at index 0 has size 2 and the array at index 1 has size 1"
     ]
    }
   ],
   "source": [
    "print(np.concatenate([matrix1, matrix3]))\n",
    "\n",
    "print(np.concatenate([matrix1, matrix3], axis =1))"
   ]
  },
  {
   "cell_type": "code",
   "execution_count": 18,
   "metadata": {},
   "outputs": [
    {
     "name": "stdout",
     "output_type": "stream",
     "text": [
      "[[1 2 5]\n",
      " [3 4 6]]\n"
     ]
    }
   ],
   "source": [
    "print(np.concatenate([matrix1, matrix3.T], axis = 1))"
   ]
  },
  {
   "cell_type": "markdown",
   "metadata": {},
   "source": [
    "### 인덱스 반환 함수\n",
    "최대값, 최소값의 인덱스"
   ]
  },
  {
   "cell_type": "markdown",
   "metadata": {},
   "source": [
    "argmax, argmin "
   ]
  },
  {
   "cell_type": "code",
   "execution_count": 21,
   "metadata": {},
   "outputs": [
    {
     "name": "stdout",
     "output_type": "stream",
     "text": [
      "[[ 1  2  3  4  5]\n",
      " [ 6  7  8  9 10]]\n",
      "9 0\n",
      "[1 1 1 1 1]\n"
     ]
    }
   ],
   "source": [
    "a = np.arange(1,11).reshape(2,5)\n",
    "print(a)\n",
    "print(np.argmax(a), np.argmin(a))\n",
    "\n",
    "print(np.argmax(a,axis=0))   # [11111] 위치를 말하는 것! "
   ]
  },
  {
   "cell_type": "code",
   "execution_count": 25,
   "metadata": {},
   "outputs": [
    {
     "name": "stdout",
     "output_type": "stream",
     "text": [
      "[[1 2 3 4]\n",
      " [2 3 4 1]\n",
      " [3 4 1 2]]\n",
      "[3 2 1]\n",
      "[2 2 1 0]\n"
     ]
    }
   ],
   "source": [
    "b = np.array([[1,2,3,4],[2,3,4,1],[3,4,1,2]])\n",
    "print(b)\n",
    "print(np.argmax(b, axis=1))\n",
    "print(np.argmax(b, axis=0))\n"
   ]
  },
  {
   "cell_type": "markdown",
   "metadata": {},
   "source": [
    "### 배열 인덱싱(Rancy Index)\n",
    "인덱스의 값을 가지는 배열을 통해 인덱싱"
   ]
  },
  {
   "cell_type": "code",
   "execution_count": 27,
   "metadata": {},
   "outputs": [
    {
     "name": "stdout",
     "output_type": "stream",
     "text": [
      "[ 1  2  3  4  5  6  7  8  9 10]\n",
      "[3 4 5 6]\n",
      "[4 5 6 7]\n"
     ]
    }
   ],
   "source": [
    "a = np.arange(1,11)\n",
    "b = np.array([3,4,5,6])\n",
    "\n",
    "print(a)\n",
    "print(b)\n",
    "print(a[b])"
   ]
  },
  {
   "cell_type": "markdown",
   "metadata": {},
   "source": [
    "- 인덱스 반환 함수 + fancy index"
   ]
  },
  {
   "cell_type": "code",
   "execution_count": 28,
   "metadata": {},
   "outputs": [
    {
     "name": "stdout",
     "output_type": "stream",
     "text": [
      "[10 11 12 13 14 15 16 17 18 19]\n",
      "9\n",
      "19\n"
     ]
    }
   ],
   "source": [
    "a = np.arange(10,20)\n",
    "b = np.argmax(a)\n",
    "\n",
    "print(a)\n",
    "print(b)\n",
    "\n",
    "print(a[b])"
   ]
  }
 ],
 "metadata": {
  "interpreter": {
   "hash": "38ae1ba9371524da054e8e3fbefd778d16b5a8ac7937a3f395010f627bb73919"
  },
  "kernelspec": {
   "display_name": "Python 3.9.12 64-bit",
   "language": "python",
   "name": "python3"
  },
  "language_info": {
   "codemirror_mode": {
    "name": "ipython",
    "version": 3
   },
   "file_extension": ".py",
   "mimetype": "text/x-python",
   "name": "python",
   "nbconvert_exporter": "python",
   "pygments_lexer": "ipython3",
   "version": "3.9.12"
  },
  "orig_nbformat": 4
 },
 "nbformat": 4,
 "nbformat_minor": 2
}
