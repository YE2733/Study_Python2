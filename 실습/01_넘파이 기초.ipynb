{
 "cells": [
  {
   "cell_type": "markdown",
   "metadata": {},
   "source": [
    "### numpy 모듈 호출"
   ]
  },
  {
   "cell_type": "code",
   "execution_count": 3,
   "metadata": {},
   "outputs": [],
   "source": [
    "import numpy as np"
   ]
  },
  {
   "cell_type": "code",
   "execution_count": 3,
   "metadata": {},
   "outputs": [
    {
     "data": {
      "text/plain": [
       "array(1)"
      ]
     },
     "execution_count": 3,
     "metadata": {},
     "output_type": "execute_result"
    }
   ],
   "source": [
    "a = np.array(1)\n",
    "a"
   ]
  },
  {
   "cell_type": "markdown",
   "metadata": {},
   "source": [
    "### 배열생성"
   ]
  },
  {
   "cell_type": "code",
   "execution_count": 4,
   "metadata": {},
   "outputs": [
    {
     "name": "stdout",
     "output_type": "stream",
     "text": [
      "[1 2 3]\n"
     ]
    }
   ],
   "source": [
    "ndarr_1 = np.array([1,2,3])\n",
    "print(ndarr_1)"
   ]
  },
  {
   "cell_type": "code",
   "execution_count": 5,
   "metadata": {},
   "outputs": [
    {
     "name": "stdout",
     "output_type": "stream",
     "text": [
      "[1. 2. 3.]\n"
     ]
    }
   ],
   "source": [
    "ndarr_2 = np.array([1,2.0,3])\n",
    "print(ndarr_2)\n",
    "\n",
    "# 1.은 0이 생략되어있는 형태"
   ]
  },
  {
   "cell_type": "code",
   "execution_count": 6,
   "metadata": {},
   "outputs": [
    {
     "name": "stdout",
     "output_type": "stream",
     "text": [
      "['1' '2.0' '3']\n"
     ]
    }
   ],
   "source": [
    "ndarr_3 = np.array([1,2.0,'3'])\n",
    "print(ndarr_3)\n",
    "\n",
    "# 리스트 안의 모든 값이 문자로 바뀜"
   ]
  },
  {
   "cell_type": "markdown",
   "metadata": {},
   "source": [
    "### 배열의 정보확인\n",
    "자료형 확인 속성\n",
    "ndarray.dtype"
   ]
  },
  {
   "cell_type": "code",
   "execution_count": 7,
   "metadata": {},
   "outputs": [
    {
     "name": "stdout",
     "output_type": "stream",
     "text": [
      "int32\n",
      "float64\n",
      "<U32\n"
     ]
    }
   ],
   "source": [
    "print(ndarr_1.dtype)\n",
    "print(ndarr_2.dtype)\n",
    "print(ndarr_3.dtype)"
   ]
  },
  {
   "cell_type": "code",
   "execution_count": 9,
   "metadata": {},
   "outputs": [
    {
     "name": "stdout",
     "output_type": "stream",
     "text": [
      "complex128\n",
      "object\n"
     ]
    }
   ],
   "source": [
    "print(np.array(1 +2j).dtype)\n",
    "print(np.array(print).dtype)"
   ]
  },
  {
   "cell_type": "markdown",
   "metadata": {},
   "source": [
    "### 자료형 지정\n",
    "dtype 속성을 사용하여 자료형 지정"
   ]
  },
  {
   "cell_type": "code",
   "execution_count": 10,
   "metadata": {},
   "outputs": [
    {
     "name": "stdout",
     "output_type": "stream",
     "text": [
      "int8\n"
     ]
    }
   ],
   "source": [
    "dtype1 = np.array([1,2,3], dtype=np.int8)\n",
    "print(dtype1.dtype)\n"
   ]
  },
  {
   "cell_type": "code",
   "execution_count": 12,
   "metadata": {},
   "outputs": [
    {
     "name": "stdout",
     "output_type": "stream",
     "text": [
      "float64\n"
     ]
    }
   ],
   "source": [
    "dtype2 = np.array([1,2,3], dtype=float)\n",
    "print(dtype2.dtype)\n"
   ]
  },
  {
   "cell_type": "code",
   "execution_count": 13,
   "metadata": {},
   "outputs": [
    {
     "name": "stdout",
     "output_type": "stream",
     "text": [
      "<U1\n"
     ]
    }
   ],
   "source": [
    "dtype3 = np.array([1,2,3], dtype=str)\n",
    "print(dtype3.dtype)\n"
   ]
  },
  {
   "cell_type": "code",
   "execution_count": 14,
   "metadata": {},
   "outputs": [
    {
     "name": "stdout",
     "output_type": "stream",
     "text": [
      "[1 2 1 3]\n",
      "int32\n"
     ]
    }
   ],
   "source": [
    "dtype4 = np.array([1,2,1,'3'], dtype=int)\n",
    "print(dtype4)\n",
    "print(dtype4.dtype)\n"
   ]
  },
  {
   "cell_type": "code",
   "execution_count": 47,
   "metadata": {},
   "outputs": [
    {
     "ename": "ValueError",
     "evalue": "could not convert string to float: 'data'",
     "output_type": "error",
     "traceback": [
      "\u001b[1;31m---------------------------------------------------------------------------\u001b[0m",
      "\u001b[1;31mValueError\u001b[0m                                Traceback (most recent call last)",
      "\u001b[1;32mc:\\Study\\Study Python2\\01_넘파이 기초.ipynb Cell 15'\u001b[0m in \u001b[0;36m<cell line: 1>\u001b[1;34m()\u001b[0m\n\u001b[1;32m----> <a href='vscode-notebook-cell:/c%3A/Study/Study%20Python2/01_%EB%84%98%ED%8C%8C%EC%9D%B4%20%EA%B8%B0%EC%B4%88.ipynb#ch0000052?line=0'>1</a>\u001b[0m dtype5 \u001b[39m=\u001b[39m np\u001b[39m.\u001b[39;49marray([\u001b[39m1\u001b[39;49m,\u001b[39m'\u001b[39;49m\u001b[39mdata\u001b[39;49m\u001b[39m'\u001b[39;49m,\u001b[39m1\u001b[39;49m, \u001b[39mprint\u001b[39;49m], dtype\u001b[39m=\u001b[39;49m\u001b[39mfloat\u001b[39;49m)\n\u001b[0;32m      <a href='vscode-notebook-cell:/c%3A/Study/Study%20Python2/01_%EB%84%98%ED%8C%8C%EC%9D%B4%20%EA%B8%B0%EC%B4%88.ipynb#ch0000052?line=1'>2</a>\u001b[0m \u001b[39mprint\u001b[39m(dtype5)\n\u001b[0;32m      <a href='vscode-notebook-cell:/c%3A/Study/Study%20Python2/01_%EB%84%98%ED%8C%8C%EC%9D%B4%20%EA%B8%B0%EC%B4%88.ipynb#ch0000052?line=2'>3</a>\u001b[0m \u001b[39mprint\u001b[39m(dtype5\u001b[39m.\u001b[39mdtype)\n",
      "\u001b[1;31mValueError\u001b[0m: could not convert string to float: 'data'"
     ]
    }
   ],
   "source": [
    "dtype5 = np.array([1,'data',1, print], dtype=float)\n",
    "print(dtype5)\n",
    "print(dtype5.dtype)\n"
   ]
  },
  {
   "cell_type": "markdown",
   "metadata": {},
   "source": [
    "### 배열의 정보확인\n",
    "배열 크기확인\n",
    "ndarray.shape"
   ]
  },
  {
   "cell_type": "code",
   "execution_count": 15,
   "metadata": {},
   "outputs": [
    {
     "name": "stdout",
     "output_type": "stream",
     "text": [
      "(3,)\n"
     ]
    }
   ],
   "source": [
    "print(ndarr_1.shape)"
   ]
  },
  {
   "cell_type": "markdown",
   "metadata": {},
   "source": [
    "배열차원 확인\n",
    "ndarray.ndim"
   ]
  },
  {
   "cell_type": "code",
   "execution_count": 17,
   "metadata": {},
   "outputs": [
    {
     "name": "stdout",
     "output_type": "stream",
     "text": [
      "1\n"
     ]
    }
   ],
   "source": [
    "print(ndarr_1.ndim)"
   ]
  },
  {
   "cell_type": "markdown",
   "metadata": {},
   "source": [
    "### 배열생성\n",
    "1차원 배열생성"
   ]
  },
  {
   "cell_type": "code",
   "execution_count": 18,
   "metadata": {},
   "outputs": [
    {
     "name": "stdout",
     "output_type": "stream",
     "text": [
      "[1 2 3]\n",
      "(3,)\n",
      "1\n",
      "int32\n"
     ]
    }
   ],
   "source": [
    "vector = np.array([1,2,3])\n",
    "print(vector)\n",
    "print(vector.shape)\n",
    "print(vector.ndim)\n",
    "print(vector.dtype)"
   ]
  },
  {
   "cell_type": "markdown",
   "metadata": {},
   "source": [
    "2차원 배열생성"
   ]
  },
  {
   "cell_type": "code",
   "execution_count": 21,
   "metadata": {},
   "outputs": [
    {
     "name": "stdout",
     "output_type": "stream",
     "text": [
      "[[1 2 3]\n",
      " [4 5 6]]\n",
      "(2, 3)\n",
      "2\n",
      "int32\n"
     ]
    }
   ],
   "source": [
    "matrix = np.array([[1,2,3],[4,5,6]])\n",
    "print(matrix)\n",
    "print(matrix.shape)\n",
    "print(matrix.ndim)\n",
    "print(matrix.dtype)"
   ]
  },
  {
   "cell_type": "markdown",
   "metadata": {},
   "source": [
    "3차원 배열생성"
   ]
  },
  {
   "cell_type": "code",
   "execution_count": 22,
   "metadata": {},
   "outputs": [
    {
     "name": "stdout",
     "output_type": "stream",
     "text": [
      "[[[ 1  2  3]\n",
      "  [ 4  5  6]]\n",
      "\n",
      " [[ 7  8  9]\n",
      "  [10 11 12]]]\n",
      "(2, 2, 3)\n",
      "3\n",
      "int32\n"
     ]
    }
   ],
   "source": [
    "tensor = np.array([[[1,2,3],[4,5,6]],[[7,8,9],[10,11,12]]])\n",
    "print(tensor)\n",
    "print(tensor.shape)\n",
    "print(tensor.ndim)\n",
    "print(tensor.dtype)"
   ]
  },
  {
   "cell_type": "markdown",
   "metadata": {},
   "source": [
    "### 배열의 정보확인\n",
    "배열 요소의 개수 확인\n",
    "ndarray.size"
   ]
  },
  {
   "cell_type": "code",
   "execution_count": 24,
   "metadata": {},
   "outputs": [
    {
     "name": "stdout",
     "output_type": "stream",
     "text": [
      "3\n",
      "6\n",
      "12\n"
     ]
    }
   ],
   "source": [
    "print(vector.size)\n",
    "print(matrix.size)\n",
    "print(tensor.size)"
   ]
  },
  {
   "cell_type": "markdown",
   "metadata": {},
   "source": [
    "### 배열생성\n",
    "[문제1] 위와 같은 배열을 생성하고 차원, 크기, 모양을 알아내시오"
   ]
  },
  {
   "cell_type": "code",
   "execution_count": 29,
   "metadata": {},
   "outputs": [
    {
     "name": "stdout",
     "output_type": "stream",
     "text": [
      "2\n",
      "9\n",
      "(3, 3)\n"
     ]
    }
   ],
   "source": [
    "arr = np.array([[1,2,3],[2,4,6],[3,6,9]])\n",
    "print(arr.ndim)\n",
    "print(arr.size)\n",
    "print(arr.shape)"
   ]
  },
  {
   "cell_type": "markdown",
   "metadata": {},
   "source": [
    "### 자료형변환(리스트)\n",
    "리스트 -> ndarray 변환"
   ]
  },
  {
   "cell_type": "code",
   "execution_count": 30,
   "metadata": {},
   "outputs": [
    {
     "name": "stdout",
     "output_type": "stream",
     "text": [
      "[1 2 3]\n"
     ]
    }
   ],
   "source": [
    "list1=[1,2,3]\n",
    "arr1 = np.array(list1)\n",
    "print(arr1)"
   ]
  },
  {
   "cell_type": "markdown",
   "metadata": {},
   "source": [
    "ndarray 변환 -> 리스트"
   ]
  },
  {
   "cell_type": "code",
   "execution_count": 3,
   "metadata": {},
   "outputs": [
    {
     "name": "stdout",
     "output_type": "stream",
     "text": [
      "[1, 2, 3]\n"
     ]
    }
   ],
   "source": [
    "arr2 = np.array([1,2,3])\n",
    "list2 = list(arr2)\n",
    "print(list2)"
   ]
  },
  {
   "cell_type": "markdown",
   "metadata": {},
   "source": [
    "2차원 리스트 변환"
   ]
  },
  {
   "cell_type": "code",
   "execution_count": 33,
   "metadata": {},
   "outputs": [
    {
     "name": "stdout",
     "output_type": "stream",
     "text": [
      "[[1 2 3]\n",
      " [4 5 6]]\n"
     ]
    }
   ],
   "source": [
    "list3 = [[1,2,3,],[4,5,6]]\n",
    "arr3 = np.array(list3)\n",
    "print(arr3)"
   ]
  },
  {
   "cell_type": "markdown",
   "metadata": {},
   "source": [
    "주의해야할 점 - shape이 다른 리스트인 경우"
   ]
  },
  {
   "cell_type": "code",
   "execution_count": 34,
   "metadata": {},
   "outputs": [
    {
     "name": "stdout",
     "output_type": "stream",
     "text": [
      "[list([1, 2, 3, 4]) list([5, 6, 7])]\n"
     ]
    },
    {
     "name": "stderr",
     "output_type": "stream",
     "text": [
      "C:\\Users\\admin\\AppData\\Local\\Temp\\ipykernel_10316\\2158651982.py:2: VisibleDeprecationWarning: Creating an ndarray from ragged nested sequences (which is a list-or-tuple of lists-or-tuples-or ndarrays with different lengths or shapes) is deprecated. If you meant to do this, you must specify 'dtype=object' when creating the ndarray.\n",
      "  arr4 = np.array(list4)\n"
     ]
    }
   ],
   "source": [
    "list4 = [[1,2,3,4],[5,6,7]]\n",
    "arr4 = np.array(list4)\n",
    "print(arr4)"
   ]
  },
  {
   "cell_type": "markdown",
   "metadata": {},
   "source": [
    "### 자료형변환(튜플)\n",
    "튜플 -> ndarray 변환"
   ]
  },
  {
   "cell_type": "code",
   "execution_count": 37,
   "metadata": {},
   "outputs": [
    {
     "name": "stdout",
     "output_type": "stream",
     "text": [
      "[1 2 3]\n"
     ]
    }
   ],
   "source": [
    "tuple1 = (1,2,3)\n",
    "arr = np.array(tuple1)\n",
    "print(arr)"
   ]
  },
  {
   "cell_type": "markdown",
   "metadata": {},
   "source": [
    "ndarray => 튜플 변환"
   ]
  },
  {
   "cell_type": "code",
   "execution_count": 38,
   "metadata": {},
   "outputs": [
    {
     "name": "stdout",
     "output_type": "stream",
     "text": [
      "(1, 2, 3)\n"
     ]
    }
   ],
   "source": [
    "arr2 = np.array([1,2,3])\n",
    "tuple2 = tuple(arr2)\n",
    "print(tuple2)"
   ]
  },
  {
   "cell_type": "markdown",
   "metadata": {},
   "source": [
    "### 자료형변환(세트, 딕셔너리)\n",
    "세트변환"
   ]
  },
  {
   "cell_type": "code",
   "execution_count": 40,
   "metadata": {},
   "outputs": [
    {
     "name": "stdout",
     "output_type": "stream",
     "text": [
      "{1, 2, 3}\n",
      "1\n"
     ]
    }
   ],
   "source": [
    "set1 = {1,2,3}\n",
    "arr = np.array(set1)\n",
    "print(arr)\n",
    "\n",
    "print(arr.size)"
   ]
  },
  {
   "cell_type": "markdown",
   "metadata": {},
   "source": [
    "딕셔너리 변환"
   ]
  },
  {
   "cell_type": "code",
   "execution_count": 42,
   "metadata": {},
   "outputs": [
    {
     "name": "stdout",
     "output_type": "stream",
     "text": [
      "{'a': 1, 'b': 2, 'c': 3}\n",
      "1\n"
     ]
    }
   ],
   "source": [
    "dict1 = {'a':1, 'b':2, 'c':3}\n",
    "arr = np.array(dict1)\n",
    "print(arr)\n",
    "\n",
    "print(arr.size)"
   ]
  },
  {
   "cell_type": "markdown",
   "metadata": {},
   "source": [
    "### 배열 인덱싱\n",
    "리스트 인덱싱과 유사\n",
    "- ndarray[col]\n",
    "- ndarray[row][col]\n",
    "- ndarray[rank][row][col]"
   ]
  },
  {
   "cell_type": "code",
   "execution_count": 44,
   "metadata": {},
   "outputs": [
    {
     "name": "stdout",
     "output_type": "stream",
     "text": [
      "1\n",
      "4\n",
      "7\n"
     ]
    }
   ],
   "source": [
    "list_ = [[[1,2],[3,4]],[[5,6],[7,8]]]\n",
    "# 1 가져오기\n",
    "print(list_[0][0][0])\n",
    "# 4 가져오기\n",
    "print(list_[0][1][1])\n",
    "# 7 가져오기\n",
    "print(list_[1][1][0])\n",
    "\n"
   ]
  },
  {
   "cell_type": "markdown",
   "metadata": {},
   "source": [
    "배열인덱싱"
   ]
  },
  {
   "cell_type": "code",
   "execution_count": 1,
   "metadata": {},
   "outputs": [
    {
     "ename": "NameError",
     "evalue": "name 'np' is not defined",
     "output_type": "error",
     "traceback": [
      "\u001b[1;31m---------------------------------------------------------------------------\u001b[0m",
      "\u001b[1;31mNameError\u001b[0m                                 Traceback (most recent call last)",
      "\u001b[1;32mc:\\Study\\Study Python2\\01_넘파이 기초.ipynb Cell 50'\u001b[0m in \u001b[0;36m<cell line: 1>\u001b[1;34m()\u001b[0m\n\u001b[1;32m----> <a href='vscode-notebook-cell:/c%3A/Study/Study%20Python2/01_%EB%84%98%ED%8C%8C%EC%9D%B4%20%EA%B8%B0%EC%B4%88.ipynb#ch0000049?line=0'>1</a>\u001b[0m arr_ \u001b[39m=\u001b[39m np\u001b[39m.\u001b[39marray([[[\u001b[39m1\u001b[39m,\u001b[39m2\u001b[39m],[\u001b[39m3\u001b[39m,\u001b[39m4\u001b[39m]],[[\u001b[39m5\u001b[39m,\u001b[39m6\u001b[39m],[\u001b[39m7\u001b[39m,\u001b[39m8\u001b[39m]]])\n\u001b[0;32m      <a href='vscode-notebook-cell:/c%3A/Study/Study%20Python2/01_%EB%84%98%ED%8C%8C%EC%9D%B4%20%EA%B8%B0%EC%B4%88.ipynb#ch0000049?line=1'>2</a>\u001b[0m \u001b[39m# 1 가져오기\u001b[39;00m\n\u001b[0;32m      <a href='vscode-notebook-cell:/c%3A/Study/Study%20Python2/01_%EB%84%98%ED%8C%8C%EC%9D%B4%20%EA%B8%B0%EC%B4%88.ipynb#ch0000049?line=2'>3</a>\u001b[0m \u001b[39mprint\u001b[39m(arr_[\u001b[39m0\u001b[39m][\u001b[39m0\u001b[39m][\u001b[39m0\u001b[39m])\n",
      "\u001b[1;31mNameError\u001b[0m: name 'np' is not defined"
     ]
    }
   ],
   "source": [
    "arr_ = np.array([[[1,2],[3,4]],[[5,6],[7,8]]])\n",
    "# 1 가져오기\n",
    "print(arr_[0][0][0])\n",
    "# 4 가져오기\n",
    "print(arr_[0][1][1])\n",
    "# 7 가져오기\n",
    "print(arr_[1][1][0])"
   ]
  },
  {
   "cell_type": "markdown",
   "metadata": {},
   "source": [
    "ndarray의 인덱싱\n",
    "- array[row, col]\n",
    "- array[rank, row, col]"
   ]
  },
  {
   "cell_type": "code",
   "execution_count": 49,
   "metadata": {},
   "outputs": [
    {
     "name": "stdout",
     "output_type": "stream",
     "text": [
      "1\n",
      "4\n",
      "7\n"
     ]
    }
   ],
   "source": [
    "arr_ = np.array([[[1,2],[3,4]],[[5,6],[7,8]]])\n",
    "# 1 가져오기\n",
    "print(arr_[0,0,0])\n",
    "# 4 가져오기\n",
    "print(arr_[0,1,1])\n",
    "# 7 가져오기\n",
    "print(arr_[1,1,0])"
   ]
  },
  {
   "cell_type": "code",
   "execution_count": 50,
   "metadata": {},
   "outputs": [
    {
     "name": "stdout",
     "output_type": "stream",
     "text": [
      "[[1 2]]\n",
      "[[1 2]\n",
      " [5 6]]\n",
      "[1 4 5]\n",
      "[2 2]\n"
     ]
    }
   ],
   "source": [
    "arr_1 = np.array([[1,2],[3,4],[5,6]])  # 2x3 형태의 2차원 배열\n",
    "\n",
    "# 0행 가져와 2차원 배열 만들기\n",
    "print(arr_1[[0]])\n",
    "\n",
    "# 0, 2행 가져와 2차원 배열 만들기\n",
    "print(arr_1[[0,2]])\n",
    "\n",
    "# 다음 결과는?\n",
    "print(arr_1[[0,1,2],[0,1,0]]) # row1,col1 = 0,0 / row2,col2 = 1,1 / row3,col3 =2,0\n",
    "\n",
    "# 같은 위치 데이터 여러 번 사용가능\n",
    "print(arr_1[[0,0],[1,1]])\n"
   ]
  },
  {
   "cell_type": "code",
   "execution_count": 51,
   "metadata": {},
   "outputs": [
    {
     "name": "stdout",
     "output_type": "stream",
     "text": [
      "[ 1  6  7 11]\n"
     ]
    }
   ],
   "source": [
    "arr_2 = np.array([[1,2,3],[4,5,6],[7,8,9],[10,11,12]])\n",
    "\n",
    "# 두개의 1차원 배열 만들기\n",
    "b = np.array([0,1,2,3])\n",
    "c = np.array([0,2,0,1])\n",
    "\n",
    "# 다음 코드의 실행 결과는?\n",
    "print(arr_2[b,c])"
   ]
  },
  {
   "cell_type": "markdown",
   "metadata": {},
   "source": [
    "Boolean 인덱싱"
   ]
  },
  {
   "cell_type": "code",
   "execution_count": 52,
   "metadata": {},
   "outputs": [
    {
     "name": "stdout",
     "output_type": "stream",
     "text": [
      "[1 3 4]\n",
      "[3 4 5]\n"
     ]
    }
   ],
   "source": [
    "# 기본데이터\n",
    "arr = np.array([1,2,3,4,5])\n",
    "\n",
    "# True, False\n",
    "print(arr[[True,False,True,True,False]])\n",
    "\n",
    "# 조건\n",
    "print(arr[arr >=3])"
   ]
  },
  {
   "cell_type": "markdown",
   "metadata": {},
   "source": [
    "[문제2]\n",
    "score = np.array([[78,91,84,89,93,65],[82,87,96,79,91,73]])\n",
    "위와 같은 2x6 형태의 2차원 배열을 생성하고 각각 0행과 1행에서 90이상인 숫자를 추출해봅시다."
   ]
  },
  {
   "cell_type": "code",
   "execution_count": 57,
   "metadata": {},
   "outputs": [
    {
     "name": "stdout",
     "output_type": "stream",
     "text": [
      "[91 93]\n",
      "[96 91]\n"
     ]
    }
   ],
   "source": [
    "score = np.array([[78,91,84,89,93,65],[82,87,96,79,91,73]])\n",
    "\n",
    "print(score[0][score[0]>=90])\n",
    "print(score[1][score[1]>=90])\n"
   ]
  },
  {
   "cell_type": "markdown",
   "metadata": {},
   "source": [
    "### 배열 슬라이싱\n",
    "ndarray의 슬라이싱\n",
    "- 행과 열 부분을 나눠서 슬라이싱 가능\n",
    "- 다차원 배열의 부분 데이터를 추출할 때 유용"
   ]
  },
  {
   "cell_type": "code",
   "execution_count": 13,
   "metadata": {},
   "outputs": [
    {
     "name": "stdout",
     "output_type": "stream",
     "text": [
      "[ 1  6 11 16]\n",
      "[[ 1]\n",
      " [ 6]\n",
      " [11]\n",
      " [16]]\n"
     ]
    }
   ],
   "source": [
    "# 기본데이터 4x5 형태의 2차원 배열\n",
    "matrix = np.array([[1,2,3,4,5], [6,7,8,9,10], [11,12,13,14,15], [16,17,18,19,20]])\n",
    "\n",
    "## ndarray의 슬라이싱\n",
    "# 0열 전체 슬라이싱\n",
    "print(matrix[:,0])\n",
    "\n",
    "# 0열 전체 슬라이싱 (2차원유지)\n",
    "print(matrix[:,:1])"
   ]
  },
  {
   "cell_type": "code",
   "execution_count": 12,
   "metadata": {},
   "outputs": [
    {
     "name": "stdout",
     "output_type": "stream",
     "text": [
      "[ 6  7  8  9 10]\n",
      "[ 6  7  8  9 10]\n",
      "[[ 6  7  8  9 10]]\n"
     ]
    }
   ],
   "source": [
    "# 1행 전체 슬라이싱\n",
    "print(matrix[1,:])\n",
    "\n",
    "# 1행 전체 슬라이싱\n",
    "print(matrix[1])  # rank > row > col 순으로 :(클론) 생략가능\n",
    "\n",
    "# 1행 전체 슬라이싱(2차원 유지)\n",
    "print(matrix[1:2,:])  #or print(matrix[[1]])"
   ]
  },
  {
   "cell_type": "code",
   "execution_count": 11,
   "metadata": {},
   "outputs": [
    {
     "name": "stdout",
     "output_type": "stream",
     "text": [
      "[[ 4  5]\n",
      " [ 9 10]\n",
      " [14 15]\n",
      " [19 20]]\n",
      "[2 3 4]\n"
     ]
    }
   ],
   "source": [
    "# 3~4열 전체 슬라이싱\n",
    "print(matrix[:,3:])\n",
    "\n",
    "# 0행, 1~3열 슬라이싱\n",
    "print(matrix[0,1:-1])"
   ]
  },
  {
   "cell_type": "code",
   "execution_count": 17,
   "metadata": {},
   "outputs": [
    {
     "name": "stdout",
     "output_type": "stream",
     "text": [
      "[[13 14 15]\n",
      " [18 19 20]]\n",
      "[[ 7  8]\n",
      " [12 13]]\n"
     ]
    }
   ],
   "source": [
    "# 2~3행, 2~4열 슬라이싱\n",
    "print(matrix[-2:,-3:])\n",
    "\n",
    "# 1~2행, 1~2열 슬라이싱\n",
    "print(matrix[1:-1,1:3])"
   ]
  },
  {
   "cell_type": "markdown",
   "metadata": {},
   "source": [
    "### 배열 인덱싱, 슬라이싱 복합"
   ]
  },
  {
   "cell_type": "markdown",
   "metadata": {},
   "source": [
    "### "
   ]
  },
  {
   "cell_type": "code",
   "execution_count": 19,
   "metadata": {},
   "outputs": [
    {
     "name": "stdout",
     "output_type": "stream",
     "text": [
      "[[ 8  9 10]\n",
      " [18 19 20]]\n",
      "[[ 7  9]\n",
      " [12 14]]\n"
     ]
    }
   ],
   "source": [
    "# 1, 3행, 2~4열 슬라이싱\n",
    "print(matrix[[1,3],2:])\n",
    "\n",
    "# 1~2행, 1, 3열 슬라이싱\n",
    "print(matrix[1:-1,[1,3]])"
   ]
  },
  {
   "cell_type": "markdown",
   "metadata": {},
   "source": [
    "[문제3]\n",
    "tensor = np.array([[[1,2,3],[4,5,6]],[[7,8,9],[10,11,12]]])\n",
    "위와 같은 2x2x3 형태의 3차원 배열을 생성하고 인덱싱을 사용해 [10 2 6] 배열을 추출해봅시다"
   ]
  },
  {
   "cell_type": "code",
   "execution_count": 24,
   "metadata": {},
   "outputs": [
    {
     "name": "stdout",
     "output_type": "stream",
     "text": [
      "[10  2  6]\n"
     ]
    }
   ],
   "source": [
    "tensor = np.array([[[1,2,3],[4,5,6]],[[7,8,9],[10,11,12]]])\n",
    "print(tensor[[1,0,0],[1,0,1],[0,1,2]])"
   ]
  },
  {
   "cell_type": "markdown",
   "metadata": {},
   "source": [
    "[문제3]\n",
    "문제 3의 tensor 배열에서 인덱싱, 슬라이싱을 사용해 [[1 2]\n",
    "                                                    [4 5]] 배열과 [9 12] 배열을 추출해봅시다"
   ]
  },
  {
   "cell_type": "code",
   "execution_count": 44,
   "metadata": {},
   "outputs": [
    {
     "name": "stdout",
     "output_type": "stream",
     "text": [
      "[[1 2]\n",
      " [4 5]]\n",
      "[ 9 12]\n",
      "[[ 9]\n",
      " [12]]\n"
     ]
    }
   ],
   "source": [
    "print(tensor[0,:,:2])\n",
    "print(tensor[1,:,2])\n",
    "print(tensor[1,:,-1:])"
   ]
  }
 ],
 "metadata": {
  "interpreter": {
   "hash": "38ae1ba9371524da054e8e3fbefd778d16b5a8ac7937a3f395010f627bb73919"
  },
  "kernelspec": {
   "display_name": "Python 3.9.12 64-bit",
   "language": "python",
   "name": "python3"
  },
  "language_info": {
   "codemirror_mode": {
    "name": "ipython",
    "version": 3
   },
   "file_extension": ".py",
   "mimetype": "text/x-python",
   "name": "python",
   "nbconvert_exporter": "python",
   "pygments_lexer": "ipython3",
   "version": "3.9.12"
  },
  "orig_nbformat": 4
 },
 "nbformat": 4,
 "nbformat_minor": 2
}
