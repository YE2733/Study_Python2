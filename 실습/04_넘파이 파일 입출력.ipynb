{
 "cells": [
  {
   "cell_type": "code",
   "execution_count": 2,
   "metadata": {},
   "outputs": [],
   "source": [
    "import numpy as np"
   ]
  },
  {
   "cell_type": "markdown",
   "metadata": {},
   "source": [
    "### 파일 처리\n",
    "- ndarray의 정보를 파일로 저장할 수 있다.\n",
    "- 일반적인 파일 확장자는 npy를 사용한다."
   ]
  },
  {
   "cell_type": "markdown",
   "metadata": {},
   "source": [
    "파일 저장(tofile)"
   ]
  },
  {
   "cell_type": "code",
   "execution_count": 3,
   "metadata": {},
   "outputs": [
    {
     "name": "stdout",
     "output_type": "stream",
     "text": [
      "[[-0.13668569 -0.70078759  0.57526571  0.21907485  1.72530128]\n",
      " [ 1.12893078  0.16578261 -0.39925898  0.61451696  0.95427301]\n",
      " [-0.94834851  0.26403572  0.4059866   2.32584331 -1.13295394]]\n"
     ]
    }
   ],
   "source": [
    "n = np.random.randn(3,5)\n",
    "print(n)\n",
    "n.tofile('n.npy')"
   ]
  },
  {
   "cell_type": "markdown",
   "metadata": {},
   "source": [
    "파일 불러오기(fromfile)"
   ]
  },
  {
   "cell_type": "code",
   "execution_count": 4,
   "metadata": {},
   "outputs": [
    {
     "name": "stdout",
     "output_type": "stream",
     "text": [
      "[-0.13668569 -0.70078759  0.57526571  0.21907485  1.72530128  1.12893078\n",
      "  0.16578261 -0.39925898  0.61451696  0.95427301 -0.94834851  0.26403572\n",
      "  0.4059866   2.32584331 -1.13295394]\n"
     ]
    }
   ],
   "source": [
    "m = np.fromfile('C:/Study/Study Python2/n.npy')\n",
    "print(m)"
   ]
  },
  {
   "cell_type": "markdown",
   "metadata": {},
   "source": [
    "파일저장, 불러오기(np.save, np.load)"
   ]
  },
  {
   "cell_type": "code",
   "execution_count": 5,
   "metadata": {},
   "outputs": [
    {
     "name": "stdout",
     "output_type": "stream",
     "text": [
      "[[-0.13668569 -0.70078759  0.57526571  0.21907485  1.72530128]\n",
      " [ 1.12893078  0.16578261 -0.39925898  0.61451696  0.95427301]\n",
      " [-0.94834851  0.26403572  0.4059866   2.32584331 -1.13295394]]\n"
     ]
    }
   ],
   "source": [
    "np.save('n1.npy',n)\n",
    "m1 = np.load('n1.npy')\n",
    "print(m1)"
   ]
  },
  {
   "cell_type": "code",
   "execution_count": null,
   "metadata": {},
   "outputs": [],
   "source": [
    "# n.tofile > n.npy\n",
    "# np.load('n.npy')\n",
    "# np.load('n.npy') # 안 열린다.\n"
   ]
  },
  {
   "cell_type": "markdown",
   "metadata": {},
   "source": [
    "주의해야할점.."
   ]
  },
  {
   "cell_type": "code",
   "execution_count": null,
   "metadata": {},
   "outputs": [],
   "source": []
  }
 ],
 "metadata": {
  "interpreter": {
   "hash": "38ae1ba9371524da054e8e3fbefd778d16b5a8ac7937a3f395010f627bb73919"
  },
  "kernelspec": {
   "display_name": "Python 3.9.12 64-bit",
   "language": "python",
   "name": "python3"
  },
  "language_info": {
   "codemirror_mode": {
    "name": "ipython",
    "version": 3
   },
   "file_extension": ".py",
   "mimetype": "text/x-python",
   "name": "python",
   "nbconvert_exporter": "python",
   "pygments_lexer": "ipython3",
   "version": "3.9.12"
  },
  "orig_nbformat": 4
 },
 "nbformat": 4,
 "nbformat_minor": 2
}
